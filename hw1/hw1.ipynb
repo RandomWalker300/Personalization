{
 "cells": [
  {
   "cell_type": "code",
   "execution_count": 1,
   "metadata": {},
   "outputs": [],
   "source": [
    "import math\n",
    "import numpy as np\n",
    "import pandas as pd\n",
    "from sklearn.model_selection import KFold\n",
    "from scipy.optimize import minimize\n",
    "import matplotlib.pyplot as plt\n",
    "%matplotlib inline"
   ]
  },
  {
   "cell_type": "code",
   "execution_count": null,
   "metadata": {},
   "outputs": [],
   "source": []
  },
  {
   "cell_type": "markdown",
   "metadata": {},
   "source": [
    "### Setup - Preprocessed Data \n",
    "randomly split dataset into train and test set <br>\n",
    "by using `pandas` and `sklearn.model_selection`"
   ]
  },
  {
   "cell_type": "code",
   "execution_count": 2,
   "metadata": {},
   "outputs": [
    {
     "name": "stdout",
     "output_type": "stream",
     "text": [
      "features:  ['fixed acidity' 'volatile acidity' 'citric acid' 'residual sugar'\n",
      " 'chlorides' 'free sulfur dioxide' 'total sulfur dioxide' 'density' 'pH'\n",
      " 'sulphates' 'alcohol']\n",
      "target:  ['quality']\n",
      "data shape:  (1599, 12)\n"
     ]
    },
    {
     "data": {
      "text/html": [
       "<div>\n",
       "<style scoped>\n",
       "    .dataframe tbody tr th:only-of-type {\n",
       "        vertical-align: middle;\n",
       "    }\n",
       "\n",
       "    .dataframe tbody tr th {\n",
       "        vertical-align: top;\n",
       "    }\n",
       "\n",
       "    .dataframe thead th {\n",
       "        text-align: right;\n",
       "    }\n",
       "</style>\n",
       "<table border=\"1\" class=\"dataframe\">\n",
       "  <thead>\n",
       "    <tr style=\"text-align: right;\">\n",
       "      <th></th>\n",
       "      <th>fixed acidity</th>\n",
       "      <th>volatile acidity</th>\n",
       "      <th>citric acid</th>\n",
       "      <th>residual sugar</th>\n",
       "      <th>chlorides</th>\n",
       "      <th>free sulfur dioxide</th>\n",
       "      <th>total sulfur dioxide</th>\n",
       "      <th>density</th>\n",
       "      <th>pH</th>\n",
       "      <th>sulphates</th>\n",
       "      <th>alcohol</th>\n",
       "      <th>quality</th>\n",
       "    </tr>\n",
       "  </thead>\n",
       "  <tbody>\n",
       "    <tr>\n",
       "      <td>0</td>\n",
       "      <td>7.4</td>\n",
       "      <td>0.70</td>\n",
       "      <td>0.00</td>\n",
       "      <td>1.9</td>\n",
       "      <td>0.076</td>\n",
       "      <td>11.0</td>\n",
       "      <td>34.0</td>\n",
       "      <td>0.9978</td>\n",
       "      <td>3.51</td>\n",
       "      <td>0.56</td>\n",
       "      <td>9.4</td>\n",
       "      <td>5</td>\n",
       "    </tr>\n",
       "    <tr>\n",
       "      <td>1</td>\n",
       "      <td>7.8</td>\n",
       "      <td>0.88</td>\n",
       "      <td>0.00</td>\n",
       "      <td>2.6</td>\n",
       "      <td>0.098</td>\n",
       "      <td>25.0</td>\n",
       "      <td>67.0</td>\n",
       "      <td>0.9968</td>\n",
       "      <td>3.20</td>\n",
       "      <td>0.68</td>\n",
       "      <td>9.8</td>\n",
       "      <td>5</td>\n",
       "    </tr>\n",
       "    <tr>\n",
       "      <td>2</td>\n",
       "      <td>7.8</td>\n",
       "      <td>0.76</td>\n",
       "      <td>0.04</td>\n",
       "      <td>2.3</td>\n",
       "      <td>0.092</td>\n",
       "      <td>15.0</td>\n",
       "      <td>54.0</td>\n",
       "      <td>0.9970</td>\n",
       "      <td>3.26</td>\n",
       "      <td>0.65</td>\n",
       "      <td>9.8</td>\n",
       "      <td>5</td>\n",
       "    </tr>\n",
       "  </tbody>\n",
       "</table>\n",
       "</div>"
      ],
      "text/plain": [
       "   fixed acidity  volatile acidity  citric acid  residual sugar  chlorides  \\\n",
       "0            7.4              0.70         0.00             1.9      0.076   \n",
       "1            7.8              0.88         0.00             2.6      0.098   \n",
       "2            7.8              0.76         0.04             2.3      0.092   \n",
       "\n",
       "   free sulfur dioxide  total sulfur dioxide  density    pH  sulphates  \\\n",
       "0                 11.0                  34.0   0.9978  3.51       0.56   \n",
       "1                 25.0                  67.0   0.9968  3.20       0.68   \n",
       "2                 15.0                  54.0   0.9970  3.26       0.65   \n",
       "\n",
       "   alcohol  quality  \n",
       "0      9.4        5  \n",
       "1      9.8        5  \n",
       "2      9.8        5  "
      ]
     },
     "execution_count": 2,
     "metadata": {},
     "output_type": "execute_result"
    }
   ],
   "source": [
    "data = pd.read_csv(\"winequalityred.csv\", sep=\";\")\n",
    "y = [\"quality\"]\n",
    "x = data.drop(y, axis=1).columns.values\n",
    "\n",
    "print(\"features: \", x)\n",
    "print(\"target: \", y)\n",
    "print(\"data shape: \", data.shape)\n",
    "data.head(3)"
   ]
  },
  {
   "cell_type": "code",
   "execution_count": 3,
   "metadata": {},
   "outputs": [],
   "source": [
    "kf = KFold(shuffle=True, n_splits=5)\n",
    "for trainIdx, testIdx in kf.split(data):\n",
    "    X_train, X_test = data[x].iloc[trainIdx], data[x].iloc[testIdx]\n",
    "    y_train, y_test = data[y].iloc[trainIdx], data[y].iloc[testIdx]"
   ]
  },
  {
   "cell_type": "code",
   "execution_count": 4,
   "metadata": {},
   "outputs": [
    {
     "name": "stdout",
     "output_type": "stream",
     "text": [
      "(1280, 11) (1280, 1)\n"
     ]
    },
    {
     "data": {
      "text/html": [
       "<div>\n",
       "<style scoped>\n",
       "    .dataframe tbody tr th:only-of-type {\n",
       "        vertical-align: middle;\n",
       "    }\n",
       "\n",
       "    .dataframe tbody tr th {\n",
       "        vertical-align: top;\n",
       "    }\n",
       "\n",
       "    .dataframe thead th {\n",
       "        text-align: right;\n",
       "    }\n",
       "</style>\n",
       "<table border=\"1\" class=\"dataframe\">\n",
       "  <thead>\n",
       "    <tr style=\"text-align: right;\">\n",
       "      <th></th>\n",
       "      <th>fixed acidity</th>\n",
       "      <th>volatile acidity</th>\n",
       "      <th>citric acid</th>\n",
       "      <th>residual sugar</th>\n",
       "      <th>chlorides</th>\n",
       "      <th>free sulfur dioxide</th>\n",
       "      <th>total sulfur dioxide</th>\n",
       "      <th>density</th>\n",
       "      <th>pH</th>\n",
       "      <th>sulphates</th>\n",
       "      <th>alcohol</th>\n",
       "      <th>quality</th>\n",
       "    </tr>\n",
       "  </thead>\n",
       "  <tbody>\n",
       "    <tr>\n",
       "      <td>0</td>\n",
       "      <td>7.4</td>\n",
       "      <td>0.70</td>\n",
       "      <td>0.00</td>\n",
       "      <td>1.9</td>\n",
       "      <td>0.076</td>\n",
       "      <td>11.0</td>\n",
       "      <td>34.0</td>\n",
       "      <td>0.9978</td>\n",
       "      <td>3.51</td>\n",
       "      <td>0.56</td>\n",
       "      <td>9.4</td>\n",
       "      <td>5</td>\n",
       "    </tr>\n",
       "    <tr>\n",
       "      <td>1</td>\n",
       "      <td>7.8</td>\n",
       "      <td>0.88</td>\n",
       "      <td>0.00</td>\n",
       "      <td>2.6</td>\n",
       "      <td>0.098</td>\n",
       "      <td>25.0</td>\n",
       "      <td>67.0</td>\n",
       "      <td>0.9968</td>\n",
       "      <td>3.20</td>\n",
       "      <td>0.68</td>\n",
       "      <td>9.8</td>\n",
       "      <td>5</td>\n",
       "    </tr>\n",
       "    <tr>\n",
       "      <td>2</td>\n",
       "      <td>7.8</td>\n",
       "      <td>0.76</td>\n",
       "      <td>0.04</td>\n",
       "      <td>2.3</td>\n",
       "      <td>0.092</td>\n",
       "      <td>15.0</td>\n",
       "      <td>54.0</td>\n",
       "      <td>0.9970</td>\n",
       "      <td>3.26</td>\n",
       "      <td>0.65</td>\n",
       "      <td>9.8</td>\n",
       "      <td>5</td>\n",
       "    </tr>\n",
       "  </tbody>\n",
       "</table>\n",
       "</div>"
      ],
      "text/plain": [
       "   fixed acidity  volatile acidity  citric acid  residual sugar  chlorides  \\\n",
       "0            7.4              0.70         0.00             1.9      0.076   \n",
       "1            7.8              0.88         0.00             2.6      0.098   \n",
       "2            7.8              0.76         0.04             2.3      0.092   \n",
       "\n",
       "   free sulfur dioxide  total sulfur dioxide  density    pH  sulphates  \\\n",
       "0                 11.0                  34.0   0.9978  3.51       0.56   \n",
       "1                 25.0                  67.0   0.9968  3.20       0.68   \n",
       "2                 15.0                  54.0   0.9970  3.26       0.65   \n",
       "\n",
       "   alcohol  quality  \n",
       "0      9.4        5  \n",
       "1      9.8        5  \n",
       "2      9.8        5  "
      ]
     },
     "execution_count": 4,
     "metadata": {},
     "output_type": "execute_result"
    }
   ],
   "source": [
    "print(X_train.shape, y_train.shape)\n",
    "pd.concat([X_train.head(3), y_train.head(3)], axis=1)"
   ]
  },
  {
   "cell_type": "code",
   "execution_count": 5,
   "metadata": {},
   "outputs": [
    {
     "data": {
      "text/html": [
       "<div>\n",
       "<style scoped>\n",
       "    .dataframe tbody tr th:only-of-type {\n",
       "        vertical-align: middle;\n",
       "    }\n",
       "\n",
       "    .dataframe tbody tr th {\n",
       "        vertical-align: top;\n",
       "    }\n",
       "\n",
       "    .dataframe thead th {\n",
       "        text-align: right;\n",
       "    }\n",
       "</style>\n",
       "<table border=\"1\" class=\"dataframe\">\n",
       "  <thead>\n",
       "    <tr style=\"text-align: right;\">\n",
       "      <th></th>\n",
       "      <th>fixed acidity</th>\n",
       "      <th>volatile acidity</th>\n",
       "      <th>citric acid</th>\n",
       "      <th>residual sugar</th>\n",
       "      <th>chlorides</th>\n",
       "      <th>free sulfur dioxide</th>\n",
       "      <th>total sulfur dioxide</th>\n",
       "      <th>density</th>\n",
       "      <th>pH</th>\n",
       "      <th>sulphates</th>\n",
       "      <th>alcohol</th>\n",
       "    </tr>\n",
       "  </thead>\n",
       "  <tbody>\n",
       "    <tr>\n",
       "      <td>count</td>\n",
       "      <td>1280.000000</td>\n",
       "      <td>1280.000000</td>\n",
       "      <td>1280.000000</td>\n",
       "      <td>1280.000000</td>\n",
       "      <td>1280.000000</td>\n",
       "      <td>1280.000000</td>\n",
       "      <td>1280.000000</td>\n",
       "      <td>1280.000000</td>\n",
       "      <td>1280.000000</td>\n",
       "      <td>1280.000000</td>\n",
       "      <td>1280.000000</td>\n",
       "    </tr>\n",
       "    <tr>\n",
       "      <td>mean</td>\n",
       "      <td>8.335312</td>\n",
       "      <td>0.525844</td>\n",
       "      <td>0.270695</td>\n",
       "      <td>2.527188</td>\n",
       "      <td>0.087753</td>\n",
       "      <td>15.767188</td>\n",
       "      <td>46.172266</td>\n",
       "      <td>0.996752</td>\n",
       "      <td>3.308023</td>\n",
       "      <td>0.658180</td>\n",
       "      <td>10.406823</td>\n",
       "    </tr>\n",
       "    <tr>\n",
       "      <td>std</td>\n",
       "      <td>1.715610</td>\n",
       "      <td>0.179366</td>\n",
       "      <td>0.194513</td>\n",
       "      <td>1.414204</td>\n",
       "      <td>0.047886</td>\n",
       "      <td>10.556676</td>\n",
       "      <td>33.046172</td>\n",
       "      <td>0.001870</td>\n",
       "      <td>0.155782</td>\n",
       "      <td>0.170643</td>\n",
       "      <td>1.047701</td>\n",
       "    </tr>\n",
       "    <tr>\n",
       "      <td>min</td>\n",
       "      <td>4.700000</td>\n",
       "      <td>0.120000</td>\n",
       "      <td>0.000000</td>\n",
       "      <td>0.900000</td>\n",
       "      <td>0.012000</td>\n",
       "      <td>1.000000</td>\n",
       "      <td>6.000000</td>\n",
       "      <td>0.990070</td>\n",
       "      <td>2.740000</td>\n",
       "      <td>0.370000</td>\n",
       "      <td>8.400000</td>\n",
       "    </tr>\n",
       "    <tr>\n",
       "      <td>25%</td>\n",
       "      <td>7.100000</td>\n",
       "      <td>0.390000</td>\n",
       "      <td>0.090000</td>\n",
       "      <td>1.900000</td>\n",
       "      <td>0.070000</td>\n",
       "      <td>7.000000</td>\n",
       "      <td>22.000000</td>\n",
       "      <td>0.995660</td>\n",
       "      <td>3.200000</td>\n",
       "      <td>0.550000</td>\n",
       "      <td>9.500000</td>\n",
       "    </tr>\n",
       "    <tr>\n",
       "      <td>50%</td>\n",
       "      <td>7.900000</td>\n",
       "      <td>0.520000</td>\n",
       "      <td>0.260000</td>\n",
       "      <td>2.200000</td>\n",
       "      <td>0.079000</td>\n",
       "      <td>13.000000</td>\n",
       "      <td>37.000000</td>\n",
       "      <td>0.996755</td>\n",
       "      <td>3.310000</td>\n",
       "      <td>0.620000</td>\n",
       "      <td>10.100000</td>\n",
       "    </tr>\n",
       "    <tr>\n",
       "      <td>75%</td>\n",
       "      <td>9.200000</td>\n",
       "      <td>0.635000</td>\n",
       "      <td>0.420000</td>\n",
       "      <td>2.600000</td>\n",
       "      <td>0.091000</td>\n",
       "      <td>21.000000</td>\n",
       "      <td>62.000000</td>\n",
       "      <td>0.997830</td>\n",
       "      <td>3.400000</td>\n",
       "      <td>0.730000</td>\n",
       "      <td>11.016667</td>\n",
       "    </tr>\n",
       "    <tr>\n",
       "      <td>max</td>\n",
       "      <td>15.900000</td>\n",
       "      <td>1.580000</td>\n",
       "      <td>1.000000</td>\n",
       "      <td>15.500000</td>\n",
       "      <td>0.611000</td>\n",
       "      <td>72.000000</td>\n",
       "      <td>289.000000</td>\n",
       "      <td>1.003690</td>\n",
       "      <td>4.010000</td>\n",
       "      <td>2.000000</td>\n",
       "      <td>14.900000</td>\n",
       "    </tr>\n",
       "  </tbody>\n",
       "</table>\n",
       "</div>"
      ],
      "text/plain": [
       "       fixed acidity  volatile acidity  citric acid  residual sugar  \\\n",
       "count    1280.000000       1280.000000  1280.000000     1280.000000   \n",
       "mean        8.335312          0.525844     0.270695        2.527188   \n",
       "std         1.715610          0.179366     0.194513        1.414204   \n",
       "min         4.700000          0.120000     0.000000        0.900000   \n",
       "25%         7.100000          0.390000     0.090000        1.900000   \n",
       "50%         7.900000          0.520000     0.260000        2.200000   \n",
       "75%         9.200000          0.635000     0.420000        2.600000   \n",
       "max        15.900000          1.580000     1.000000       15.500000   \n",
       "\n",
       "         chlorides  free sulfur dioxide  total sulfur dioxide      density  \\\n",
       "count  1280.000000          1280.000000           1280.000000  1280.000000   \n",
       "mean      0.087753            15.767188             46.172266     0.996752   \n",
       "std       0.047886            10.556676             33.046172     0.001870   \n",
       "min       0.012000             1.000000              6.000000     0.990070   \n",
       "25%       0.070000             7.000000             22.000000     0.995660   \n",
       "50%       0.079000            13.000000             37.000000     0.996755   \n",
       "75%       0.091000            21.000000             62.000000     0.997830   \n",
       "max       0.611000            72.000000            289.000000     1.003690   \n",
       "\n",
       "                pH    sulphates      alcohol  \n",
       "count  1280.000000  1280.000000  1280.000000  \n",
       "mean      3.308023     0.658180    10.406823  \n",
       "std       0.155782     0.170643     1.047701  \n",
       "min       2.740000     0.370000     8.400000  \n",
       "25%       3.200000     0.550000     9.500000  \n",
       "50%       3.310000     0.620000    10.100000  \n",
       "75%       3.400000     0.730000    11.016667  \n",
       "max       4.010000     2.000000    14.900000  "
      ]
     },
     "execution_count": 5,
     "metadata": {},
     "output_type": "execute_result"
    }
   ],
   "source": [
    "X_train.describe()"
   ]
  },
  {
   "cell_type": "code",
   "execution_count": 6,
   "metadata": {},
   "outputs": [
    {
     "name": "stdout",
     "output_type": "stream",
     "text": [
      "(319, 11) (319, 1)\n"
     ]
    },
    {
     "data": {
      "text/html": [
       "<div>\n",
       "<style scoped>\n",
       "    .dataframe tbody tr th:only-of-type {\n",
       "        vertical-align: middle;\n",
       "    }\n",
       "\n",
       "    .dataframe tbody tr th {\n",
       "        vertical-align: top;\n",
       "    }\n",
       "\n",
       "    .dataframe thead th {\n",
       "        text-align: right;\n",
       "    }\n",
       "</style>\n",
       "<table border=\"1\" class=\"dataframe\">\n",
       "  <thead>\n",
       "    <tr style=\"text-align: right;\">\n",
       "      <th></th>\n",
       "      <th>fixed acidity</th>\n",
       "      <th>volatile acidity</th>\n",
       "      <th>citric acid</th>\n",
       "      <th>residual sugar</th>\n",
       "      <th>chlorides</th>\n",
       "      <th>free sulfur dioxide</th>\n",
       "      <th>total sulfur dioxide</th>\n",
       "      <th>density</th>\n",
       "      <th>pH</th>\n",
       "      <th>sulphates</th>\n",
       "      <th>alcohol</th>\n",
       "      <th>quality</th>\n",
       "    </tr>\n",
       "  </thead>\n",
       "  <tbody>\n",
       "    <tr>\n",
       "      <td>3</td>\n",
       "      <td>11.2</td>\n",
       "      <td>0.28</td>\n",
       "      <td>0.56</td>\n",
       "      <td>1.9</td>\n",
       "      <td>0.075</td>\n",
       "      <td>17.0</td>\n",
       "      <td>60.0</td>\n",
       "      <td>0.9980</td>\n",
       "      <td>3.16</td>\n",
       "      <td>0.58</td>\n",
       "      <td>9.8</td>\n",
       "      <td>6</td>\n",
       "    </tr>\n",
       "    <tr>\n",
       "      <td>13</td>\n",
       "      <td>7.8</td>\n",
       "      <td>0.61</td>\n",
       "      <td>0.29</td>\n",
       "      <td>1.6</td>\n",
       "      <td>0.114</td>\n",
       "      <td>9.0</td>\n",
       "      <td>29.0</td>\n",
       "      <td>0.9974</td>\n",
       "      <td>3.26</td>\n",
       "      <td>1.56</td>\n",
       "      <td>9.1</td>\n",
       "      <td>5</td>\n",
       "    </tr>\n",
       "    <tr>\n",
       "      <td>23</td>\n",
       "      <td>8.5</td>\n",
       "      <td>0.49</td>\n",
       "      <td>0.11</td>\n",
       "      <td>2.3</td>\n",
       "      <td>0.084</td>\n",
       "      <td>9.0</td>\n",
       "      <td>67.0</td>\n",
       "      <td>0.9968</td>\n",
       "      <td>3.17</td>\n",
       "      <td>0.53</td>\n",
       "      <td>9.4</td>\n",
       "      <td>5</td>\n",
       "    </tr>\n",
       "  </tbody>\n",
       "</table>\n",
       "</div>"
      ],
      "text/plain": [
       "    fixed acidity  volatile acidity  citric acid  residual sugar  chlorides  \\\n",
       "3            11.2              0.28         0.56             1.9      0.075   \n",
       "13            7.8              0.61         0.29             1.6      0.114   \n",
       "23            8.5              0.49         0.11             2.3      0.084   \n",
       "\n",
       "    free sulfur dioxide  total sulfur dioxide  density    pH  sulphates  \\\n",
       "3                  17.0                  60.0   0.9980  3.16       0.58   \n",
       "13                  9.0                  29.0   0.9974  3.26       1.56   \n",
       "23                  9.0                  67.0   0.9968  3.17       0.53   \n",
       "\n",
       "    alcohol  quality  \n",
       "3       9.8        6  \n",
       "13      9.1        5  \n",
       "23      9.4        5  "
      ]
     },
     "execution_count": 6,
     "metadata": {},
     "output_type": "execute_result"
    }
   ],
   "source": [
    "print(X_test.shape, y_test.shape)\n",
    "pd.concat([X_test.head(3), y_test.head(3)], axis=1)"
   ]
  },
  {
   "cell_type": "code",
   "execution_count": null,
   "metadata": {},
   "outputs": [],
   "source": []
  },
  {
   "cell_type": "code",
   "execution_count": null,
   "metadata": {},
   "outputs": [],
   "source": []
  },
  {
   "cell_type": "markdown",
   "metadata": {},
   "source": [
    "### Regression equations and functions\n",
    "1. adding intercept\n",
    "2. the equation for a the linear model that predicts y from X\n",
    "3. the equation for computing the Residual Sum of Squares (RSS) for the linear model\n",
    "\n",
    "by using `pandas` and `numpy`"
   ]
  },
  {
   "cell_type": "code",
   "execution_count": 7,
   "metadata": {},
   "outputs": [],
   "source": [
    "def predict(beta, X):\n",
    "    if isinstance(beta, (pd.DataFrame, pd.Series)):\n",
    "        beta = beta.values\n",
    "    \n",
    "    if isinstance(X, (pd.DataFrame, pd.Series)):\n",
    "        index = X.index.values\n",
    "        X = X.values\n",
    "    \n",
    "    if beta.shape[0] - X.shape[1] == 1:\n",
    "        X = np.concatenate([np.ones(shape=(X.shape[0], 1)), X], axis=1)\n",
    "    \n",
    "    return pd.DataFrame(np.matmul(X, beta), index=index, columns=[\"y_hat\"])\n",
    "\n",
    "\n",
    "def RSS(beta, X, y):\n",
    "    tmp = pd.concat([y, predict(beta, X)], axis=1)\n",
    "    \n",
    "    if pd.isnull(tmp).any(axis=1).sum():\n",
    "        raise ValueError(\"y and y_hat indexes are mismatched\")\n",
    "        \n",
    "    return tmp.apply(lambda s: (s[0] - s[1])**2, axis=1).sum()"
   ]
  },
  {
   "cell_type": "code",
   "execution_count": null,
   "metadata": {},
   "outputs": [],
   "source": []
  },
  {
   "cell_type": "code",
   "execution_count": null,
   "metadata": {},
   "outputs": [],
   "source": []
  },
  {
   "cell_type": "markdown",
   "metadata": {},
   "source": [
    "### Training Models\n",
    "by using `pandas` and `scipy.optimize`"
   ]
  },
  {
   "cell_type": "code",
   "execution_count": 8,
   "metadata": {},
   "outputs": [],
   "source": [
    "beta = np.random.normal(0, 1, (X_train.shape[1] + 1, 1))\n",
    "opt = minimize(fun=RSS, x0=beta, args=(X_train, y_train))\n",
    "beta_hat = opt.x"
   ]
  },
  {
   "cell_type": "code",
   "execution_count": 9,
   "metadata": {},
   "outputs": [
    {
     "data": {
      "text/plain": [
       "array([ 2.70642827e+01,  3.96459340e-02, -1.11543978e+00, -2.39561802e-01,\n",
       "        2.57632166e-02, -1.86784461e+00,  1.77171233e-03, -3.03120795e-03,\n",
       "       -2.31606906e+01, -3.73597585e-01,  9.51341691e-01,  2.69295509e-01])"
      ]
     },
     "execution_count": 9,
     "metadata": {},
     "output_type": "execute_result"
    }
   ],
   "source": [
    "beta_hat"
   ]
  },
  {
   "cell_type": "code",
   "execution_count": 10,
   "metadata": {},
   "outputs": [
    {
     "data": {
      "text/plain": [
       "548.0476221278324"
      ]
     },
     "execution_count": 10,
     "metadata": {},
     "output_type": "execute_result"
    }
   ],
   "source": [
    "RSS(beta_hat, X_train, y_train)"
   ]
  },
  {
   "cell_type": "code",
   "execution_count": null,
   "metadata": {},
   "outputs": [],
   "source": []
  },
  {
   "cell_type": "code",
   "execution_count": null,
   "metadata": {},
   "outputs": [],
   "source": []
  },
  {
   "cell_type": "markdown",
   "metadata": {},
   "source": [
    "### Question 1"
   ]
  },
  {
   "cell_type": "markdown",
   "metadata": {},
   "source": [
    "1. What are the qualitative results from your model? <br>\n",
    "2. Which features seem to be most important? <br>\n",
    "3. Do you think that the magnitude of the features in X may affect the results <br>\n",
    "(for example, the average total sulfur dioxide across all wines is 46.47, <br>\n",
    " but the average chlorides is only 0.087)."
   ]
  },
  {
   "cell_type": "markdown",
   "metadata": {},
   "source": [
    "##### Ans:\n",
    "<div class=\"alert alert-block alert-info\">\n",
    "1. my qualitative results show that density is the most significant feature, which has a negative relation with wine quality(y) <br>\n",
    "2. density (with coefficient: -23.161) <br>\n",
    "3. the magnitude (mean) of the features does not affect the coefficient, but the standard deviation of the features does. The density has the smallest standard deviation, and get the most significant coefficient. The chlorides has the second smallest standard deviation, and get the second significant coefficient. Hence, the magnitude of the features in X does not affect the results. </div>"
   ]
  },
  {
   "cell_type": "code",
   "execution_count": 11,
   "metadata": {},
   "outputs": [
    {
     "data": {
      "text/plain": [
       "density                -23.161\n",
       "chlorides               -1.868\n",
       "volatile acidity        -1.115\n",
       "pH                      -0.374\n",
       "citric acid             -0.240\n",
       "total sulfur dioxide    -0.003\n",
       "free sulfur dioxide      0.002\n",
       "residual sugar           0.026\n",
       "fixed acidity            0.040\n",
       "alcohol                  0.269\n",
       "sulphates                0.951\n",
       "intercept               27.064\n",
       "dtype: float64"
      ]
     },
     "execution_count": 11,
     "metadata": {},
     "output_type": "execute_result"
    }
   ],
   "source": [
    "pd.Series(beta_hat, index=[\"intercept\"] + X_train.columns.values.tolist())\\\n",
    "    .round(3)\\\n",
    "    .sort_values()"
   ]
  },
  {
   "cell_type": "code",
   "execution_count": 12,
   "metadata": {},
   "outputs": [
    {
     "data": {
      "text/plain": [
       "<BarContainer object of 11 artists>"
      ]
     },
     "execution_count": 12,
     "metadata": {},
     "output_type": "execute_result"
    },
    {
     "data": {
      "image/png": "[encoded data removed]",
      "text/plain": [
       "<Figure size 1080x576 with 1 Axes>"
      ]
     },
     "metadata": {
      "needs_background": "light"
     },
     "output_type": "display_data"
    }
   ],
   "source": [
    "plt.figure(figsize=(15, 8))\n",
    "plt.bar(X_train.columns[np.argsort(beta_hat[1:])], np.sort(beta_hat[1:]), align=\"center\")"
   ]
  },
  {
   "cell_type": "code",
   "execution_count": 13,
   "metadata": {},
   "outputs": [
    {
     "data": {
      "text/plain": [
       "<matplotlib.collections.PathCollection at 0x7f4c30988f28>"
      ]
     },
     "execution_count": 13,
     "metadata": {},
     "output_type": "execute_result"
    },
    {
     "data": {
      "image/png": "[encoded data removed]",
      "text/plain": [
       "<Figure size 432x288 with 1 Axes>"
      ]
     },
     "metadata": {
      "needs_background": "light"
     },
     "output_type": "display_data"
    }
   ],
   "source": [
    "plt.scatter(X_train[\"density\"], y_train)"
   ]
  },
  {
   "cell_type": "code",
   "execution_count": 14,
   "metadata": {},
   "outputs": [
    {
     "data": {
      "text/plain": [
       "<matplotlib.collections.PathCollection at 0x7f4c308fb860>"
      ]
     },
     "execution_count": 14,
     "metadata": {},
     "output_type": "execute_result"
    },
    {
     "data": {
      "image/png": "[encoded data removed]",
      "text/plain": [
       "<Figure size 432x288 with 1 Axes>"
      ]
     },
     "metadata": {
      "needs_background": "light"
     },
     "output_type": "display_data"
    }
   ],
   "source": [
    "plt.scatter(X_train[\"sulphates\"], y_train)"
   ]
  },
  {
   "cell_type": "code",
   "execution_count": 38,
   "metadata": {},
   "outputs": [
    {
     "data": {
      "text/plain": [
       "density                  0.001870\n",
       "chlorides                0.047886\n",
       "pH                       0.155782\n",
       "sulphates                0.170643\n",
       "volatile acidity         0.179366\n",
       "citric acid              0.194513\n",
       "alcohol                  1.047701\n",
       "residual sugar           1.414204\n",
       "fixed acidity            1.715610\n",
       "free sulfur dioxide     10.556676\n",
       "total sulfur dioxide    33.046172\n",
       "Name: std, dtype: float64"
      ]
     },
     "execution_count": 38,
     "metadata": {},
     "output_type": "execute_result"
    }
   ],
   "source": [
    "X_train.describe().loc['std'].sort_values()"
   ]
  },
  {
   "cell_type": "code",
   "execution_count": null,
   "metadata": {},
   "outputs": [],
   "source": []
  },
  {
   "cell_type": "code",
   "execution_count": null,
   "metadata": {},
   "outputs": [],
   "source": []
  },
  {
   "cell_type": "markdown",
   "metadata": {},
   "source": [
    "4. How well does your model fit? <br>\n",
    "5. You should be able to measure the goodness of fit, RSS, on both the training data and the test data, but only report the results on the test data. <br>\n",
    "\n",
    "In Machine Learning we almost always only care about<br> \n",
    "how well the model fits on data that has not been used to fit the model, <br>\n",
    "because we need to use the model in the future, not the past. <br>\n",
    "Therefore, we only report performance with holdout data, or test data."
   ]
  },
  {
   "cell_type": "code",
   "execution_count": 15,
   "metadata": {},
   "outputs": [],
   "source": [
    "def r_square(y_true, y_pred):\n",
    "    if len(y_true) != len(y_pred):\n",
    "        raise ValueError(\"length mismatched\")\n",
    "    \n",
    "    tmp = pd.concat([y_true, y_pred], axis=1)\n",
    "    tmp.columns = [\"y_true\", \"y_pred\"]\n",
    "    ss_res = sum((tmp[\"y_true\"] - tmp[\"y_pred\"])**2)\n",
    "    ss_tot = sum((tmp[\"y_true\"] - tmp[\"y_true\"].mean())**2)\n",
    "    return 1 - ss_res/ss_tot"
   ]
  },
  {
   "cell_type": "markdown",
   "metadata": {},
   "source": [
    "##### Ans:\n",
    "<div class=\"alert alert-block alert-info\">\n",
    "this is the model performance on testing set</div>"
   ]
  },
  {
   "cell_type": "code",
   "execution_count": 24,
   "metadata": {},
   "outputs": [
    {
     "name": "stdout",
     "output_type": "stream",
     "text": [
      "Model Performance in the Test Set: \n",
      "RSS:  119.63139931822634\n",
      "R^2:  0.3673758971136859\n"
     ]
    }
   ],
   "source": [
    "print(\"Model Performance in the Test Set: \")\n",
    "print(\"RSS: \", RSS(beta_hat, X_test, y_test))\n",
    "print(\"R^2: \", r_square(y_test, predict(beta_hat, X_test)))"
   ]
  },
  {
   "cell_type": "code",
   "execution_count": null,
   "metadata": {},
   "outputs": [],
   "source": []
  },
  {
   "cell_type": "code",
   "execution_count": null,
   "metadata": {},
   "outputs": [],
   "source": []
  },
  {
   "cell_type": "markdown",
   "metadata": {},
   "source": [
    "6. Does the end result or RSS change if you try different initial values of β? <br>\n",
    "7. What happens if you change the magnitude of the initial β?<br>\n",
    "8. Does the choice of solver method change the end result or RSS? "
   ]
  },
  {
   "cell_type": "markdown",
   "metadata": {},
   "source": [
    "##### Ans\n",
    "<div class=\"alert alert-block alert-info\">\n",
    "it does not change a lot when we try different init value, the magnitude of beta, or the solver. <br>\n",
    "it always trains a similar model.</div>"
   ]
  },
  {
   "cell_type": "code",
   "execution_count": 17,
   "metadata": {},
   "outputs": [
    {
     "name": "stdout",
     "output_type": "stream",
     "text": [
      "new init beta:  [ 1.10420058 -0.35379614 -0.453316   -1.82541366  0.34047096 -0.6333331\n",
      "  0.78405788 -0.52708907  0.57052233  0.09693517  0.58494378  0.17473812] \n",
      "\n",
      "the diff between new beta hat and beta hat [ 1.16403851e-03  1.32896984e-06  2.78367295e-07 -6.65733391e-07\n",
      "  4.84998033e-07  9.56629131e-06 -1.27194356e-08  6.57003191e-09\n",
      " -1.19881844e-03  8.39828987e-06  9.20726259e-07 -1.02918636e-06] \n",
      "\n",
      "new RSS in training set:  548.0476221290485\n",
      "new RSS in testing set:  119.63141161718633\n"
     ]
    }
   ],
   "source": [
    "beta = np.random.normal(0, 1, (X_train.shape[1] + 1, 1))\n",
    "print(\"new init beta: \", beta.reshape(1, -1)[0], \"\\n\")\n",
    "opt = minimize(fun=RSS, x0=beta, args=(X_train, y_train))\n",
    "new_beta_hat = opt.x\n",
    "print(\"the diff between new beta hat and beta hat\", new_beta_hat - beta_hat, \"\\n\")\n",
    "print(\"new RSS in training set: \", RSS(new_beta_hat, X_train, y_train))\n",
    "print(\"new RSS in testing set: \", RSS(new_beta_hat, X_test, y_test))"
   ]
  },
  {
   "cell_type": "code",
   "execution_count": 19,
   "metadata": {},
   "outputs": [
    {
     "name": "stdout",
     "output_type": "stream",
     "text": [
      "new init beta:  [102.75407749  95.90284318 107.77577079 109.0888861  115.71425688\n",
      " 109.60428333 101.59462502 101.39922721  82.98517152 100.17813996\n",
      "  92.20126406 103.92102335] \n",
      "\n",
      "the diff between new beta hat and beta hat [-2.77843986e-03 -2.48830390e-06 -1.90837347e-06  7.35797740e-07\n",
      " -1.17469170e-06 -9.06802000e-06  2.00363906e-08  1.76821632e-10\n",
      "  2.82356057e-03 -1.10334422e-05 -3.00064587e-06  2.65986255e-06] \n",
      "\n",
      "new RSS in training set:  548.0476221302656\n",
      "new RSS in testing set:  119.63137271534337\n"
     ]
    }
   ],
   "source": [
    "beta = np.random.normal(100, 10, (X_train.shape[1] + 1, 1))\n",
    "print(\"new init beta: \", beta.reshape(1, -1)[0], \"\\n\")\n",
    "opt = minimize(fun=RSS, x0=beta, args=(X_train, y_train))\n",
    "new_beta_hat = opt.x\n",
    "print(\"the diff between new beta hat and beta hat\", new_beta_hat - beta_hat, \"\\n\")\n",
    "print(\"new RSS in training set: \", RSS(new_beta_hat, X_train, y_train))\n",
    "print(\"new RSS in testing set: \", RSS(new_beta_hat, X_test, y_test))"
   ]
  },
  {
   "cell_type": "code",
   "execution_count": 20,
   "metadata": {},
   "outputs": [
    {
     "name": "stdout",
     "output_type": "stream",
     "text": [
      "new init beta:  [ 0.07732606 -2.47321442 -0.05985959  0.17032706 -0.17635043 -1.39297713\n",
      " -1.23478964 -1.0518297   0.29080532  0.28203021  1.46501473  1.40534839] \n",
      "\n",
      "the diff between new beta hat and beta hat [ 4.45441104e+01  4.25747747e-02  3.71110287e-02  5.91222364e-03\n",
      "  1.87111004e-02  8.67989653e-02 -3.16705125e-04  9.07877334e-05\n",
      " -4.54764156e+01  2.30842923e-01  6.07239951e-02 -4.31444105e-02] \n",
      "\n",
      "new RSS in training set:  549.5411289033791\n",
      "new RSS in testing set:  120.39572176647644\n"
     ]
    }
   ],
   "source": [
    "beta = np.random.normal(0, 1, (X_train.shape[1] + 1, 1))\n",
    "print(\"new init beta: \", beta.reshape(1, -1)[0], \"\\n\")\n",
    "opt = minimize(fun=RSS, x0=beta, args=(X_train, y_train), method=\"Powell\")\n",
    "new_beta_hat = opt.x\n",
    "print(\"the diff between new beta hat and beta hat\", new_beta_hat - beta_hat, \"\\n\")\n",
    "print(\"new RSS in training set: \", RSS(new_beta_hat, X_train, y_train))\n",
    "print(\"new RSS in testing set: \", RSS(new_beta_hat, X_test, y_test))"
   ]
  },
  {
   "cell_type": "code",
   "execution_count": null,
   "metadata": {},
   "outputs": [],
   "source": []
  },
  {
   "cell_type": "code",
   "execution_count": null,
   "metadata": {},
   "outputs": [],
   "source": []
  },
  {
   "cell_type": "code",
   "execution_count": null,
   "metadata": {},
   "outputs": [],
   "source": []
  },
  {
   "cell_type": "markdown",
   "metadata": {},
   "source": [
    "### Question 2"
   ]
  },
  {
   "cell_type": "code",
   "execution_count": 25,
   "metadata": {},
   "outputs": [],
   "source": [
    "def RSS(beta, X, y, penalty=None, lam=0.01):\n",
    "    tmp = pd.concat([y, predict(beta, X)], axis=1)\n",
    "    \n",
    "    if pd.isnull(tmp).any(axis=1).sum():\n",
    "        raise ValueError(\"y and y_hat indexes are mismatched\")\n",
    "        \n",
    "        \n",
    "    if penalty == \"l1\":\n",
    "        penalty = lam * sum(abs(beta[1:])\n",
    "                           )\n",
    "    elif penalty == \"l2\":\n",
    "        penalty = lam * sum(beta[1:]**2)\n",
    "        \n",
    "    else:\n",
    "        penalty = 0\n",
    "        \n",
    "    return tmp.apply(lambda s: (s[0] - s[1])**2, axis=1).sum() + penalty"
   ]
  },
  {
   "cell_type": "markdown",
   "metadata": {},
   "source": [
    "##### Ridge Regression (L2)"
   ]
  },
  {
   "cell_type": "code",
   "execution_count": 26,
   "metadata": {},
   "outputs": [],
   "source": [
    "beta = np.random.normal(0, 1, (X_train.shape[1] + 1, 1))\n",
    "opt = minimize(fun=RSS, x0=beta, args=(X_train, y_train, \"l2\"))\n",
    "beta_hat_L2 = opt.x"
   ]
  },
  {
   "cell_type": "code",
   "execution_count": 27,
   "metadata": {},
   "outputs": [
    {
     "data": {
      "text/html": [
       "<div>\n",
       "<style scoped>\n",
       "    .dataframe tbody tr th:only-of-type {\n",
       "        vertical-align: middle;\n",
       "    }\n",
       "\n",
       "    .dataframe tbody tr th {\n",
       "        vertical-align: top;\n",
       "    }\n",
       "\n",
       "    .dataframe thead th {\n",
       "        text-align: right;\n",
       "    }\n",
       "</style>\n",
       "<table border=\"1\" class=\"dataframe\">\n",
       "  <thead>\n",
       "    <tr style=\"text-align: right;\">\n",
       "      <th></th>\n",
       "      <th>beta_hat</th>\n",
       "      <th>beta_hat_L2</th>\n",
       "    </tr>\n",
       "  </thead>\n",
       "  <tbody>\n",
       "    <tr>\n",
       "      <td>intercept</td>\n",
       "      <td>27.064</td>\n",
       "      <td>5.905</td>\n",
       "    </tr>\n",
       "    <tr>\n",
       "      <td>fixed acidity</td>\n",
       "      <td>0.040</td>\n",
       "      <td>0.020</td>\n",
       "    </tr>\n",
       "    <tr>\n",
       "      <td>volatile acidity</td>\n",
       "      <td>-1.115</td>\n",
       "      <td>-1.134</td>\n",
       "    </tr>\n",
       "    <tr>\n",
       "      <td>citric acid</td>\n",
       "      <td>-0.240</td>\n",
       "      <td>-0.243</td>\n",
       "    </tr>\n",
       "    <tr>\n",
       "      <td>residual sugar</td>\n",
       "      <td>0.026</td>\n",
       "      <td>0.017</td>\n",
       "    </tr>\n",
       "    <tr>\n",
       "      <td>chlorides</td>\n",
       "      <td>-1.868</td>\n",
       "      <td>-1.899</td>\n",
       "    </tr>\n",
       "    <tr>\n",
       "      <td>free sulfur dioxide</td>\n",
       "      <td>0.002</td>\n",
       "      <td>0.002</td>\n",
       "    </tr>\n",
       "    <tr>\n",
       "      <td>total sulfur dioxide</td>\n",
       "      <td>-0.003</td>\n",
       "      <td>-0.003</td>\n",
       "    </tr>\n",
       "    <tr>\n",
       "      <td>density</td>\n",
       "      <td>-23.161</td>\n",
       "      <td>-1.565</td>\n",
       "    </tr>\n",
       "    <tr>\n",
       "      <td>pH</td>\n",
       "      <td>-0.374</td>\n",
       "      <td>-0.482</td>\n",
       "    </tr>\n",
       "    <tr>\n",
       "      <td>sulphates</td>\n",
       "      <td>0.951</td>\n",
       "      <td>0.921</td>\n",
       "    </tr>\n",
       "    <tr>\n",
       "      <td>alcohol</td>\n",
       "      <td>0.269</td>\n",
       "      <td>0.290</td>\n",
       "    </tr>\n",
       "  </tbody>\n",
       "</table>\n",
       "</div>"
      ],
      "text/plain": [
       "                      beta_hat  beta_hat_L2\n",
       "intercept               27.064        5.905\n",
       "fixed acidity            0.040        0.020\n",
       "volatile acidity        -1.115       -1.134\n",
       "citric acid             -0.240       -0.243\n",
       "residual sugar           0.026        0.017\n",
       "chlorides               -1.868       -1.899\n",
       "free sulfur dioxide      0.002        0.002\n",
       "total sulfur dioxide    -0.003       -0.003\n",
       "density                -23.161       -1.565\n",
       "pH                      -0.374       -0.482\n",
       "sulphates                0.951        0.921\n",
       "alcohol                  0.269        0.290"
      ]
     },
     "execution_count": 27,
     "metadata": {},
     "output_type": "execute_result"
    }
   ],
   "source": [
    "pd.DataFrame(\n",
    "    np.array([beta_hat, beta_hat_L2]).T, \n",
    "    index=[\"intercept\"] + X_train.columns.values.tolist(),\n",
    "    columns=[\"beta_hat\", \"beta_hat_L2\"]\n",
    ").round(3)"
   ]
  },
  {
   "cell_type": "markdown",
   "metadata": {},
   "source": [
    "1. How does RSS on the training data change? How does RSS on the test data change?\n",
    "\n",
    "##### Ans\n",
    "<div class=\"alert alert-block alert-info\">\n",
    "Both RSS in train and test set are slightly lower. That is probably because there is no collinearity or overfitting issue in the original regression. Hence, RSS does not decrease that much.</div>"
   ]
  },
  {
   "cell_type": "code",
   "execution_count": 28,
   "metadata": {},
   "outputs": [
    {
     "name": "stdout",
     "output_type": "stream",
     "text": [
      "Ridge Regression Performance\n",
      "RSS in train set:  548.3845550489718\n",
      "RSS in test set:  119.52477313625242\n"
     ]
    }
   ],
   "source": [
    "print(\"Ridge Regression Performance\")\n",
    "print(\"RSS in train set: \", RSS(beta_hat_L2, X_train, y_train))\n",
    "print(\"RSS in test set: \", RSS(beta_hat_L2, X_test, y_test))"
   ]
  },
  {
   "cell_type": "code",
   "execution_count": 29,
   "metadata": {},
   "outputs": [
    {
     "name": "stdout",
     "output_type": "stream",
     "text": [
      "Ridge Regression RSS in test set\n",
      "when lambda=0.001 119.54648852766778\n",
      "when lambda=0.010 119.52477532163306\n",
      "when lambda=0.100 119.51194318085047\n",
      "when lambda=1.000 119.5455530758368\n",
      "when lambda=10.000 120.43777211171954\n"
     ]
    }
   ],
   "source": [
    "print(\"Ridge Regression RSS in test set\")\n",
    "beta = np.random.normal(0, 1, (X_train.shape[1] + 1, 1))\n",
    "\n",
    "lam = 0.001\n",
    "opt = minimize(fun=RSS, x0=beta, args=(X_train, y_train, \"l2\", lam))\n",
    "print(\"when lambda=%.3f\" % lam, RSS(opt.x, X_test, y_test))\n",
    "\n",
    "lam = 0.01\n",
    "opt = minimize(fun=RSS, x0=beta, args=(X_train, y_train, \"l2\", lam))\n",
    "print(\"when lambda=%.3f\" % lam, RSS(opt.x, X_test, y_test))\n",
    "\n",
    "lam = 0.1\n",
    "opt = minimize(fun=RSS, x0=beta, args=(X_train, y_train, \"l2\", lam))\n",
    "print(\"when lambda=%.3f\" % lam, RSS(opt.x, X_test, y_test))\n",
    "\n",
    "lam = 1\n",
    "opt = minimize(fun=RSS, x0=beta, args=(X_train, y_train, \"l2\", lam))\n",
    "print(\"when lambda=%.3f\" % lam, RSS(opt.x, X_test, y_test))\n",
    "\n",
    "lam = 10\n",
    "opt = minimize(fun=RSS, x0=beta, args=(X_train, y_train, \"l2\", lam))\n",
    "print(\"when lambda=%.3f\" % lam, RSS(opt.x, X_test, y_test))"
   ]
  },
  {
   "cell_type": "markdown",
   "metadata": {},
   "source": [
    "##### Ans\n",
    "<div class=\"alert alert-block alert-info\">\n",
    "the results shows when lambda=0.1 Ridge Regression has the best performance on testing set.</div>"
   ]
  },
  {
   "cell_type": "code",
   "execution_count": null,
   "metadata": {},
   "outputs": [],
   "source": []
  },
  {
   "cell_type": "code",
   "execution_count": null,
   "metadata": {},
   "outputs": [],
   "source": []
  },
  {
   "cell_type": "markdown",
   "metadata": {},
   "source": [
    "##### Lasso Regression (L1)"
   ]
  },
  {
   "cell_type": "code",
   "execution_count": 30,
   "metadata": {},
   "outputs": [
    {
     "name": "stdout",
     "output_type": "stream",
     "text": [
      "Lasso Regression RSS in test set\n",
      "when lambda=0.001 119.62536129941725\n",
      "when lambda=0.010 119.5786524555306\n",
      "when lambda=0.100 119.51131800804576\n",
      "when lambda=1.000 119.42492919989249\n",
      "when lambda=10.000 121.04418678620505\n"
     ]
    }
   ],
   "source": [
    "print(\"Lasso Regression RSS in test set\")\n",
    "beta = np.random.normal(0, 1, (X_train.shape[1] + 1, 1))\n",
    "\n",
    "lam = 0.001\n",
    "opt = minimize(fun=RSS, x0=beta, args=(X_train, y_train, \"l1\", lam))\n",
    "print(\"when lambda=%.3f\" % lam, RSS(opt.x, X_test, y_test))\n",
    "\n",
    "lam = 0.01\n",
    "opt = minimize(fun=RSS, x0=beta, args=(X_train, y_train, \"l1\", lam))\n",
    "print(\"when lambda=%.3f\" % lam, RSS(opt.x, X_test, y_test))\n",
    "\n",
    "lam = 0.1\n",
    "opt = minimize(fun=RSS, x0=beta, args=(X_train, y_train, \"l1\", lam))\n",
    "print(\"when lambda=%.3f\" % lam, RSS(opt.x, X_test, y_test))\n",
    "\n",
    "lam = 1\n",
    "opt = minimize(fun=RSS, x0=beta, args=(X_train, y_train, \"l1\", lam))\n",
    "print(\"when lambda=%.3f\" % lam, RSS(opt.x, X_test, y_test))\n",
    "\n",
    "lam = 10\n",
    "opt = minimize(fun=RSS, x0=beta, args=(X_train, y_train, \"l1\", lam))\n",
    "print(\"when lambda=%.3f\" % lam, RSS(opt.x, X_test, y_test))"
   ]
  },
  {
   "cell_type": "code",
   "execution_count": 33,
   "metadata": {},
   "outputs": [
    {
     "name": "stdout",
     "output_type": "stream",
     "text": [
      "when lambda=1.000 119.42492919989249\n"
     ]
    }
   ],
   "source": [
    "lam = 1.000\n",
    "opt = minimize(fun=RSS, x0=beta, args=(X_train, y_train, \"l1\", lam))\n",
    "print(\"when lambda=%.3f\" % lam, RSS(opt.x, X_test, y_test))"
   ]
  },
  {
   "cell_type": "code",
   "execution_count": 34,
   "metadata": {},
   "outputs": [
    {
     "data": {
      "text/plain": [
       "fixed acidity           0.020\n",
       "volatile acidity       -1.127\n",
       "citric acid            -0.215\n",
       "residual sugar          0.015\n",
       "chlorides              -1.661\n",
       "free sulfur dioxide     0.002\n",
       "total sulfur dioxide   -0.003\n",
       "density                -0.000\n",
       "pH                     -0.436\n",
       "sulphates               0.879\n",
       "alcohol                 0.292\n",
       "dtype: float64"
      ]
     },
     "execution_count": 34,
     "metadata": {},
     "output_type": "execute_result"
    }
   ],
   "source": [
    "pd.Series(opt.x[1:], index=X_test.columns.values).round(3)"
   ]
  },
  {
   "cell_type": "markdown",
   "metadata": {},
   "source": [
    "##### Ans\n",
    "<div class=\"alert alert-block alert-info\">\n",
    "the magnitude of the features in X won't affect the results with regularization. Since regularization shrink the less informative features and expand the more informative features, so the magnitude does not affect the result with regularization.</div>"
   ]
  },
  {
   "cell_type": "code",
   "execution_count": null,
   "metadata": {},
   "outputs": [],
   "source": []
  },
  {
   "cell_type": "code",
   "execution_count": null,
   "metadata": {},
   "outputs": [],
   "source": []
  },
  {
   "cell_type": "code",
   "execution_count": null,
   "metadata": {},
   "outputs": [],
   "source": []
  }
 ],
 "metadata": {
  "kernelspec": {
   "display_name": "Python 3",
   "language": "python",
   "name": "python3"
  },
  "language_info": {
   "codemirror_mode": {
    "name": "ipython",
    "version": 3
   },
   "file_extension": ".py",
   "mimetype": "text/x-python",
   "name": "python",
   "nbconvert_exporter": "python",
   "pygments_lexer": "ipython3",
   "version": "3.7.3"
  }
 },
 "nbformat": 4,
 "nbformat_minor": 2
}
