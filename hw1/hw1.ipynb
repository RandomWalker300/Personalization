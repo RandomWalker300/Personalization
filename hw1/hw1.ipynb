{
 "cells": [
  {
   "cell_type": "code",
   "execution_count": 1,
   "metadata": {},
   "outputs": [],
   "source": [
    "import math\n",
    "import numpy as np\n",
    "import pandas as pd\n",
    "from sklearn.model_selection import KFold\n",
    "from scipy.optimize import minimize\n",
    "import matplotlib.pyplot as plt\n",
    "%matplotlib inline"
   ]
  },
  {
   "cell_type": "code",
   "execution_count": null,
   "metadata": {},
   "outputs": [],
   "source": []
  },
  {
   "cell_type": "markdown",
   "metadata": {},
   "source": [
    "### Setup - Preprocessed Data \n",
    "randomly split dataset into train and test set <br>\n",
    "by using `pandas` and `sklearn.model_selection`"
   ]
  },
  {
   "cell_type": "code",
   "execution_count": 2,
   "metadata": {},
   "outputs": [
    {
     "name": "stdout",
     "output_type": "stream",
     "text": [
      "features:  ['fixed acidity' 'volatile acidity' 'citric acid' 'residual sugar'\n",
      " 'chlorides' 'free sulfur dioxide' 'total sulfur dioxide' 'density' 'pH'\n",
      " 'sulphates' 'alcohol']\n",
      "target:  ['quality']\n",
      "data shape:  (1599, 12)\n"
     ]
    },
    {
     "data": {
      "text/html": [
       "<div>\n",
       "<style scoped>\n",
       "    .dataframe tbody tr th:only-of-type {\n",
       "        vertical-align: middle;\n",
       "    }\n",
       "\n",
       "    .dataframe tbody tr th {\n",
       "        vertical-align: top;\n",
       "    }\n",
       "\n",
       "    .dataframe thead th {\n",
       "        text-align: right;\n",
       "    }\n",
       "</style>\n",
       "<table border=\"1\" class=\"dataframe\">\n",
       "  <thead>\n",
       "    <tr style=\"text-align: right;\">\n",
       "      <th></th>\n",
       "      <th>fixed acidity</th>\n",
       "      <th>volatile acidity</th>\n",
       "      <th>citric acid</th>\n",
       "      <th>residual sugar</th>\n",
       "      <th>chlorides</th>\n",
       "      <th>free sulfur dioxide</th>\n",
       "      <th>total sulfur dioxide</th>\n",
       "      <th>density</th>\n",
       "      <th>pH</th>\n",
       "      <th>sulphates</th>\n",
       "      <th>alcohol</th>\n",
       "      <th>quality</th>\n",
       "    </tr>\n",
       "  </thead>\n",
       "  <tbody>\n",
       "    <tr>\n",
       "      <td>0</td>\n",
       "      <td>7.4</td>\n",
       "      <td>0.70</td>\n",
       "      <td>0.00</td>\n",
       "      <td>1.9</td>\n",
       "      <td>0.076</td>\n",
       "      <td>11.0</td>\n",
       "      <td>34.0</td>\n",
       "      <td>0.9978</td>\n",
       "      <td>3.51</td>\n",
       "      <td>0.56</td>\n",
       "      <td>9.4</td>\n",
       "      <td>5</td>\n",
       "    </tr>\n",
       "    <tr>\n",
       "      <td>1</td>\n",
       "      <td>7.8</td>\n",
       "      <td>0.88</td>\n",
       "      <td>0.00</td>\n",
       "      <td>2.6</td>\n",
       "      <td>0.098</td>\n",
       "      <td>25.0</td>\n",
       "      <td>67.0</td>\n",
       "      <td>0.9968</td>\n",
       "      <td>3.20</td>\n",
       "      <td>0.68</td>\n",
       "      <td>9.8</td>\n",
       "      <td>5</td>\n",
       "    </tr>\n",
       "    <tr>\n",
       "      <td>2</td>\n",
       "      <td>7.8</td>\n",
       "      <td>0.76</td>\n",
       "      <td>0.04</td>\n",
       "      <td>2.3</td>\n",
       "      <td>0.092</td>\n",
       "      <td>15.0</td>\n",
       "      <td>54.0</td>\n",
       "      <td>0.9970</td>\n",
       "      <td>3.26</td>\n",
       "      <td>0.65</td>\n",
       "      <td>9.8</td>\n",
       "      <td>5</td>\n",
       "    </tr>\n",
       "  </tbody>\n",
       "</table>\n",
       "</div>"
      ],
      "text/plain": [
       "   fixed acidity  volatile acidity  citric acid  residual sugar  chlorides  \\\n",
       "0            7.4              0.70         0.00             1.9      0.076   \n",
       "1            7.8              0.88         0.00             2.6      0.098   \n",
       "2            7.8              0.76         0.04             2.3      0.092   \n",
       "\n",
       "   free sulfur dioxide  total sulfur dioxide  density    pH  sulphates  \\\n",
       "0                 11.0                  34.0   0.9978  3.51       0.56   \n",
       "1                 25.0                  67.0   0.9968  3.20       0.68   \n",
       "2                 15.0                  54.0   0.9970  3.26       0.65   \n",
       "\n",
       "   alcohol  quality  \n",
       "0      9.4        5  \n",
       "1      9.8        5  \n",
       "2      9.8        5  "
      ]
     },
     "execution_count": 2,
     "metadata": {},
     "output_type": "execute_result"
    }
   ],
   "source": [
    "data = pd.read_csv(\"winequalityred.csv\", sep=\";\")\n",
    "y = [\"quality\"]\n",
    "x = data.drop(y, axis=1).columns.values\n",
    "\n",
    "print(\"features: \", x)\n",
    "print(\"target: \", y)\n",
    "print(\"data shape: \", data.shape)\n",
    "data.head(3)"
   ]
  },
  {
   "cell_type": "code",
   "execution_count": 3,
   "metadata": {},
   "outputs": [],
   "source": [
    "kf = KFold(shuffle=True, n_splits=5)\n",
    "for trainIdx, testIdx in kf.split(data):\n",
    "    X_train, X_test = data[x].iloc[trainIdx], data[x].iloc[testIdx]\n",
    "    y_train, y_test = data[y].iloc[trainIdx], data[y].iloc[testIdx]"
   ]
  },
  {
   "cell_type": "code",
   "execution_count": 4,
   "metadata": {},
   "outputs": [
    {
     "name": "stdout",
     "output_type": "stream",
     "text": [
      "(1280, 11) (1280, 1)\n"
     ]
    },
    {
     "data": {
      "text/html": [
       "<div>\n",
       "<style scoped>\n",
       "    .dataframe tbody tr th:only-of-type {\n",
       "        vertical-align: middle;\n",
       "    }\n",
       "\n",
       "    .dataframe tbody tr th {\n",
       "        vertical-align: top;\n",
       "    }\n",
       "\n",
       "    .dataframe thead th {\n",
       "        text-align: right;\n",
       "    }\n",
       "</style>\n",
       "<table border=\"1\" class=\"dataframe\">\n",
       "  <thead>\n",
       "    <tr style=\"text-align: right;\">\n",
       "      <th></th>\n",
       "      <th>fixed acidity</th>\n",
       "      <th>volatile acidity</th>\n",
       "      <th>citric acid</th>\n",
       "      <th>residual sugar</th>\n",
       "      <th>chlorides</th>\n",
       "      <th>free sulfur dioxide</th>\n",
       "      <th>total sulfur dioxide</th>\n",
       "      <th>density</th>\n",
       "      <th>pH</th>\n",
       "      <th>sulphates</th>\n",
       "      <th>alcohol</th>\n",
       "      <th>quality</th>\n",
       "    </tr>\n",
       "  </thead>\n",
       "  <tbody>\n",
       "    <tr>\n",
       "      <td>1</td>\n",
       "      <td>7.8</td>\n",
       "      <td>0.88</td>\n",
       "      <td>0.00</td>\n",
       "      <td>2.6</td>\n",
       "      <td>0.098</td>\n",
       "      <td>25.0</td>\n",
       "      <td>67.0</td>\n",
       "      <td>0.9968</td>\n",
       "      <td>3.20</td>\n",
       "      <td>0.68</td>\n",
       "      <td>9.8</td>\n",
       "      <td>5</td>\n",
       "    </tr>\n",
       "    <tr>\n",
       "      <td>2</td>\n",
       "      <td>7.8</td>\n",
       "      <td>0.76</td>\n",
       "      <td>0.04</td>\n",
       "      <td>2.3</td>\n",
       "      <td>0.092</td>\n",
       "      <td>15.0</td>\n",
       "      <td>54.0</td>\n",
       "      <td>0.9970</td>\n",
       "      <td>3.26</td>\n",
       "      <td>0.65</td>\n",
       "      <td>9.8</td>\n",
       "      <td>5</td>\n",
       "    </tr>\n",
       "    <tr>\n",
       "      <td>4</td>\n",
       "      <td>7.4</td>\n",
       "      <td>0.70</td>\n",
       "      <td>0.00</td>\n",
       "      <td>1.9</td>\n",
       "      <td>0.076</td>\n",
       "      <td>11.0</td>\n",
       "      <td>34.0</td>\n",
       "      <td>0.9978</td>\n",
       "      <td>3.51</td>\n",
       "      <td>0.56</td>\n",
       "      <td>9.4</td>\n",
       "      <td>5</td>\n",
       "    </tr>\n",
       "  </tbody>\n",
       "</table>\n",
       "</div>"
      ],
      "text/plain": [
       "   fixed acidity  volatile acidity  citric acid  residual sugar  chlorides  \\\n",
       "1            7.8              0.88         0.00             2.6      0.098   \n",
       "2            7.8              0.76         0.04             2.3      0.092   \n",
       "4            7.4              0.70         0.00             1.9      0.076   \n",
       "\n",
       "   free sulfur dioxide  total sulfur dioxide  density    pH  sulphates  \\\n",
       "1                 25.0                  67.0   0.9968  3.20       0.68   \n",
       "2                 15.0                  54.0   0.9970  3.26       0.65   \n",
       "4                 11.0                  34.0   0.9978  3.51       0.56   \n",
       "\n",
       "   alcohol  quality  \n",
       "1      9.8        5  \n",
       "2      9.8        5  \n",
       "4      9.4        5  "
      ]
     },
     "execution_count": 4,
     "metadata": {},
     "output_type": "execute_result"
    }
   ],
   "source": [
    "print(X_train.shape, y_train.shape)\n",
    "pd.concat([X_train.head(3), y_train.head(3)], axis=1)"
   ]
  },
  {
   "cell_type": "code",
   "execution_count": 49,
   "metadata": {},
   "outputs": [
    {
     "data": {
      "text/html": [
       "<div>\n",
       "<style scoped>\n",
       "    .dataframe tbody tr th:only-of-type {\n",
       "        vertical-align: middle;\n",
       "    }\n",
       "\n",
       "    .dataframe tbody tr th {\n",
       "        vertical-align: top;\n",
       "    }\n",
       "\n",
       "    .dataframe thead th {\n",
       "        text-align: right;\n",
       "    }\n",
       "</style>\n",
       "<table border=\"1\" class=\"dataframe\">\n",
       "  <thead>\n",
       "    <tr style=\"text-align: right;\">\n",
       "      <th></th>\n",
       "      <th>fixed acidity</th>\n",
       "      <th>volatile acidity</th>\n",
       "      <th>citric acid</th>\n",
       "      <th>residual sugar</th>\n",
       "      <th>chlorides</th>\n",
       "      <th>free sulfur dioxide</th>\n",
       "      <th>total sulfur dioxide</th>\n",
       "      <th>density</th>\n",
       "      <th>pH</th>\n",
       "      <th>sulphates</th>\n",
       "      <th>alcohol</th>\n",
       "    </tr>\n",
       "  </thead>\n",
       "  <tbody>\n",
       "    <tr>\n",
       "      <td>count</td>\n",
       "      <td>1280.000000</td>\n",
       "      <td>1280.000000</td>\n",
       "      <td>1280.000000</td>\n",
       "      <td>1280.000000</td>\n",
       "      <td>1280.000000</td>\n",
       "      <td>1280.000000</td>\n",
       "      <td>1280.000000</td>\n",
       "      <td>1280.000000</td>\n",
       "      <td>1280.000000</td>\n",
       "      <td>1280.000000</td>\n",
       "      <td>1280.000000</td>\n",
       "    </tr>\n",
       "    <tr>\n",
       "      <td>mean</td>\n",
       "      <td>8.347891</td>\n",
       "      <td>0.526215</td>\n",
       "      <td>0.273102</td>\n",
       "      <td>2.539297</td>\n",
       "      <td>0.087073</td>\n",
       "      <td>15.618359</td>\n",
       "      <td>46.216797</td>\n",
       "      <td>0.996789</td>\n",
       "      <td>3.308703</td>\n",
       "      <td>0.656242</td>\n",
       "      <td>10.399297</td>\n",
       "    </tr>\n",
       "    <tr>\n",
       "      <td>std</td>\n",
       "      <td>1.764916</td>\n",
       "      <td>0.179786</td>\n",
       "      <td>0.192899</td>\n",
       "      <td>1.410870</td>\n",
       "      <td>0.047067</td>\n",
       "      <td>10.195828</td>\n",
       "      <td>32.715349</td>\n",
       "      <td>0.001883</td>\n",
       "      <td>0.155400</td>\n",
       "      <td>0.171403</td>\n",
       "      <td>1.051184</td>\n",
       "    </tr>\n",
       "    <tr>\n",
       "      <td>min</td>\n",
       "      <td>4.700000</td>\n",
       "      <td>0.120000</td>\n",
       "      <td>0.000000</td>\n",
       "      <td>0.900000</td>\n",
       "      <td>0.012000</td>\n",
       "      <td>1.000000</td>\n",
       "      <td>6.000000</td>\n",
       "      <td>0.990070</td>\n",
       "      <td>2.740000</td>\n",
       "      <td>0.330000</td>\n",
       "      <td>8.400000</td>\n",
       "    </tr>\n",
       "    <tr>\n",
       "      <td>25%</td>\n",
       "      <td>7.100000</td>\n",
       "      <td>0.390000</td>\n",
       "      <td>0.100000</td>\n",
       "      <td>1.900000</td>\n",
       "      <td>0.070000</td>\n",
       "      <td>7.000000</td>\n",
       "      <td>22.000000</td>\n",
       "      <td>0.995640</td>\n",
       "      <td>3.210000</td>\n",
       "      <td>0.550000</td>\n",
       "      <td>9.500000</td>\n",
       "    </tr>\n",
       "    <tr>\n",
       "      <td>50%</td>\n",
       "      <td>7.900000</td>\n",
       "      <td>0.520000</td>\n",
       "      <td>0.260000</td>\n",
       "      <td>2.200000</td>\n",
       "      <td>0.079000</td>\n",
       "      <td>13.000000</td>\n",
       "      <td>37.000000</td>\n",
       "      <td>0.996800</td>\n",
       "      <td>3.310000</td>\n",
       "      <td>0.620000</td>\n",
       "      <td>10.100000</td>\n",
       "    </tr>\n",
       "    <tr>\n",
       "      <td>75%</td>\n",
       "      <td>9.300000</td>\n",
       "      <td>0.635000</td>\n",
       "      <td>0.420000</td>\n",
       "      <td>2.600000</td>\n",
       "      <td>0.090000</td>\n",
       "      <td>21.000000</td>\n",
       "      <td>62.000000</td>\n",
       "      <td>0.997860</td>\n",
       "      <td>3.400000</td>\n",
       "      <td>0.730000</td>\n",
       "      <td>11.025000</td>\n",
       "    </tr>\n",
       "    <tr>\n",
       "      <td>max</td>\n",
       "      <td>15.900000</td>\n",
       "      <td>1.580000</td>\n",
       "      <td>1.000000</td>\n",
       "      <td>15.500000</td>\n",
       "      <td>0.611000</td>\n",
       "      <td>68.000000</td>\n",
       "      <td>278.000000</td>\n",
       "      <td>1.003690</td>\n",
       "      <td>4.010000</td>\n",
       "      <td>2.000000</td>\n",
       "      <td>14.900000</td>\n",
       "    </tr>\n",
       "  </tbody>\n",
       "</table>\n",
       "</div>"
      ],
      "text/plain": [
       "       fixed acidity  volatile acidity  citric acid  residual sugar  \\\n",
       "count    1280.000000       1280.000000  1280.000000     1280.000000   \n",
       "mean        8.347891          0.526215     0.273102        2.539297   \n",
       "std         1.764916          0.179786     0.192899        1.410870   \n",
       "min         4.700000          0.120000     0.000000        0.900000   \n",
       "25%         7.100000          0.390000     0.100000        1.900000   \n",
       "50%         7.900000          0.520000     0.260000        2.200000   \n",
       "75%         9.300000          0.635000     0.420000        2.600000   \n",
       "max        15.900000          1.580000     1.000000       15.500000   \n",
       "\n",
       "         chlorides  free sulfur dioxide  total sulfur dioxide      density  \\\n",
       "count  1280.000000          1280.000000           1280.000000  1280.000000   \n",
       "mean      0.087073            15.618359             46.216797     0.996789   \n",
       "std       0.047067            10.195828             32.715349     0.001883   \n",
       "min       0.012000             1.000000              6.000000     0.990070   \n",
       "25%       0.070000             7.000000             22.000000     0.995640   \n",
       "50%       0.079000            13.000000             37.000000     0.996800   \n",
       "75%       0.090000            21.000000             62.000000     0.997860   \n",
       "max       0.611000            68.000000            278.000000     1.003690   \n",
       "\n",
       "                pH    sulphates      alcohol  \n",
       "count  1280.000000  1280.000000  1280.000000  \n",
       "mean      3.308703     0.656242    10.399297  \n",
       "std       0.155400     0.171403     1.051184  \n",
       "min       2.740000     0.330000     8.400000  \n",
       "25%       3.210000     0.550000     9.500000  \n",
       "50%       3.310000     0.620000    10.100000  \n",
       "75%       3.400000     0.730000    11.025000  \n",
       "max       4.010000     2.000000    14.900000  "
      ]
     },
     "execution_count": 49,
     "metadata": {},
     "output_type": "execute_result"
    }
   ],
   "source": [
    "X_train.describe()"
   ]
  },
  {
   "cell_type": "code",
   "execution_count": 5,
   "metadata": {},
   "outputs": [
    {
     "name": "stdout",
     "output_type": "stream",
     "text": [
      "(319, 11) (319, 1)\n"
     ]
    },
    {
     "data": {
      "text/html": [
       "<div>\n",
       "<style scoped>\n",
       "    .dataframe tbody tr th:only-of-type {\n",
       "        vertical-align: middle;\n",
       "    }\n",
       "\n",
       "    .dataframe tbody tr th {\n",
       "        vertical-align: top;\n",
       "    }\n",
       "\n",
       "    .dataframe thead th {\n",
       "        text-align: right;\n",
       "    }\n",
       "</style>\n",
       "<table border=\"1\" class=\"dataframe\">\n",
       "  <thead>\n",
       "    <tr style=\"text-align: right;\">\n",
       "      <th></th>\n",
       "      <th>fixed acidity</th>\n",
       "      <th>volatile acidity</th>\n",
       "      <th>citric acid</th>\n",
       "      <th>residual sugar</th>\n",
       "      <th>chlorides</th>\n",
       "      <th>free sulfur dioxide</th>\n",
       "      <th>total sulfur dioxide</th>\n",
       "      <th>density</th>\n",
       "      <th>pH</th>\n",
       "      <th>sulphates</th>\n",
       "      <th>alcohol</th>\n",
       "      <th>quality</th>\n",
       "    </tr>\n",
       "  </thead>\n",
       "  <tbody>\n",
       "    <tr>\n",
       "      <td>0</td>\n",
       "      <td>7.4</td>\n",
       "      <td>0.70</td>\n",
       "      <td>0.00</td>\n",
       "      <td>1.9</td>\n",
       "      <td>0.076</td>\n",
       "      <td>11.0</td>\n",
       "      <td>34.0</td>\n",
       "      <td>0.9978</td>\n",
       "      <td>3.51</td>\n",
       "      <td>0.56</td>\n",
       "      <td>9.4</td>\n",
       "      <td>5</td>\n",
       "    </tr>\n",
       "    <tr>\n",
       "      <td>3</td>\n",
       "      <td>11.2</td>\n",
       "      <td>0.28</td>\n",
       "      <td>0.56</td>\n",
       "      <td>1.9</td>\n",
       "      <td>0.075</td>\n",
       "      <td>17.0</td>\n",
       "      <td>60.0</td>\n",
       "      <td>0.9980</td>\n",
       "      <td>3.16</td>\n",
       "      <td>0.58</td>\n",
       "      <td>9.8</td>\n",
       "      <td>6</td>\n",
       "    </tr>\n",
       "    <tr>\n",
       "      <td>15</td>\n",
       "      <td>8.9</td>\n",
       "      <td>0.62</td>\n",
       "      <td>0.19</td>\n",
       "      <td>3.9</td>\n",
       "      <td>0.170</td>\n",
       "      <td>51.0</td>\n",
       "      <td>148.0</td>\n",
       "      <td>0.9986</td>\n",
       "      <td>3.17</td>\n",
       "      <td>0.93</td>\n",
       "      <td>9.2</td>\n",
       "      <td>5</td>\n",
       "    </tr>\n",
       "  </tbody>\n",
       "</table>\n",
       "</div>"
      ],
      "text/plain": [
       "    fixed acidity  volatile acidity  citric acid  residual sugar  chlorides  \\\n",
       "0             7.4              0.70         0.00             1.9      0.076   \n",
       "3            11.2              0.28         0.56             1.9      0.075   \n",
       "15            8.9              0.62         0.19             3.9      0.170   \n",
       "\n",
       "    free sulfur dioxide  total sulfur dioxide  density    pH  sulphates  \\\n",
       "0                  11.0                  34.0   0.9978  3.51       0.56   \n",
       "3                  17.0                  60.0   0.9980  3.16       0.58   \n",
       "15                 51.0                 148.0   0.9986  3.17       0.93   \n",
       "\n",
       "    alcohol  quality  \n",
       "0       9.4        5  \n",
       "3       9.8        6  \n",
       "15      9.2        5  "
      ]
     },
     "execution_count": 5,
     "metadata": {},
     "output_type": "execute_result"
    }
   ],
   "source": [
    "print(X_test.shape, y_test.shape)\n",
    "pd.concat([X_test.head(3), y_test.head(3)], axis=1)"
   ]
  },
  {
   "cell_type": "code",
   "execution_count": null,
   "metadata": {},
   "outputs": [],
   "source": []
  },
  {
   "cell_type": "code",
   "execution_count": null,
   "metadata": {},
   "outputs": [],
   "source": []
  },
  {
   "cell_type": "markdown",
   "metadata": {},
   "source": [
    "### Regression equations and functions\n",
    "1. adding intercept\n",
    "2. the equation for a the linear model that predicts y from X\n",
    "3. the equation for computing the Residual Sum of Squares (RSS) for the linear model\n",
    "\n",
    "by using `pandas` and `numpy`"
   ]
  },
  {
   "cell_type": "code",
   "execution_count": 6,
   "metadata": {},
   "outputs": [],
   "source": [
    "def predict(beta, X):\n",
    "    if isinstance(beta, (pd.DataFrame, pd.Series)):\n",
    "        beta = beta.values\n",
    "    \n",
    "    if isinstance(X, (pd.DataFrame, pd.Series)):\n",
    "        index = X.index.values\n",
    "        X = X.values\n",
    "    \n",
    "    if beta.shape[0] - X.shape[1] == 1:\n",
    "        X = np.concatenate([np.ones(shape=(X.shape[0], 1)), X], axis=1)\n",
    "    \n",
    "    return pd.DataFrame(np.matmul(X, beta), index=index, columns=[\"y_hat\"])\n",
    "\n",
    "\n",
    "def RSS(beta, X, y):\n",
    "    tmp = pd.concat([y, predict(beta, X)], axis=1)\n",
    "    \n",
    "    if pd.isnull(tmp).any(axis=1).sum():\n",
    "        raise ValueError(\"y and y_hat indexes are mismatched\")\n",
    "        \n",
    "    return tmp.apply(lambda s: (s[0] - s[1])**2, axis=1).sum()"
   ]
  },
  {
   "cell_type": "code",
   "execution_count": null,
   "metadata": {},
   "outputs": [],
   "source": []
  },
  {
   "cell_type": "code",
   "execution_count": null,
   "metadata": {},
   "outputs": [],
   "source": []
  },
  {
   "cell_type": "markdown",
   "metadata": {},
   "source": [
    "### Training Models\n",
    "by using `pandas` and `scipy.optimize`"
   ]
  },
  {
   "cell_type": "code",
   "execution_count": 7,
   "metadata": {},
   "outputs": [],
   "source": [
    "beta = np.random.normal(0, 1, (X_train.shape[1] + 1, 1))\n",
    "opt = minimize(fun=RSS, x0=beta, args=(X_train, y_train))\n",
    "beta_hat = opt.x"
   ]
  },
  {
   "cell_type": "code",
   "execution_count": 8,
   "metadata": {},
   "outputs": [
    {
     "data": {
      "text/plain": [
       "array([ 7.60570425e+00,  9.41295298e-03, -1.06146954e+00, -1.08356100e-01,\n",
       "        1.35100440e-02, -1.85721973e+00,  4.42476267e-03, -3.62921351e-03,\n",
       "       -3.37437111e+00, -4.02207944e-01,  8.86551736e-01,  2.76109017e-01])"
      ]
     },
     "execution_count": 8,
     "metadata": {},
     "output_type": "execute_result"
    }
   ],
   "source": [
    "beta_hat"
   ]
  },
  {
   "cell_type": "code",
   "execution_count": 9,
   "metadata": {},
   "outputs": [
    {
     "data": {
      "text/plain": [
       "536.6400931179439"
      ]
     },
     "execution_count": 9,
     "metadata": {},
     "output_type": "execute_result"
    }
   ],
   "source": [
    "RSS(beta_hat, X_train, y_train)"
   ]
  },
  {
   "cell_type": "code",
   "execution_count": null,
   "metadata": {},
   "outputs": [],
   "source": []
  },
  {
   "cell_type": "code",
   "execution_count": null,
   "metadata": {},
   "outputs": [],
   "source": []
  },
  {
   "cell_type": "markdown",
   "metadata": {},
   "source": [
    "### Question 1"
   ]
  },
  {
   "cell_type": "markdown",
   "metadata": {},
   "source": [
    "What are the qualitative results from your model? <br>\n",
    "Which features seem to be most important? <br>\n",
    "Do you think that the magnitude of the features in X may affect the results <br>\n",
    "(for example, the average total sulfur dioxide across all wines is 46.47, <br>\n",
    " but the average chlorides is only 0.087)."
   ]
  },
  {
   "cell_type": "markdown",
   "metadata": {},
   "source": [
    "##### Ans:\n",
    "1. my qualitative results show that density is the most significant feature, which has a negative relation with wine quality(y)\n",
    "2. density (with coefficient: -3.374)\n",
    "3. no, the scatters plot (density vs quality and sulphates vs quality) show that scale does not affect the results"
   ]
  },
  {
   "cell_type": "code",
   "execution_count": 11,
   "metadata": {},
   "outputs": [
    {
     "data": {
      "text/plain": [
       "density                -3.374\n",
       "chlorides              -1.857\n",
       "volatile acidity       -1.061\n",
       "pH                     -0.402\n",
       "citric acid            -0.108\n",
       "total sulfur dioxide   -0.004\n",
       "free sulfur dioxide     0.004\n",
       "fixed acidity           0.009\n",
       "residual sugar          0.014\n",
       "alcohol                 0.276\n",
       "sulphates               0.887\n",
       "intercept               7.606\n",
       "dtype: float64"
      ]
     },
     "execution_count": 11,
     "metadata": {},
     "output_type": "execute_result"
    }
   ],
   "source": [
    "pd.Series(beta_hat, index=[\"intercept\"] + X_train.columns.values.tolist())\\\n",
    "    .round(3)\\\n",
    "    .sort_values()"
   ]
  },
  {
   "cell_type": "code",
   "execution_count": 12,
   "metadata": {},
   "outputs": [
    {
     "data": {
      "text/plain": [
       "<BarContainer object of 11 artists>"
      ]
     },
     "execution_count": 12,
     "metadata": {},
     "output_type": "execute_result"
    },
    {
     "data": {
      "image/png": "[encoded data removed]",
      "text/plain": [
       "<Figure size 1080x576 with 1 Axes>"
      ]
     },
     "metadata": {
      "needs_background": "light"
     },
     "output_type": "display_data"
    }
   ],
   "source": [
    "plt.figure(figsize=(15, 8))\n",
    "plt.bar(X_train.columns[np.argsort(beta_hat[1:])], np.sort(beta_hat[1:]), align=\"center\")"
   ]
  },
  {
   "cell_type": "code",
   "execution_count": 13,
   "metadata": {},
   "outputs": [
    {
     "data": {
      "text/plain": [
       "<matplotlib.collections.PathCollection at 0x7fa66b291e10>"
      ]
     },
     "execution_count": 13,
     "metadata": {},
     "output_type": "execute_result"
    },
    {
     "data": {
      "image/png": "[encoded data removed]",
      "text/plain": [
       "<Figure size 432x288 with 1 Axes>"
      ]
     },
     "metadata": {
      "needs_background": "light"
     },
     "output_type": "display_data"
    }
   ],
   "source": [
    "plt.scatter(X_train[\"density\"], y_train)"
   ]
  },
  {
   "cell_type": "code",
   "execution_count": 14,
   "metadata": {},
   "outputs": [
    {
     "data": {
      "text/plain": [
       "<matplotlib.collections.PathCollection at 0x7fa66b06e828>"
      ]
     },
     "execution_count": 14,
     "metadata": {},
     "output_type": "execute_result"
    },
    {
     "data": {
      "image/png": "[encoded data removed]",
      "text/plain": [
       "<Figure size 432x288 with 1 Axes>"
      ]
     },
     "metadata": {
      "needs_background": "light"
     },
     "output_type": "display_data"
    }
   ],
   "source": [
    "plt.scatter(X_train[\"sulphates\"], y_train)"
   ]
  },
  {
   "cell_type": "code",
   "execution_count": null,
   "metadata": {},
   "outputs": [],
   "source": []
  },
  {
   "cell_type": "code",
   "execution_count": null,
   "metadata": {},
   "outputs": [],
   "source": []
  },
  {
   "cell_type": "markdown",
   "metadata": {},
   "source": [
    "How well does your model fit? <br>\n",
    "You should be able to measure the goodness of fit, RSS, <br>\n",
    "on both the training data and the test data, <br>\n",
    "but only report the results on the test data. <br>\n",
    "<br>\n",
    "In Machine Learning we almost always only care about<br> \n",
    "how well the model fits on data that has not been used to fit the model, <br>\n",
    "because we need to use the model in the future, not the past. <br>\n",
    "Therefore, we only report performance with holdout data, or test data."
   ]
  },
  {
   "cell_type": "code",
   "execution_count": 15,
   "metadata": {},
   "outputs": [],
   "source": [
    "def r_square(y_true, y_pred):\n",
    "    if len(y_true) != len(y_pred):\n",
    "        raise ValueError(\"length mismatched\")\n",
    "    \n",
    "    tmp = pd.concat([y_true, y_pred], axis=1)\n",
    "    tmp.columns = [\"y_true\", \"y_pred\"]\n",
    "    ss_res = sum((tmp[\"y_true\"] - tmp[\"y_pred\"])**2)\n",
    "    ss_tot = sum((tmp[\"y_true\"] - tmp[\"y_true\"].mean())**2)\n",
    "    return 1 - ss_res/ss_tot"
   ]
  },
  {
   "cell_type": "code",
   "execution_count": 16,
   "metadata": {},
   "outputs": [
    {
     "name": "stdout",
     "output_type": "stream",
     "text": [
      "Model Performance in the Test Set: \n",
      "RSS:  130.5263193301833\n",
      "R^2(Goodness of Fit):  0.3988001982972622\n"
     ]
    }
   ],
   "source": [
    "print(\"Model Performance in the Test Set: \")\n",
    "print(\"RSS: \", RSS(beta_hat, X_test, y_test))\n",
    "print(\"R^2(Goodness of Fit): \", r_square(y_test, predict(beta_hat, X_test)))"
   ]
  },
  {
   "cell_type": "code",
   "execution_count": null,
   "metadata": {},
   "outputs": [],
   "source": []
  },
  {
   "cell_type": "code",
   "execution_count": null,
   "metadata": {},
   "outputs": [],
   "source": []
  },
  {
   "cell_type": "markdown",
   "metadata": {},
   "source": [
    "Does the end result or RSS change if you try different initial values of β? <br>\n",
    "What happens if you change the magnitude of the initial β?"
   ]
  },
  {
   "cell_type": "markdown",
   "metadata": {},
   "source": [
    "##### Ans\n",
    "it does not change a lot when we try different init value, the magnitude of beta, or the solver. \n",
    "\n",
    "it always trains similar model."
   ]
  },
  {
   "cell_type": "code",
   "execution_count": 17,
   "metadata": {},
   "outputs": [
    {
     "name": "stdout",
     "output_type": "stream",
     "text": [
      "new init beta:  [ 1.62880756  1.43991777  0.43556328  1.96811993  1.41434108  1.66287419\n",
      "  0.74711356  0.18859671  1.30126725 -0.12910841  0.3768061   0.9917199 ] \n",
      "\n",
      "the diff between new beta hat and beta hat [ 1.36094218e-03  1.34216577e-06  9.50960573e-07 -2.80882229e-08\n",
      "  5.65101470e-07  4.81611258e-06 -1.08039449e-08  5.98083859e-09\n",
      " -1.39171815e-03  7.33198888e-06  1.60894508e-06 -1.21575442e-06] \n",
      "\n",
      "new RSS:  536.6400931153305\n"
     ]
    }
   ],
   "source": [
    "beta = np.random.normal(0, 1, (X_train.shape[1] + 1, 1))\n",
    "print(\"new init beta: \", beta.reshape(1, -1)[0], \"\\n\")\n",
    "opt = minimize(fun=RSS, x0=beta, args=(X_train, y_train))\n",
    "new_beta_hat = opt.x\n",
    "print(\"the diff between new beta hat and beta hat\", new_beta_hat - beta_hat, \"\\n\")\n",
    "print(\"new RSS: \", RSS(new_beta_hat, X_train, y_train))"
   ]
  },
  {
   "cell_type": "code",
   "execution_count": 20,
   "metadata": {},
   "outputs": [
    {
     "name": "stdout",
     "output_type": "stream",
     "text": [
      "new init beta:  [ 95.59918673 100.81331956  95.61484705  91.92144924  98.83694237\n",
      "  96.98986182  99.18809076 101.11523189 114.3765332   95.76297988\n",
      " 103.7151592  112.24766032] \n",
      "\n",
      "the diff between new beta hat and beta hat [-4.19882595e-05 -3.46821936e-08 -4.02260585e-08  1.43666954e-07\n",
      " -1.93301446e-08  1.14095589e-07  9.55724996e-11  5.71235863e-10\n",
      "  4.20803923e-05  3.23687117e-08 -1.14790813e-07  3.13652069e-08] \n",
      "\n",
      "new RSS:  536.6400931179884\n"
     ]
    }
   ],
   "source": [
    "beta = np.random.normal(100, 10, (X_train.shape[1] + 1, 1))\n",
    "print(\"new init beta: \", beta.reshape(1, -1)[0], \"\\n\")\n",
    "opt = minimize(fun=RSS, x0=beta, args=(X_train, y_train))\n",
    "new_beta_hat = opt.x\n",
    "print(\"the diff between new beta hat and beta hat\", new_beta_hat - beta_hat, \"\\n\")\n",
    "print(\"new RSS: \", RSS(new_beta_hat, X_train, y_train))"
   ]
  },
  {
   "cell_type": "code",
   "execution_count": null,
   "metadata": {},
   "outputs": [],
   "source": []
  },
  {
   "cell_type": "markdown",
   "metadata": {},
   "source": [
    "Does the choice of solver method change the end result or RSS? "
   ]
  },
  {
   "cell_type": "code",
   "execution_count": 19,
   "metadata": {},
   "outputs": [
    {
     "name": "stdout",
     "output_type": "stream",
     "text": [
      "new init beta:  [ 0.63304156 -0.78552402 -1.42122776  0.15914259 -1.77147449  0.69755715\n",
      "  0.25193168  0.73105988  2.06135173 -0.06364885 -0.76269358  0.87897901] \n",
      "\n",
      "the diff between new beta hat and beta hat [-3.46551354e+01  1.55810283e-02 -7.92983274e-02  7.27581196e-02\n",
      " -1.38425013e-02  3.19783107e-01 -1.28223133e-03  5.91919880e-04\n",
      "  3.20413611e+01  7.55839688e-01  8.06167843e-04  1.00107909e-02] \n",
      "\n",
      "new RSS:  548.9636251862221\n"
     ]
    }
   ],
   "source": [
    "beta = np.random.normal(0, 1, (X_train.shape[1] + 1, 1))\n",
    "print(\"new init beta: \", beta.reshape(1, -1)[0], \"\\n\")\n",
    "opt = minimize(fun=RSS, x0=beta, args=(X_train, y_train), method=\"Powell\")\n",
    "new_beta_hat = opt.x\n",
    "print(\"the diff between new beta hat and beta hat\", new_beta_hat - beta_hat, \"\\n\")\n",
    "print(\"new RSS: \", RSS(new_beta_hat, X_train, y_train))"
   ]
  },
  {
   "cell_type": "code",
   "execution_count": null,
   "metadata": {},
   "outputs": [],
   "source": []
  },
  {
   "cell_type": "code",
   "execution_count": null,
   "metadata": {},
   "outputs": [],
   "source": []
  },
  {
   "cell_type": "code",
   "execution_count": null,
   "metadata": {},
   "outputs": [],
   "source": []
  },
  {
   "cell_type": "markdown",
   "metadata": {},
   "source": [
    "### Question 2"
   ]
  },
  {
   "cell_type": "code",
   "execution_count": 21,
   "metadata": {},
   "outputs": [],
   "source": [
    "def RSS(beta, X, y, penalty=None, lam=0.01):\n",
    "    tmp = pd.concat([y, predict(beta, X)], axis=1)\n",
    "    \n",
    "    if pd.isnull(tmp).any(axis=1).sum():\n",
    "        raise ValueError(\"y and y_hat indexes are mismatched\")\n",
    "        \n",
    "        \n",
    "    if penalty == \"l1\":\n",
    "        penalty = lam * sum(abs(beta[1:])\n",
    "                           )\n",
    "    elif penalty == \"l2\":\n",
    "        penalty = lam * sum(beta[1:]**2)\n",
    "        \n",
    "    else:\n",
    "        penalty = 0\n",
    "        \n",
    "    return tmp.apply(lambda s: (s[0] - s[1])**2, axis=1).sum() + penalty"
   ]
  },
  {
   "cell_type": "markdown",
   "metadata": {},
   "source": [
    "##### Ridge Regression (L2)"
   ]
  },
  {
   "cell_type": "code",
   "execution_count": 22,
   "metadata": {},
   "outputs": [],
   "source": [
    "beta = np.random.normal(0, 1, (X_train.shape[1] + 1, 1))\n",
    "opt = minimize(fun=RSS, x0=beta, args=(X_train, y_train, \"l2\"))\n",
    "beta_hat_L2 = opt.x"
   ]
  },
  {
   "cell_type": "code",
   "execution_count": 36,
   "metadata": {},
   "outputs": [
    {
     "data": {
      "text/html": [
       "<div>\n",
       "<style scoped>\n",
       "    .dataframe tbody tr th:only-of-type {\n",
       "        vertical-align: middle;\n",
       "    }\n",
       "\n",
       "    .dataframe tbody tr th {\n",
       "        vertical-align: top;\n",
       "    }\n",
       "\n",
       "    .dataframe thead th {\n",
       "        text-align: right;\n",
       "    }\n",
       "</style>\n",
       "<table border=\"1\" class=\"dataframe\">\n",
       "  <thead>\n",
       "    <tr style=\"text-align: right;\">\n",
       "      <th></th>\n",
       "      <th>beta_hat</th>\n",
       "      <th>beta_hat_L2</th>\n",
       "    </tr>\n",
       "  </thead>\n",
       "  <tbody>\n",
       "    <tr>\n",
       "      <td>intercept</td>\n",
       "      <td>7.606</td>\n",
       "      <td>4.524</td>\n",
       "    </tr>\n",
       "    <tr>\n",
       "      <td>fixed acidity</td>\n",
       "      <td>0.009</td>\n",
       "      <td>0.007</td>\n",
       "    </tr>\n",
       "    <tr>\n",
       "      <td>volatile acidity</td>\n",
       "      <td>-1.061</td>\n",
       "      <td>-1.064</td>\n",
       "    </tr>\n",
       "    <tr>\n",
       "      <td>citric acid</td>\n",
       "      <td>-0.108</td>\n",
       "      <td>-0.109</td>\n",
       "    </tr>\n",
       "    <tr>\n",
       "      <td>residual sugar</td>\n",
       "      <td>0.014</td>\n",
       "      <td>0.012</td>\n",
       "    </tr>\n",
       "    <tr>\n",
       "      <td>chlorides</td>\n",
       "      <td>-1.857</td>\n",
       "      <td>-1.853</td>\n",
       "    </tr>\n",
       "    <tr>\n",
       "      <td>free sulfur dioxide</td>\n",
       "      <td>0.004</td>\n",
       "      <td>0.004</td>\n",
       "    </tr>\n",
       "    <tr>\n",
       "      <td>total sulfur dioxide</td>\n",
       "      <td>-0.004</td>\n",
       "      <td>-0.004</td>\n",
       "    </tr>\n",
       "    <tr>\n",
       "      <td>density</td>\n",
       "      <td>-3.374</td>\n",
       "      <td>-0.233</td>\n",
       "    </tr>\n",
       "    <tr>\n",
       "      <td>pH</td>\n",
       "      <td>-0.402</td>\n",
       "      <td>-0.417</td>\n",
       "    </tr>\n",
       "    <tr>\n",
       "      <td>sulphates</td>\n",
       "      <td>0.887</td>\n",
       "      <td>0.881</td>\n",
       "    </tr>\n",
       "    <tr>\n",
       "      <td>alcohol</td>\n",
       "      <td>0.276</td>\n",
       "      <td>0.279</td>\n",
       "    </tr>\n",
       "  </tbody>\n",
       "</table>\n",
       "</div>"
      ],
      "text/plain": [
       "                      beta_hat  beta_hat_L2\n",
       "intercept                7.606        4.524\n",
       "fixed acidity            0.009        0.007\n",
       "volatile acidity        -1.061       -1.064\n",
       "citric acid             -0.108       -0.109\n",
       "residual sugar           0.014        0.012\n",
       "chlorides               -1.857       -1.853\n",
       "free sulfur dioxide      0.004        0.004\n",
       "total sulfur dioxide    -0.004       -0.004\n",
       "density                 -3.374       -0.233\n",
       "pH                      -0.402       -0.417\n",
       "sulphates                0.887        0.881\n",
       "alcohol                  0.276        0.279"
      ]
     },
     "execution_count": 36,
     "metadata": {},
     "output_type": "execute_result"
    }
   ],
   "source": [
    "pd.DataFrame(\n",
    "    np.array([beta_hat, beta_hat_L2]).T, \n",
    "    index=[\"intercept\"] + X_train.columns.values.tolist(),\n",
    "    columns=[\"beta_hat\", \"beta_hat_L2\"]\n",
    ").round(3)"
   ]
  },
  {
   "cell_type": "markdown",
   "metadata": {},
   "source": [
    "How does RSS on the training data change? How does RSS on the test data change?\n",
    "\n",
    "### Ans\n",
    "both RSS in train and test set are slightly raised. this is probably because there is no overfitting issue in the original regression. Hence, a complex model (original model) outperforms a simple model (ridge regression)."
   ]
  },
  {
   "cell_type": "code",
   "execution_count": 39,
   "metadata": {},
   "outputs": [
    {
     "name": "stdout",
     "output_type": "stream",
     "text": [
      "Ridge Regression Performance\n",
      "RSS in train set:  536.6474353611491\n",
      "RSS in test set:  130.62036314242602\n"
     ]
    }
   ],
   "source": [
    "print(\"Ridge Regression Performance\")\n",
    "print(\"RSS in train set: \", RSS(beta_hat_L2, X_train, y_train))\n",
    "print(\"RSS in test set: \", RSS(beta_hat_L2, X_test, y_test))"
   ]
  },
  {
   "cell_type": "code",
   "execution_count": 46,
   "metadata": {},
   "outputs": [
    {
     "name": "stdout",
     "output_type": "stream",
     "text": [
      "Ridge Regression RSS in test set\n",
      "when lambda=0.001 130.58210197450867\n",
      "when lambda=0.010 130.6203553576877\n",
      "when lambda=0.100 130.6670163002344\n",
      "when lambda=1.000 131.14401739219915\n",
      "when lambda=10.000 134.05128161657322\n"
     ]
    }
   ],
   "source": [
    "print(\"Ridge Regression RSS in test set\")\n",
    "beta = np.random.normal(0, 1, (X_train.shape[1] + 1, 1))\n",
    "\n",
    "lam = 0.001\n",
    "opt = minimize(fun=RSS, x0=beta, args=(X_train, y_train, \"l2\", lam))\n",
    "print(\"when lambda=%.3f\" % lam, RSS(opt.x, X_test, y_test))\n",
    "\n",
    "lam = 0.01\n",
    "opt = minimize(fun=RSS, x0=beta, args=(X_train, y_train, \"l2\", lam))\n",
    "print(\"when lambda=%.3f\" % lam, RSS(opt.x, X_test, y_test))\n",
    "\n",
    "lam = 0.1\n",
    "opt = minimize(fun=RSS, x0=beta, args=(X_train, y_train, \"l2\", lam))\n",
    "print(\"when lambda=%.3f\" % lam, RSS(opt.x, X_test, y_test))\n",
    "\n",
    "lam = 1\n",
    "opt = minimize(fun=RSS, x0=beta, args=(X_train, y_train, \"l2\", lam))\n",
    "print(\"when lambda=%.3f\" % lam, RSS(opt.x, X_test, y_test))\n",
    "\n",
    "lam = 10\n",
    "opt = minimize(fun=RSS, x0=beta, args=(X_train, y_train, \"l2\", lam))\n",
    "print(\"when lambda=%.3f\" % lam, RSS(opt.x, X_test, y_test))"
   ]
  },
  {
   "cell_type": "markdown",
   "metadata": {},
   "source": [
    "### Ans\n",
    "the results above prove my speculation that there is no overfitting issue. Since the larger lambda returns worse RSS, this represents no need to regularize. "
   ]
  },
  {
   "cell_type": "code",
   "execution_count": null,
   "metadata": {},
   "outputs": [],
   "source": []
  },
  {
   "cell_type": "code",
   "execution_count": null,
   "metadata": {},
   "outputs": [],
   "source": []
  },
  {
   "cell_type": "markdown",
   "metadata": {},
   "source": [
    "##### Lasso Regression (L1)"
   ]
  },
  {
   "cell_type": "code",
   "execution_count": 47,
   "metadata": {},
   "outputs": [
    {
     "name": "stdout",
     "output_type": "stream",
     "text": [
      "Lasso Regression RSS in test set\n",
      "when lambda=0.001 130.54585859200915\n",
      "when lambda=0.010 130.62591325138112\n",
      "when lambda=0.100 130.74851857578417\n",
      "when lambda=1.000 130.98671403233485\n",
      "when lambda=10.000 134.93298489810562\n"
     ]
    }
   ],
   "source": [
    "print(\"Lasso Regression RSS in test set\")\n",
    "beta = np.random.normal(0, 1, (X_train.shape[1] + 1, 1))\n",
    "\n",
    "lam = 0.001\n",
    "opt = minimize(fun=RSS, x0=beta, args=(X_train, y_train, \"l1\", lam))\n",
    "print(\"when lambda=%.3f\" % lam, RSS(opt.x, X_test, y_test))\n",
    "\n",
    "lam = 0.01\n",
    "opt = minimize(fun=RSS, x0=beta, args=(X_train, y_train, \"l1\", lam))\n",
    "print(\"when lambda=%.3f\" % lam, RSS(opt.x, X_test, y_test))\n",
    "\n",
    "lam = 0.1\n",
    "opt = minimize(fun=RSS, x0=beta, args=(X_train, y_train, \"l1\", lam))\n",
    "print(\"when lambda=%.3f\" % lam, RSS(opt.x, X_test, y_test))\n",
    "\n",
    "lam = 1\n",
    "opt = minimize(fun=RSS, x0=beta, args=(X_train, y_train, \"l1\", lam))\n",
    "print(\"when lambda=%.3f\" % lam, RSS(opt.x, X_test, y_test))\n",
    "\n",
    "lam = 10\n",
    "opt = minimize(fun=RSS, x0=beta, args=(X_train, y_train, \"l1\", lam))\n",
    "print(\"when lambda=%.3f\" % lam, RSS(opt.x, X_test, y_test))"
   ]
  },
  {
   "cell_type": "code",
   "execution_count": 58,
   "metadata": {},
   "outputs": [
    {
     "name": "stdout",
     "output_type": "stream",
     "text": [
      "when lambda=0.010 130.62591325138112\n"
     ]
    },
    {
     "data": {
      "text/plain": [
       "fixed acidity           6.288149e-03\n",
       "volatile acidity       -1.064010e+00\n",
       "citric acid            -1.083022e-01\n",
       "residual sugar          1.211711e-02\n",
       "chlorides              -1.859654e+00\n",
       "free sulfur dioxide     4.447296e-03\n",
       "total sulfur dioxide   -3.639038e-03\n",
       "density                -7.934891e-09\n",
       "pH                     -4.181624e-01\n",
       "sulphates               8.815723e-01\n",
       "alcohol                 2.791723e-01\n",
       "dtype: float64"
      ]
     },
     "execution_count": 58,
     "metadata": {},
     "output_type": "execute_result"
    }
   ],
   "source": [
    "lam = 0.01\n",
    "opt = minimize(fun=RSS, x0=beta, args=(X_train, y_train, \"l1\", lam))\n",
    "print(\"when lambda=%.3f\" % lam, RSS(opt.x, X_test, y_test))\n",
    "pd.Series(opt.x[1:], index=X_test.columns.values)"
   ]
  },
  {
   "cell_type": "code",
   "execution_count": 59,
   "metadata": {},
   "outputs": [
    {
     "name": "stdout",
     "output_type": "stream",
     "text": [
      "when lambda=0.010 134.76822560186184\n"
     ]
    },
    {
     "data": {
      "text/plain": [
       "fixed acidity            1.277278\n",
       "volatile acidity       -33.123443\n",
       "citric acid            -11.043585\n",
       "residual sugar           0.789888\n",
       "chlorides              -45.244510\n",
       "free sulfur dioxide      1.586855\n",
       "total sulfur dioxide     2.406756\n",
       "density                -27.825176\n",
       "pH                     -20.887220\n",
       "sulphates               39.819290\n",
       "alcohol                 10.236965\n",
       "dtype: float64"
      ]
     },
     "execution_count": 59,
     "metadata": {},
     "output_type": "execute_result"
    }
   ],
   "source": [
    "# normalized X_train\n",
    "from sklearn.preprocessing import Normalizer\n",
    "\n",
    "lam = 0.01\n",
    "norm = Normalizer()\n",
    "norm.fit(X_train)\n",
    "def normal(X):\n",
    "    return pd.DataFrame(norm.transform(X), columns=X.columns.values, index=X.index.values)\n",
    "\n",
    "opt = minimize(fun=RSS, x0=beta, args=(normal(X_train), y_train, \"l1\", lam))\n",
    "print(\"when lambda=%.3f\" % lam, RSS(opt.x, normal(X_test), y_test))\n",
    "pd.Series(opt.x[1:], index=X_test.columns.values)"
   ]
  },
  {
   "cell_type": "markdown",
   "metadata": {},
   "source": [
    "##### Ans\n",
    "the magnitude of the features in X won't affect the results with regularization. But, the magnitude of the coefficient will be affect by regularization. The less information a larger"
   ]
  }
 ],
 "metadata": {
  "kernelspec": {
   "display_name": "Python 3",
   "language": "python",
   "name": "python3"
  },
  "language_info": {
   "codemirror_mode": {
    "name": "ipython",
    "version": 3
   },
   "file_extension": ".py",
   "mimetype": "text/x-python",
   "name": "python",
   "nbconvert_exporter": "python",
   "pygments_lexer": "ipython3",
   "version": "3.7.3"
  }
 },
 "nbformat": 4,
 "nbformat_minor": 2
}
