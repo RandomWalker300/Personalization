{
 "cells": [
  {
   "cell_type": "markdown",
   "metadata": {},
   "source": [
    "1. name: Yi-Ping Tseng\n",
    "2. uni: yt2690\n",
    "3. email: yiping.t@columbia.edu\n",
    "4. collaborate with: Zihui Zhou (uni: zz2694)"
   ]
  },
  {
   "cell_type": "code",
   "execution_count": 1,
   "metadata": {},
   "outputs": [],
   "source": [
    "import numpy as np\n",
    "import pandas as pd\n",
    "from sklearn.model_selection import KFold\n",
    "from scipy.optimize import minimize\n",
    "import matplotlib.pyplot as plt\n",
    "%matplotlib inline"
   ]
  },
  {
   "cell_type": "code",
   "execution_count": null,
   "metadata": {},
   "outputs": [],
   "source": []
  },
  {
   "cell_type": "markdown",
   "metadata": {},
   "source": [
    "### Setup - Preprocessed Data \n",
    "randomly split dataset into train and test set <br>\n",
    "by using `pandas` and `sklearn.model_selection`"
   ]
  },
  {
   "cell_type": "code",
   "execution_count": 2,
   "metadata": {},
   "outputs": [
    {
     "name": "stdout",
     "output_type": "stream",
     "text": [
      "features:  ['fixed acidity' 'volatile acidity' 'citric acid' 'residual sugar'\n",
      " 'chlorides' 'free sulfur dioxide' 'total sulfur dioxide' 'density' 'pH'\n",
      " 'sulphates' 'alcohol']\n",
      "target:  ['quality']\n",
      "data shape:  (1599, 12)\n"
     ]
    },
    {
     "data": {
      "text/html": [
       "<div>\n",
       "<style scoped>\n",
       "    .dataframe tbody tr th:only-of-type {\n",
       "        vertical-align: middle;\n",
       "    }\n",
       "\n",
       "    .dataframe tbody tr th {\n",
       "        vertical-align: top;\n",
       "    }\n",
       "\n",
       "    .dataframe thead th {\n",
       "        text-align: right;\n",
       "    }\n",
       "</style>\n",
       "<table border=\"1\" class=\"dataframe\">\n",
       "  <thead>\n",
       "    <tr style=\"text-align: right;\">\n",
       "      <th></th>\n",
       "      <th>fixed acidity</th>\n",
       "      <th>volatile acidity</th>\n",
       "      <th>citric acid</th>\n",
       "      <th>residual sugar</th>\n",
       "      <th>chlorides</th>\n",
       "      <th>free sulfur dioxide</th>\n",
       "      <th>total sulfur dioxide</th>\n",
       "      <th>density</th>\n",
       "      <th>pH</th>\n",
       "      <th>sulphates</th>\n",
       "      <th>alcohol</th>\n",
       "      <th>quality</th>\n",
       "    </tr>\n",
       "  </thead>\n",
       "  <tbody>\n",
       "    <tr>\n",
       "      <td>0</td>\n",
       "      <td>7.4</td>\n",
       "      <td>0.70</td>\n",
       "      <td>0.00</td>\n",
       "      <td>1.9</td>\n",
       "      <td>0.076</td>\n",
       "      <td>11.0</td>\n",
       "      <td>34.0</td>\n",
       "      <td>0.9978</td>\n",
       "      <td>3.51</td>\n",
       "      <td>0.56</td>\n",
       "      <td>9.4</td>\n",
       "      <td>5</td>\n",
       "    </tr>\n",
       "    <tr>\n",
       "      <td>1</td>\n",
       "      <td>7.8</td>\n",
       "      <td>0.88</td>\n",
       "      <td>0.00</td>\n",
       "      <td>2.6</td>\n",
       "      <td>0.098</td>\n",
       "      <td>25.0</td>\n",
       "      <td>67.0</td>\n",
       "      <td>0.9968</td>\n",
       "      <td>3.20</td>\n",
       "      <td>0.68</td>\n",
       "      <td>9.8</td>\n",
       "      <td>5</td>\n",
       "    </tr>\n",
       "    <tr>\n",
       "      <td>2</td>\n",
       "      <td>7.8</td>\n",
       "      <td>0.76</td>\n",
       "      <td>0.04</td>\n",
       "      <td>2.3</td>\n",
       "      <td>0.092</td>\n",
       "      <td>15.0</td>\n",
       "      <td>54.0</td>\n",
       "      <td>0.9970</td>\n",
       "      <td>3.26</td>\n",
       "      <td>0.65</td>\n",
       "      <td>9.8</td>\n",
       "      <td>5</td>\n",
       "    </tr>\n",
       "  </tbody>\n",
       "</table>\n",
       "</div>"
      ],
      "text/plain": [
       "   fixed acidity  volatile acidity  citric acid  residual sugar  chlorides  \\\n",
       "0            7.4              0.70         0.00             1.9      0.076   \n",
       "1            7.8              0.88         0.00             2.6      0.098   \n",
       "2            7.8              0.76         0.04             2.3      0.092   \n",
       "\n",
       "   free sulfur dioxide  total sulfur dioxide  density    pH  sulphates  \\\n",
       "0                 11.0                  34.0   0.9978  3.51       0.56   \n",
       "1                 25.0                  67.0   0.9968  3.20       0.68   \n",
       "2                 15.0                  54.0   0.9970  3.26       0.65   \n",
       "\n",
       "   alcohol  quality  \n",
       "0      9.4        5  \n",
       "1      9.8        5  \n",
       "2      9.8        5  "
      ]
     },
     "execution_count": 2,
     "metadata": {},
     "output_type": "execute_result"
    }
   ],
   "source": [
    "data = pd.read_csv(\"winequalityred.csv\", sep=\";\")\n",
    "y = [\"quality\"]\n",
    "x = data.drop(y, axis=1).columns.values\n",
    "\n",
    "print(\"features: \", x)\n",
    "print(\"target: \", y)\n",
    "print(\"data shape: \", data.shape)\n",
    "data.head(3)"
   ]
  },
  {
   "cell_type": "code",
   "execution_count": 3,
   "metadata": {},
   "outputs": [],
   "source": [
    "seed = 100\n",
    "kf = KFold(shuffle=False, n_splits=5, random_state=seed)\n",
    "for trainIdx, testIdx in kf.split(data):\n",
    "    X_train, X_test = data[x].iloc[trainIdx], data[x].iloc[testIdx]\n",
    "    y_train, y_test = data[y].iloc[trainIdx], data[y].iloc[testIdx]"
   ]
  },
  {
   "cell_type": "code",
   "execution_count": 4,
   "metadata": {},
   "outputs": [
    {
     "name": "stdout",
     "output_type": "stream",
     "text": [
      "(1280, 11) (1280, 1)\n"
     ]
    },
    {
     "data": {
      "text/html": [
       "<div>\n",
       "<style scoped>\n",
       "    .dataframe tbody tr th:only-of-type {\n",
       "        vertical-align: middle;\n",
       "    }\n",
       "\n",
       "    .dataframe tbody tr th {\n",
       "        vertical-align: top;\n",
       "    }\n",
       "\n",
       "    .dataframe thead th {\n",
       "        text-align: right;\n",
       "    }\n",
       "</style>\n",
       "<table border=\"1\" class=\"dataframe\">\n",
       "  <thead>\n",
       "    <tr style=\"text-align: right;\">\n",
       "      <th></th>\n",
       "      <th>fixed acidity</th>\n",
       "      <th>volatile acidity</th>\n",
       "      <th>citric acid</th>\n",
       "      <th>residual sugar</th>\n",
       "      <th>chlorides</th>\n",
       "      <th>free sulfur dioxide</th>\n",
       "      <th>total sulfur dioxide</th>\n",
       "      <th>density</th>\n",
       "      <th>pH</th>\n",
       "      <th>sulphates</th>\n",
       "      <th>alcohol</th>\n",
       "      <th>quality</th>\n",
       "    </tr>\n",
       "  </thead>\n",
       "  <tbody>\n",
       "    <tr>\n",
       "      <td>0</td>\n",
       "      <td>7.4</td>\n",
       "      <td>0.70</td>\n",
       "      <td>0.00</td>\n",
       "      <td>1.9</td>\n",
       "      <td>0.076</td>\n",
       "      <td>11.0</td>\n",
       "      <td>34.0</td>\n",
       "      <td>0.9978</td>\n",
       "      <td>3.51</td>\n",
       "      <td>0.56</td>\n",
       "      <td>9.4</td>\n",
       "      <td>5</td>\n",
       "    </tr>\n",
       "    <tr>\n",
       "      <td>1</td>\n",
       "      <td>7.8</td>\n",
       "      <td>0.88</td>\n",
       "      <td>0.00</td>\n",
       "      <td>2.6</td>\n",
       "      <td>0.098</td>\n",
       "      <td>25.0</td>\n",
       "      <td>67.0</td>\n",
       "      <td>0.9968</td>\n",
       "      <td>3.20</td>\n",
       "      <td>0.68</td>\n",
       "      <td>9.8</td>\n",
       "      <td>5</td>\n",
       "    </tr>\n",
       "    <tr>\n",
       "      <td>2</td>\n",
       "      <td>7.8</td>\n",
       "      <td>0.76</td>\n",
       "      <td>0.04</td>\n",
       "      <td>2.3</td>\n",
       "      <td>0.092</td>\n",
       "      <td>15.0</td>\n",
       "      <td>54.0</td>\n",
       "      <td>0.9970</td>\n",
       "      <td>3.26</td>\n",
       "      <td>0.65</td>\n",
       "      <td>9.8</td>\n",
       "      <td>5</td>\n",
       "    </tr>\n",
       "  </tbody>\n",
       "</table>\n",
       "</div>"
      ],
      "text/plain": [
       "   fixed acidity  volatile acidity  citric acid  residual sugar  chlorides  \\\n",
       "0            7.4              0.70         0.00             1.9      0.076   \n",
       "1            7.8              0.88         0.00             2.6      0.098   \n",
       "2            7.8              0.76         0.04             2.3      0.092   \n",
       "\n",
       "   free sulfur dioxide  total sulfur dioxide  density    pH  sulphates  \\\n",
       "0                 11.0                  34.0   0.9978  3.51       0.56   \n",
       "1                 25.0                  67.0   0.9968  3.20       0.68   \n",
       "2                 15.0                  54.0   0.9970  3.26       0.65   \n",
       "\n",
       "   alcohol  quality  \n",
       "0      9.4        5  \n",
       "1      9.8        5  \n",
       "2      9.8        5  "
      ]
     },
     "execution_count": 4,
     "metadata": {},
     "output_type": "execute_result"
    }
   ],
   "source": [
    "print(X_train.shape, y_train.shape)\n",
    "pd.concat([X_train.head(3), y_train.head(3)], axis=1)"
   ]
  },
  {
   "cell_type": "code",
   "execution_count": 5,
   "metadata": {},
   "outputs": [
    {
     "data": {
      "text/html": [
       "<div>\n",
       "<style scoped>\n",
       "    .dataframe tbody tr th:only-of-type {\n",
       "        vertical-align: middle;\n",
       "    }\n",
       "\n",
       "    .dataframe tbody tr th {\n",
       "        vertical-align: top;\n",
       "    }\n",
       "\n",
       "    .dataframe thead th {\n",
       "        text-align: right;\n",
       "    }\n",
       "</style>\n",
       "<table border=\"1\" class=\"dataframe\">\n",
       "  <thead>\n",
       "    <tr style=\"text-align: right;\">\n",
       "      <th></th>\n",
       "      <th>fixed acidity</th>\n",
       "      <th>volatile acidity</th>\n",
       "      <th>citric acid</th>\n",
       "      <th>residual sugar</th>\n",
       "      <th>chlorides</th>\n",
       "      <th>free sulfur dioxide</th>\n",
       "      <th>total sulfur dioxide</th>\n",
       "      <th>density</th>\n",
       "      <th>pH</th>\n",
       "      <th>sulphates</th>\n",
       "      <th>alcohol</th>\n",
       "    </tr>\n",
       "  </thead>\n",
       "  <tbody>\n",
       "    <tr>\n",
       "      <td>count</td>\n",
       "      <td>1280.000000</td>\n",
       "      <td>1280.000000</td>\n",
       "      <td>1280.000000</td>\n",
       "      <td>1280.000000</td>\n",
       "      <td>1280.000000</td>\n",
       "      <td>1280.000000</td>\n",
       "      <td>1280.000000</td>\n",
       "      <td>1280.000000</td>\n",
       "      <td>1280.000000</td>\n",
       "      <td>1280.000000</td>\n",
       "      <td>1280.000000</td>\n",
       "    </tr>\n",
       "    <tr>\n",
       "      <td>mean</td>\n",
       "      <td>8.577891</td>\n",
       "      <td>0.518984</td>\n",
       "      <td>0.289297</td>\n",
       "      <td>2.561328</td>\n",
       "      <td>0.088838</td>\n",
       "      <td>15.448438</td>\n",
       "      <td>46.794531</td>\n",
       "      <td>0.996971</td>\n",
       "      <td>3.299641</td>\n",
       "      <td>0.663711</td>\n",
       "      <td>10.400391</td>\n",
       "    </tr>\n",
       "    <tr>\n",
       "      <td>std</td>\n",
       "      <td>1.768994</td>\n",
       "      <td>0.177994</td>\n",
       "      <td>0.196441</td>\n",
       "      <td>1.311638</td>\n",
       "      <td>0.047896</td>\n",
       "      <td>10.320531</td>\n",
       "      <td>33.592566</td>\n",
       "      <td>0.001893</td>\n",
       "      <td>0.155147</td>\n",
       "      <td>0.174030</td>\n",
       "      <td>1.095970</td>\n",
       "    </tr>\n",
       "    <tr>\n",
       "      <td>min</td>\n",
       "      <td>4.600000</td>\n",
       "      <td>0.120000</td>\n",
       "      <td>0.000000</td>\n",
       "      <td>0.900000</td>\n",
       "      <td>0.012000</td>\n",
       "      <td>1.000000</td>\n",
       "      <td>6.000000</td>\n",
       "      <td>0.990070</td>\n",
       "      <td>2.740000</td>\n",
       "      <td>0.330000</td>\n",
       "      <td>8.400000</td>\n",
       "    </tr>\n",
       "    <tr>\n",
       "      <td>25%</td>\n",
       "      <td>7.300000</td>\n",
       "      <td>0.390000</td>\n",
       "      <td>0.120000</td>\n",
       "      <td>1.900000</td>\n",
       "      <td>0.071000</td>\n",
       "      <td>7.000000</td>\n",
       "      <td>21.000000</td>\n",
       "      <td>0.995900</td>\n",
       "      <td>3.200000</td>\n",
       "      <td>0.560000</td>\n",
       "      <td>9.500000</td>\n",
       "    </tr>\n",
       "    <tr>\n",
       "      <td>50%</td>\n",
       "      <td>8.200000</td>\n",
       "      <td>0.500000</td>\n",
       "      <td>0.280000</td>\n",
       "      <td>2.200000</td>\n",
       "      <td>0.080000</td>\n",
       "      <td>13.000000</td>\n",
       "      <td>38.000000</td>\n",
       "      <td>0.996990</td>\n",
       "      <td>3.300000</td>\n",
       "      <td>0.620000</td>\n",
       "      <td>10.100000</td>\n",
       "    </tr>\n",
       "    <tr>\n",
       "      <td>75%</td>\n",
       "      <td>9.600000</td>\n",
       "      <td>0.630000</td>\n",
       "      <td>0.450000</td>\n",
       "      <td>2.600000</td>\n",
       "      <td>0.092000</td>\n",
       "      <td>21.000000</td>\n",
       "      <td>63.000000</td>\n",
       "      <td>0.998030</td>\n",
       "      <td>3.392500</td>\n",
       "      <td>0.730000</td>\n",
       "      <td>11.100000</td>\n",
       "    </tr>\n",
       "    <tr>\n",
       "      <td>max</td>\n",
       "      <td>15.900000</td>\n",
       "      <td>1.330000</td>\n",
       "      <td>1.000000</td>\n",
       "      <td>15.500000</td>\n",
       "      <td>0.611000</td>\n",
       "      <td>72.000000</td>\n",
       "      <td>289.000000</td>\n",
       "      <td>1.003200</td>\n",
       "      <td>3.900000</td>\n",
       "      <td>2.000000</td>\n",
       "      <td>14.900000</td>\n",
       "    </tr>\n",
       "  </tbody>\n",
       "</table>\n",
       "</div>"
      ],
      "text/plain": [
       "       fixed acidity  volatile acidity  citric acid  residual sugar  \\\n",
       "count    1280.000000       1280.000000  1280.000000     1280.000000   \n",
       "mean        8.577891          0.518984     0.289297        2.561328   \n",
       "std         1.768994          0.177994     0.196441        1.311638   \n",
       "min         4.600000          0.120000     0.000000        0.900000   \n",
       "25%         7.300000          0.390000     0.120000        1.900000   \n",
       "50%         8.200000          0.500000     0.280000        2.200000   \n",
       "75%         9.600000          0.630000     0.450000        2.600000   \n",
       "max        15.900000          1.330000     1.000000       15.500000   \n",
       "\n",
       "         chlorides  free sulfur dioxide  total sulfur dioxide      density  \\\n",
       "count  1280.000000          1280.000000           1280.000000  1280.000000   \n",
       "mean      0.088838            15.448438             46.794531     0.996971   \n",
       "std       0.047896            10.320531             33.592566     0.001893   \n",
       "min       0.012000             1.000000              6.000000     0.990070   \n",
       "25%       0.071000             7.000000             21.000000     0.995900   \n",
       "50%       0.080000            13.000000             38.000000     0.996990   \n",
       "75%       0.092000            21.000000             63.000000     0.998030   \n",
       "max       0.611000            72.000000            289.000000     1.003200   \n",
       "\n",
       "                pH    sulphates      alcohol  \n",
       "count  1280.000000  1280.000000  1280.000000  \n",
       "mean      3.299641     0.663711    10.400391  \n",
       "std       0.155147     0.174030     1.095970  \n",
       "min       2.740000     0.330000     8.400000  \n",
       "25%       3.200000     0.560000     9.500000  \n",
       "50%       3.300000     0.620000    10.100000  \n",
       "75%       3.392500     0.730000    11.100000  \n",
       "max       3.900000     2.000000    14.900000  "
      ]
     },
     "execution_count": 5,
     "metadata": {},
     "output_type": "execute_result"
    }
   ],
   "source": [
    "X_train.describe()"
   ]
  },
  {
   "cell_type": "code",
   "execution_count": 6,
   "metadata": {},
   "outputs": [
    {
     "name": "stdout",
     "output_type": "stream",
     "text": [
      "(319, 11) (319, 1)\n"
     ]
    },
    {
     "data": {
      "text/html": [
       "<div>\n",
       "<style scoped>\n",
       "    .dataframe tbody tr th:only-of-type {\n",
       "        vertical-align: middle;\n",
       "    }\n",
       "\n",
       "    .dataframe tbody tr th {\n",
       "        vertical-align: top;\n",
       "    }\n",
       "\n",
       "    .dataframe thead th {\n",
       "        text-align: right;\n",
       "    }\n",
       "</style>\n",
       "<table border=\"1\" class=\"dataframe\">\n",
       "  <thead>\n",
       "    <tr style=\"text-align: right;\">\n",
       "      <th></th>\n",
       "      <th>fixed acidity</th>\n",
       "      <th>volatile acidity</th>\n",
       "      <th>citric acid</th>\n",
       "      <th>residual sugar</th>\n",
       "      <th>chlorides</th>\n",
       "      <th>free sulfur dioxide</th>\n",
       "      <th>total sulfur dioxide</th>\n",
       "      <th>density</th>\n",
       "      <th>pH</th>\n",
       "      <th>sulphates</th>\n",
       "      <th>alcohol</th>\n",
       "      <th>quality</th>\n",
       "    </tr>\n",
       "  </thead>\n",
       "  <tbody>\n",
       "    <tr>\n",
       "      <td>1280</td>\n",
       "      <td>7.1</td>\n",
       "      <td>0.460</td>\n",
       "      <td>0.2</td>\n",
       "      <td>1.9</td>\n",
       "      <td>0.077</td>\n",
       "      <td>28.0</td>\n",
       "      <td>54.0</td>\n",
       "      <td>0.99560</td>\n",
       "      <td>3.37</td>\n",
       "      <td>0.64</td>\n",
       "      <td>10.4</td>\n",
       "      <td>6</td>\n",
       "    </tr>\n",
       "    <tr>\n",
       "      <td>1281</td>\n",
       "      <td>7.1</td>\n",
       "      <td>0.460</td>\n",
       "      <td>0.2</td>\n",
       "      <td>1.9</td>\n",
       "      <td>0.077</td>\n",
       "      <td>28.0</td>\n",
       "      <td>54.0</td>\n",
       "      <td>0.99560</td>\n",
       "      <td>3.37</td>\n",
       "      <td>0.64</td>\n",
       "      <td>10.4</td>\n",
       "      <td>6</td>\n",
       "    </tr>\n",
       "    <tr>\n",
       "      <td>1282</td>\n",
       "      <td>7.9</td>\n",
       "      <td>0.765</td>\n",
       "      <td>0.0</td>\n",
       "      <td>2.0</td>\n",
       "      <td>0.084</td>\n",
       "      <td>9.0</td>\n",
       "      <td>22.0</td>\n",
       "      <td>0.99619</td>\n",
       "      <td>3.33</td>\n",
       "      <td>0.68</td>\n",
       "      <td>10.9</td>\n",
       "      <td>6</td>\n",
       "    </tr>\n",
       "  </tbody>\n",
       "</table>\n",
       "</div>"
      ],
      "text/plain": [
       "      fixed acidity  volatile acidity  citric acid  residual sugar  chlorides  \\\n",
       "1280            7.1             0.460          0.2             1.9      0.077   \n",
       "1281            7.1             0.460          0.2             1.9      0.077   \n",
       "1282            7.9             0.765          0.0             2.0      0.084   \n",
       "\n",
       "      free sulfur dioxide  total sulfur dioxide  density    pH  sulphates  \\\n",
       "1280                 28.0                  54.0  0.99560  3.37       0.64   \n",
       "1281                 28.0                  54.0  0.99560  3.37       0.64   \n",
       "1282                  9.0                  22.0  0.99619  3.33       0.68   \n",
       "\n",
       "      alcohol  quality  \n",
       "1280     10.4        6  \n",
       "1281     10.4        6  \n",
       "1282     10.9        6  "
      ]
     },
     "execution_count": 6,
     "metadata": {},
     "output_type": "execute_result"
    }
   ],
   "source": [
    "print(X_test.shape, y_test.shape)\n",
    "pd.concat([X_test.head(3), y_test.head(3)], axis=1)"
   ]
  },
  {
   "cell_type": "code",
   "execution_count": null,
   "metadata": {},
   "outputs": [],
   "source": []
  },
  {
   "cell_type": "code",
   "execution_count": null,
   "metadata": {},
   "outputs": [],
   "source": []
  },
  {
   "cell_type": "markdown",
   "metadata": {},
   "source": [
    "### Regression equations and functions\n",
    "1. adding intercept\n",
    "2. the equation for a the linear model that predicts y from X\n",
    "3. the equation for computing the Residual Sum of Squares (RSS) for the linear model\n",
    "\n",
    "by using `pandas` and `numpy`"
   ]
  },
  {
   "cell_type": "code",
   "execution_count": 7,
   "metadata": {},
   "outputs": [],
   "source": [
    "def predict(beta, X):\n",
    "    if isinstance(beta, (pd.DataFrame, pd.Series)):\n",
    "        beta = beta.values\n",
    "    \n",
    "    if isinstance(X, (pd.DataFrame, pd.Series)):\n",
    "        index = X.index.values\n",
    "        X = X.values\n",
    "    \n",
    "    if beta.shape[0] - X.shape[1] == 1:\n",
    "        X = np.concatenate([np.ones(shape=(X.shape[0], 1)), X], axis=1)\n",
    "    \n",
    "    return pd.DataFrame(np.matmul(X, beta), index=index, columns=[\"y_hat\"])\n",
    "\n",
    "\n",
    "def RSS(beta, X, y):\n",
    "    tmp = pd.concat([y, predict(beta, X)], axis=1)\n",
    "    \n",
    "    if pd.isnull(tmp).any(axis=1).sum():\n",
    "        raise ValueError(\"y and y_hat indexes are mismatched\")\n",
    "        \n",
    "    return tmp.apply(lambda s: (s[0] - s[1])**2, axis=1).sum()"
   ]
  },
  {
   "cell_type": "code",
   "execution_count": null,
   "metadata": {},
   "outputs": [],
   "source": []
  },
  {
   "cell_type": "code",
   "execution_count": null,
   "metadata": {},
   "outputs": [],
   "source": []
  },
  {
   "cell_type": "markdown",
   "metadata": {},
   "source": [
    "### Training Models\n",
    "by using `pandas` and `scipy.optimize`"
   ]
  },
  {
   "cell_type": "code",
   "execution_count": 8,
   "metadata": {},
   "outputs": [],
   "source": [
    "beta = np.random.normal(0, 1, (X_train.shape[1] + 1, 1))\n",
    "opt = minimize(fun=RSS, x0=beta, args=(X_train, y_train))\n",
    "beta_hat = opt.x"
   ]
  },
  {
   "cell_type": "code",
   "execution_count": 9,
   "metadata": {},
   "outputs": [
    {
     "data": {
      "text/plain": [
       "array([ 2.39956491e+01,  2.34934995e-02, -1.05499800e+00, -1.82862239e-01,\n",
       "        1.06302233e-02, -1.75743048e+00,  3.26745286e-03, -3.68408259e-03,\n",
       "       -2.00912301e+01, -3.43003458e-01,  8.05258489e-01,  2.83317495e-01])"
      ]
     },
     "execution_count": 9,
     "metadata": {},
     "output_type": "execute_result"
    }
   ],
   "source": [
    "beta_hat"
   ]
  },
  {
   "cell_type": "code",
   "execution_count": 10,
   "metadata": {},
   "outputs": [
    {
     "name": "stdout",
     "output_type": "stream",
     "text": [
      "RSS in training set:\n"
     ]
    },
    {
     "data": {
      "text/plain": [
       "532.0667485668739"
      ]
     },
     "execution_count": 10,
     "metadata": {},
     "output_type": "execute_result"
    }
   ],
   "source": [
    "print(\"RSS in training set:\")\n",
    "RSS(beta_hat, X_train, y_train)"
   ]
  },
  {
   "cell_type": "code",
   "execution_count": 11,
   "metadata": {},
   "outputs": [
    {
     "name": "stdout",
     "output_type": "stream",
     "text": [
      "RSS in testing set:\n"
     ]
    },
    {
     "data": {
      "text/plain": [
       "137.7884551877433"
      ]
     },
     "execution_count": 11,
     "metadata": {},
     "output_type": "execute_result"
    }
   ],
   "source": [
    "print(\"RSS in testing set:\")\n",
    "RSS(beta_hat, X_test, y_test)"
   ]
  },
  {
   "cell_type": "code",
   "execution_count": null,
   "metadata": {},
   "outputs": [],
   "source": []
  },
  {
   "cell_type": "code",
   "execution_count": null,
   "metadata": {},
   "outputs": [],
   "source": []
  },
  {
   "cell_type": "markdown",
   "metadata": {},
   "source": [
    "### Question 1"
   ]
  },
  {
   "cell_type": "markdown",
   "metadata": {},
   "source": [
    "1. What are the qualitative results from your model? <br>\n",
    "2. Which features seem to be most important? <br>\n",
    "3. Do you think that the magnitude of the features in X may affect the results <br>\n",
    "(for example, the average total sulfur dioxide across all wines is 46.47, <br>\n",
    " but the average chlorides is only 0.087)."
   ]
  },
  {
   "cell_type": "markdown",
   "metadata": {},
   "source": [
    "### Ans:\n",
    "<div class=\"alert alert-block alert-info\">\n",
    "1. my qualitative results show that density is the most significant feature, which has a negative relation with wine quality(y) <br>\n",
    "2. density (with coefficient: -20.091) <br>\n",
    "3. the magnitude (mean) of the features does not affect the coefficient by the evidence from plots and linear regression trained with normalized data. But, the standard deviation of the features does affect the coefficient of linear regression. The density has the smallest standard deviation, and get the most significant coefficient. The chlorides has the second smallest standard deviation, and get the second significant coefficient. </div>"
   ]
  },
  {
   "cell_type": "code",
   "execution_count": 12,
   "metadata": {},
   "outputs": [
    {
     "data": {
      "text/plain": [
       "density                -20.091\n",
       "chlorides               -1.757\n",
       "volatile acidity        -1.055\n",
       "pH                      -0.343\n",
       "citric acid             -0.183\n",
       "total sulfur dioxide    -0.004\n",
       "free sulfur dioxide      0.003\n",
       "residual sugar           0.011\n",
       "fixed acidity            0.023\n",
       "alcohol                  0.283\n",
       "sulphates                0.805\n",
       "intercept               23.996\n",
       "dtype: float64"
      ]
     },
     "execution_count": 12,
     "metadata": {},
     "output_type": "execute_result"
    }
   ],
   "source": [
    "pd.Series(beta_hat, index=[\"intercept\"] + X_train.columns.values.tolist())\\\n",
    "    .round(3)\\\n",
    "    .sort_values()"
   ]
  },
  {
   "cell_type": "code",
   "execution_count": 13,
   "metadata": {},
   "outputs": [
    {
     "data": {
      "text/plain": [
       "<BarContainer object of 11 artists>"
      ]
     },
     "execution_count": 13,
     "metadata": {},
     "output_type": "execute_result"
    },
    {
     "data": {
      "image/png": "[encoded data removed]",
      "text/plain": [
       "<Figure size 1080x576 with 1 Axes>"
      ]
     },
     "metadata": {
      "needs_background": "light"
     },
     "output_type": "display_data"
    }
   ],
   "source": [
    "plt.figure(figsize=(15, 8))\n",
    "plt.bar(X_train.columns[np.argsort(beta_hat[1:])], np.sort(beta_hat[1:]), align=\"center\")"
   ]
  },
  {
   "cell_type": "code",
   "execution_count": 14,
   "metadata": {},
   "outputs": [
    {
     "data": {
      "text/plain": [
       "<matplotlib.legend.Legend at 0x7ff37f1d14e0>"
      ]
     },
     "execution_count": 14,
     "metadata": {},
     "output_type": "execute_result"
    },
    {
     "data": {
      "image/png": "[encoded data removed]",
      "text/plain": [
       "<Figure size 432x288 with 1 Axes>"
      ]
     },
     "metadata": {
      "needs_background": "light"
     },
     "output_type": "display_data"
    }
   ],
   "source": [
    "plt.scatter(X_train[\"sulphates\"], y_train, label=\"sulphates\")\n",
    "plt.scatter(X_train[\"density\"], y_train, label=\"density\")\n",
    "plt.legend()"
   ]
  },
  {
   "cell_type": "code",
   "execution_count": 15,
   "metadata": {},
   "outputs": [
    {
     "data": {
      "text/plain": [
       "density                  0.001893\n",
       "chlorides                0.047896\n",
       "pH                       0.155147\n",
       "sulphates                0.174030\n",
       "volatile acidity         0.177994\n",
       "citric acid              0.196441\n",
       "alcohol                  1.095970\n",
       "residual sugar           1.311638\n",
       "fixed acidity            1.768994\n",
       "free sulfur dioxide     10.320531\n",
       "total sulfur dioxide    33.592566\n",
       "Name: std, dtype: float64"
      ]
     },
     "execution_count": 15,
     "metadata": {},
     "output_type": "execute_result"
    }
   ],
   "source": [
    "X_train.describe().loc['std'].sort_values()"
   ]
  },
  {
   "cell_type": "code",
   "execution_count": null,
   "metadata": {},
   "outputs": [],
   "source": []
  },
  {
   "cell_type": "code",
   "execution_count": 16,
   "metadata": {},
   "outputs": [
    {
     "data": {
      "text/html": [
       "<div>\n",
       "<style scoped>\n",
       "    .dataframe tbody tr th:only-of-type {\n",
       "        vertical-align: middle;\n",
       "    }\n",
       "\n",
       "    .dataframe tbody tr th {\n",
       "        vertical-align: top;\n",
       "    }\n",
       "\n",
       "    .dataframe thead th {\n",
       "        text-align: right;\n",
       "    }\n",
       "</style>\n",
       "<table border=\"1\" class=\"dataframe\">\n",
       "  <thead>\n",
       "    <tr style=\"text-align: right;\">\n",
       "      <th></th>\n",
       "      <th>mean</th>\n",
       "      <th>std</th>\n",
       "    </tr>\n",
       "  </thead>\n",
       "  <tbody>\n",
       "    <tr>\n",
       "      <td>fixed acidity</td>\n",
       "      <td>-1.540712e-14</td>\n",
       "      <td>1.768994</td>\n",
       "    </tr>\n",
       "    <tr>\n",
       "      <td>volatile acidity</td>\n",
       "      <td>-5.499073e-17</td>\n",
       "      <td>0.177994</td>\n",
       "    </tr>\n",
       "    <tr>\n",
       "      <td>citric acid</td>\n",
       "      <td>3.516501e-16</td>\n",
       "      <td>0.196441</td>\n",
       "    </tr>\n",
       "    <tr>\n",
       "      <td>residual sugar</td>\n",
       "      <td>-2.895253e-15</td>\n",
       "      <td>1.311638</td>\n",
       "    </tr>\n",
       "    <tr>\n",
       "      <td>chlorides</td>\n",
       "      <td>3.217153e-16</td>\n",
       "      <td>0.047896</td>\n",
       "    </tr>\n",
       "    <tr>\n",
       "      <td>free sulfur dioxide</td>\n",
       "      <td>-6.483702e-15</td>\n",
       "      <td>10.320531</td>\n",
       "    </tr>\n",
       "    <tr>\n",
       "      <td>total sulfur dioxide</td>\n",
       "      <td>-6.216139e-14</td>\n",
       "      <td>33.592566</td>\n",
       "    </tr>\n",
       "    <tr>\n",
       "      <td>density</td>\n",
       "      <td>8.559993e-16</td>\n",
       "      <td>0.001893</td>\n",
       "    </tr>\n",
       "    <tr>\n",
       "      <td>pH</td>\n",
       "      <td>5.467848e-16</td>\n",
       "      <td>0.155147</td>\n",
       "    </tr>\n",
       "    <tr>\n",
       "      <td>sulphates</td>\n",
       "      <td>-1.508169e-15</td>\n",
       "      <td>0.174030</td>\n",
       "    </tr>\n",
       "    <tr>\n",
       "      <td>alcohol</td>\n",
       "      <td>3.214234e-14</td>\n",
       "      <td>1.095970</td>\n",
       "    </tr>\n",
       "  </tbody>\n",
       "</table>\n",
       "</div>"
      ],
      "text/plain": [
       "                              mean        std\n",
       "fixed acidity        -1.540712e-14   1.768994\n",
       "volatile acidity     -5.499073e-17   0.177994\n",
       "citric acid           3.516501e-16   0.196441\n",
       "residual sugar       -2.895253e-15   1.311638\n",
       "chlorides             3.217153e-16   0.047896\n",
       "free sulfur dioxide  -6.483702e-15  10.320531\n",
       "total sulfur dioxide -6.216139e-14  33.592566\n",
       "density               8.559993e-16   0.001893\n",
       "pH                    5.467848e-16   0.155147\n",
       "sulphates            -1.508169e-15   0.174030\n",
       "alcohol               3.214234e-14   1.095970"
      ]
     },
     "execution_count": 16,
     "metadata": {},
     "output_type": "execute_result"
    }
   ],
   "source": [
    "X_train_mean = X_train.mean(axis=0)\n",
    "norm_Xtrain = X_train - X_train_mean\n",
    "pd.concat(\n",
    "    [norm_Xtrain.mean(), norm_Xtrain.std()], axis=1\n",
    ").rename(columns={0: \"mean\", 1: \"std\"})"
   ]
  },
  {
   "cell_type": "code",
   "execution_count": 17,
   "metadata": {},
   "outputs": [
    {
     "data": {
      "text/html": [
       "<div>\n",
       "<style scoped>\n",
       "    .dataframe tbody tr th:only-of-type {\n",
       "        vertical-align: middle;\n",
       "    }\n",
       "\n",
       "    .dataframe tbody tr th {\n",
       "        vertical-align: top;\n",
       "    }\n",
       "\n",
       "    .dataframe thead th {\n",
       "        text-align: right;\n",
       "    }\n",
       "</style>\n",
       "<table border=\"1\" class=\"dataframe\">\n",
       "  <thead>\n",
       "    <tr style=\"text-align: right;\">\n",
       "      <th></th>\n",
       "      <th>fixed acidity</th>\n",
       "      <th>volatile acidity</th>\n",
       "      <th>citric acid</th>\n",
       "      <th>residual sugar</th>\n",
       "      <th>chlorides</th>\n",
       "      <th>free sulfur dioxide</th>\n",
       "      <th>total sulfur dioxide</th>\n",
       "      <th>density</th>\n",
       "      <th>pH</th>\n",
       "      <th>sulphates</th>\n",
       "      <th>alcohol</th>\n",
       "    </tr>\n",
       "  </thead>\n",
       "  <tbody>\n",
       "    <tr>\n",
       "      <td>0</td>\n",
       "      <td>-1.177891</td>\n",
       "      <td>0.181016</td>\n",
       "      <td>-0.289297</td>\n",
       "      <td>-0.661328</td>\n",
       "      <td>-0.012838</td>\n",
       "      <td>-4.448438</td>\n",
       "      <td>-12.794531</td>\n",
       "      <td>0.000829</td>\n",
       "      <td>0.210359</td>\n",
       "      <td>-0.103711</td>\n",
       "      <td>-1.000391</td>\n",
       "    </tr>\n",
       "    <tr>\n",
       "      <td>1</td>\n",
       "      <td>-0.777891</td>\n",
       "      <td>0.361016</td>\n",
       "      <td>-0.289297</td>\n",
       "      <td>0.038672</td>\n",
       "      <td>0.009162</td>\n",
       "      <td>9.551562</td>\n",
       "      <td>20.205469</td>\n",
       "      <td>-0.000171</td>\n",
       "      <td>-0.099641</td>\n",
       "      <td>0.016289</td>\n",
       "      <td>-0.600391</td>\n",
       "    </tr>\n",
       "    <tr>\n",
       "      <td>2</td>\n",
       "      <td>-0.777891</td>\n",
       "      <td>0.241016</td>\n",
       "      <td>-0.249297</td>\n",
       "      <td>-0.261328</td>\n",
       "      <td>0.003162</td>\n",
       "      <td>-0.448438</td>\n",
       "      <td>7.205469</td>\n",
       "      <td>0.000029</td>\n",
       "      <td>-0.039641</td>\n",
       "      <td>-0.013711</td>\n",
       "      <td>-0.600391</td>\n",
       "    </tr>\n",
       "  </tbody>\n",
       "</table>\n",
       "</div>"
      ],
      "text/plain": [
       "   fixed acidity  volatile acidity  citric acid  residual sugar  chlorides  \\\n",
       "0      -1.177891          0.181016    -0.289297       -0.661328  -0.012838   \n",
       "1      -0.777891          0.361016    -0.289297        0.038672   0.009162   \n",
       "2      -0.777891          0.241016    -0.249297       -0.261328   0.003162   \n",
       "\n",
       "   free sulfur dioxide  total sulfur dioxide   density        pH  sulphates  \\\n",
       "0            -4.448438            -12.794531  0.000829  0.210359  -0.103711   \n",
       "1             9.551562             20.205469 -0.000171 -0.099641   0.016289   \n",
       "2            -0.448438              7.205469  0.000029 -0.039641  -0.013711   \n",
       "\n",
       "    alcohol  \n",
       "0 -1.000391  \n",
       "1 -0.600391  \n",
       "2 -0.600391  "
      ]
     },
     "execution_count": 17,
     "metadata": {},
     "output_type": "execute_result"
    }
   ],
   "source": [
    "norm_Xtrain.head(3)"
   ]
  },
  {
   "cell_type": "code",
   "execution_count": 18,
   "metadata": {},
   "outputs": [
    {
     "data": {
      "text/plain": [
       "density                -20.090\n",
       "chlorides               -1.757\n",
       "volatile acidity        -1.055\n",
       "pH                      -0.343\n",
       "citric acid             -0.183\n",
       "total sulfur dioxide    -0.004\n",
       "free sulfur dioxide      0.003\n",
       "residual sugar           0.011\n",
       "fixed acidity            0.023\n",
       "alcohol                  0.283\n",
       "sulphates                0.805\n",
       "intercept                5.665\n",
       "dtype: float64"
      ]
     },
     "execution_count": 18,
     "metadata": {},
     "output_type": "execute_result"
    }
   ],
   "source": [
    "beta = np.random.normal(0, 1, (norm_Xtrain.shape[1] + 1, 1))\n",
    "norm_opt = minimize(fun=RSS, x0=beta, args=(norm_Xtrain, y_train))\n",
    "norm_beta_hat = norm_opt.x\n",
    "\n",
    "pd.Series(norm_beta_hat, index=[\"intercept\"] + X_train.columns.values.tolist())\\\n",
    "    .round(3)\\\n",
    "    .sort_values()"
   ]
  },
  {
   "cell_type": "code",
   "execution_count": 19,
   "metadata": {},
   "outputs": [
    {
     "data": {
      "text/plain": [
       "532.0667485610833"
      ]
     },
     "execution_count": 19,
     "metadata": {},
     "output_type": "execute_result"
    }
   ],
   "source": [
    "RSS(norm_beta_hat, norm_Xtrain, y_train)"
   ]
  },
  {
   "cell_type": "code",
   "execution_count": 20,
   "metadata": {},
   "outputs": [
    {
     "data": {
      "text/plain": [
       "137.7884492625132"
      ]
     },
     "execution_count": 20,
     "metadata": {},
     "output_type": "execute_result"
    }
   ],
   "source": [
    "norm_Xtest = X_test - X_train_mean\n",
    "RSS(norm_beta_hat, norm_Xtest, y_test)"
   ]
  },
  {
   "cell_type": "code",
   "execution_count": null,
   "metadata": {},
   "outputs": [],
   "source": []
  },
  {
   "cell_type": "code",
   "execution_count": null,
   "metadata": {},
   "outputs": [],
   "source": []
  },
  {
   "cell_type": "markdown",
   "metadata": {},
   "source": [
    "### Question 1 (cont.)"
   ]
  },
  {
   "cell_type": "markdown",
   "metadata": {},
   "source": [
    "4. How well does your model fit? <br>\n",
    "5. You should be able to measure the goodness of fit, RSS, on both the training data and the test data, but only report the results on the test data. <br>\n",
    "\n",
    "In Machine Learning we almost always only care about<br> \n",
    "how well the model fits on data that has not been used to fit the model, <br>\n",
    "because we need to use the model in the future, not the past. <br>\n",
    "Therefore, we only report performance with holdout data, or test data."
   ]
  },
  {
   "cell_type": "code",
   "execution_count": 21,
   "metadata": {},
   "outputs": [],
   "source": [
    "def r_square(y_true, y_pred):\n",
    "    if len(y_true) != len(y_pred):\n",
    "        raise ValueError(\"length mismatched\")\n",
    "    \n",
    "    tmp = pd.concat([y_true, y_pred], axis=1)\n",
    "    tmp.columns = [\"y_true\", \"y_pred\"]\n",
    "    ss_res = sum((tmp[\"y_true\"] - tmp[\"y_pred\"])**2)\n",
    "    ss_tot = sum((tmp[\"y_true\"] - tmp[\"y_true\"].mean())**2)\n",
    "    return 1 - ss_res/ss_tot"
   ]
  },
  {
   "cell_type": "markdown",
   "metadata": {},
   "source": [
    "### Ans:\n",
    "1. this is the model performance on testing set"
   ]
  },
  {
   "cell_type": "code",
   "execution_count": 22,
   "metadata": {},
   "outputs": [
    {
     "name": "stdout",
     "output_type": "stream",
     "text": [
      "Model Performance in the Test Set: \n",
      "RSS:  137.7884551877433\n",
      "R^2:  0.28091945808837193\n"
     ]
    }
   ],
   "source": [
    "print(\"Model Performance in the Test Set: \")\n",
    "print(\"RSS: \", RSS(beta_hat, X_test, y_test))\n",
    "print(\"R^2: \", r_square(y_test, predict(beta_hat, X_test)))"
   ]
  },
  {
   "cell_type": "code",
   "execution_count": null,
   "metadata": {},
   "outputs": [],
   "source": []
  },
  {
   "cell_type": "code",
   "execution_count": null,
   "metadata": {},
   "outputs": [],
   "source": []
  },
  {
   "cell_type": "markdown",
   "metadata": {},
   "source": [
    "### Question 1 (cont.)"
   ]
  },
  {
   "cell_type": "markdown",
   "metadata": {},
   "source": [
    "6. Does the end result or RSS change if you try different initial values of β? <br>\n",
    "7. What happens if you change the magnitude of the initial β?<br>\n",
    "8. Does the choice of solver method change the end result or RSS? "
   ]
  },
  {
   "cell_type": "markdown",
   "metadata": {},
   "source": [
    "### Ans\n",
    "1. it does not change a lot when we try different init value, the magnitude of beta, or the solver. it always trains a similar model."
   ]
  },
  {
   "cell_type": "code",
   "execution_count": 23,
   "metadata": {},
   "outputs": [
    {
     "name": "stdout",
     "output_type": "stream",
     "text": [
      "new init beta:  [ 0.162382   -0.65975988 -1.29170349  0.16041755 -0.17331564  0.18030522\n",
      " -1.87046837  0.74813601  0.48806078  0.62408526  1.44855439 -0.85141569] \n",
      "\n",
      "the diff between new beta hat and beta hat [-1.76143623e-03 -1.16790827e-06 -1.46276924e-06 -4.14199594e-06\n",
      " -4.52008238e-07  5.75278377e-06 -2.86614499e-08  1.81617176e-08\n",
      "  1.77723934e-03 -4.88007195e-06 -1.80721394e-06  1.81820888e-06] \n",
      "\n",
      "new RSS in training set:  532.0667485630977\n",
      "new RSS in testing set:  137.78841077287936\n"
     ]
    }
   ],
   "source": [
    "beta = np.random.normal(0, 1, (X_train.shape[1] + 1, 1))\n",
    "print(\"new init beta: \", beta.reshape(1, -1)[0], \"\\n\")\n",
    "opt = minimize(fun=RSS, x0=beta, args=(X_train, y_train))\n",
    "new_beta_hat = opt.x\n",
    "print(\"the diff between new beta hat and beta hat\", new_beta_hat - beta_hat, \"\\n\")\n",
    "print(\"new RSS in training set: \", RSS(new_beta_hat, X_train, y_train))\n",
    "print(\"new RSS in testing set: \", RSS(new_beta_hat, X_test, y_test))"
   ]
  },
  {
   "cell_type": "code",
   "execution_count": 24,
   "metadata": {},
   "outputs": [
    {
     "name": "stdout",
     "output_type": "stream",
     "text": [
      "new init beta:  [ 90.25832836  90.48570987  88.00789998 106.2302923   98.22283601\n",
      " 108.84823665 101.55855569 106.98080518 104.40826858  95.35101564\n",
      "  97.43709075  82.46072558] \n",
      "\n",
      "the diff between new beta hat and beta hat [-1.57176907e-03 -1.44199176e-06 -1.66528178e-06 -4.00717397e-07\n",
      " -6.94120507e-07 -3.66496702e-06  1.18286542e-08 -2.70573254e-09\n",
      "  1.60152095e-03 -7.42020014e-06 -2.03070285e-06  1.56525534e-06] \n",
      "\n",
      "new RSS in training set:  532.066748564245\n",
      "new RSS in testing set:  137.78844870399897\n"
     ]
    }
   ],
   "source": [
    "beta = np.random.normal(100, 10, (X_train.shape[1] + 1, 1))\n",
    "print(\"new init beta: \", beta.reshape(1, -1)[0], \"\\n\")\n",
    "opt = minimize(fun=RSS, x0=beta, args=(X_train, y_train))\n",
    "new_beta_hat = opt.x\n",
    "print(\"the diff between new beta hat and beta hat\", new_beta_hat - beta_hat, \"\\n\")\n",
    "print(\"new RSS in training set: \", RSS(new_beta_hat, X_train, y_train))\n",
    "print(\"new RSS in testing set: \", RSS(new_beta_hat, X_test, y_test))"
   ]
  },
  {
   "cell_type": "code",
   "execution_count": 25,
   "metadata": {},
   "outputs": [
    {
     "name": "stdout",
     "output_type": "stream",
     "text": [
      "new init beta:  [-0.64142291  0.87114277  0.95370145 -1.05412244  0.23181434 -0.85379947\n",
      " -0.03488099 -0.26708025  0.91362247  0.29046226  2.26676174 -3.16144032] \n",
      "\n",
      "the diff between new beta hat and beta hat [-2.85037209e-01 -2.34421838e-04 -8.99621681e-04 -4.64887608e-04\n",
      " -1.10157921e-04  1.08482915e-03  5.24314018e-07  5.47170639e-07\n",
      "  2.90574928e-01 -1.24619025e-03 -9.43487072e-04  2.75219429e-04] \n",
      "\n",
      "new RSS in training set:  532.0668295342499\n",
      "new RSS in testing set:  137.78972086250522\n"
     ]
    }
   ],
   "source": [
    "beta = np.random.normal(0, 1, (X_train.shape[1] + 1, 1))\n",
    "print(\"new init beta: \", beta.reshape(1, -1)[0], \"\\n\")\n",
    "opt = minimize(fun=RSS, x0=beta, args=(X_train, y_train), method=\"Powell\")\n",
    "new_beta_hat = opt.x\n",
    "print(\"the diff between new beta hat and beta hat\", new_beta_hat - beta_hat, \"\\n\")\n",
    "print(\"new RSS in training set: \", RSS(new_beta_hat, X_train, y_train))\n",
    "print(\"new RSS in testing set: \", RSS(new_beta_hat, X_test, y_test))"
   ]
  },
  {
   "cell_type": "code",
   "execution_count": null,
   "metadata": {},
   "outputs": [],
   "source": []
  },
  {
   "cell_type": "code",
   "execution_count": null,
   "metadata": {},
   "outputs": [],
   "source": []
  },
  {
   "cell_type": "code",
   "execution_count": null,
   "metadata": {},
   "outputs": [],
   "source": []
  },
  {
   "cell_type": "markdown",
   "metadata": {},
   "source": [
    "### Question 2"
   ]
  },
  {
   "cell_type": "code",
   "execution_count": 26,
   "metadata": {},
   "outputs": [],
   "source": [
    "def RSS(beta, X, y, penalty=None, lam=0):\n",
    "    tmp = pd.concat([y, predict(beta, X)], axis=1)\n",
    "    \n",
    "    if pd.isnull(tmp).any(axis=1).sum():\n",
    "        raise ValueError(\"y and y_hat indexes are mismatched\")\n",
    "        \n",
    "        \n",
    "    if penalty == \"l1\":\n",
    "        penalty = lam * sum(abs(beta[1:]))\n",
    "    elif penalty == \"l2\":\n",
    "        penalty = lam * sum(beta[1:]**2)\n",
    "    else:\n",
    "        penalty = 0\n",
    "        \n",
    "    return tmp.apply(lambda s: (s[0] - s[1])**2, axis=1).sum() + penalty"
   ]
  },
  {
   "cell_type": "markdown",
   "metadata": {},
   "source": [
    "##### Ridge Regression (L2)"
   ]
  },
  {
   "cell_type": "code",
   "execution_count": 27,
   "metadata": {},
   "outputs": [],
   "source": [
    "beta = np.random.normal(0, 1, (X_train.shape[1] + 1, 1))\n",
    "opt = minimize(fun=RSS, x0=beta, args=(X_train, y_train, \"l2\"))\n",
    "beta_hat_L2 = opt.x"
   ]
  },
  {
   "cell_type": "code",
   "execution_count": 28,
   "metadata": {},
   "outputs": [
    {
     "data": {
      "text/html": [
       "<div>\n",
       "<style scoped>\n",
       "    .dataframe tbody tr th:only-of-type {\n",
       "        vertical-align: middle;\n",
       "    }\n",
       "\n",
       "    .dataframe tbody tr th {\n",
       "        vertical-align: top;\n",
       "    }\n",
       "\n",
       "    .dataframe thead th {\n",
       "        text-align: right;\n",
       "    }\n",
       "</style>\n",
       "<table border=\"1\" class=\"dataframe\">\n",
       "  <thead>\n",
       "    <tr style=\"text-align: right;\">\n",
       "      <th></th>\n",
       "      <th>beta_hat</th>\n",
       "      <th>beta_hat_L2</th>\n",
       "    </tr>\n",
       "  </thead>\n",
       "  <tbody>\n",
       "    <tr>\n",
       "      <td>intercept</td>\n",
       "      <td>23.996</td>\n",
       "      <td>5.663</td>\n",
       "    </tr>\n",
       "    <tr>\n",
       "      <td>fixed acidity</td>\n",
       "      <td>0.023</td>\n",
       "      <td>0.005</td>\n",
       "    </tr>\n",
       "    <tr>\n",
       "      <td>volatile acidity</td>\n",
       "      <td>-1.055</td>\n",
       "      <td>-1.072</td>\n",
       "    </tr>\n",
       "    <tr>\n",
       "      <td>citric acid</td>\n",
       "      <td>-0.183</td>\n",
       "      <td>-0.181</td>\n",
       "    </tr>\n",
       "    <tr>\n",
       "      <td>residual sugar</td>\n",
       "      <td>0.011</td>\n",
       "      <td>0.003</td>\n",
       "    </tr>\n",
       "    <tr>\n",
       "      <td>chlorides</td>\n",
       "      <td>-1.757</td>\n",
       "      <td>-1.807</td>\n",
       "    </tr>\n",
       "    <tr>\n",
       "      <td>free sulfur dioxide</td>\n",
       "      <td>0.003</td>\n",
       "      <td>0.003</td>\n",
       "    </tr>\n",
       "    <tr>\n",
       "      <td>total sulfur dioxide</td>\n",
       "      <td>-0.004</td>\n",
       "      <td>-0.004</td>\n",
       "    </tr>\n",
       "    <tr>\n",
       "      <td>density</td>\n",
       "      <td>-20.091</td>\n",
       "      <td>-1.363</td>\n",
       "    </tr>\n",
       "    <tr>\n",
       "      <td>pH</td>\n",
       "      <td>-0.343</td>\n",
       "      <td>-0.438</td>\n",
       "    </tr>\n",
       "    <tr>\n",
       "      <td>sulphates</td>\n",
       "      <td>0.805</td>\n",
       "      <td>0.784</td>\n",
       "    </tr>\n",
       "    <tr>\n",
       "      <td>alcohol</td>\n",
       "      <td>0.283</td>\n",
       "      <td>0.300</td>\n",
       "    </tr>\n",
       "  </tbody>\n",
       "</table>\n",
       "</div>"
      ],
      "text/plain": [
       "                      beta_hat  beta_hat_L2\n",
       "intercept               23.996        5.663\n",
       "fixed acidity            0.023        0.005\n",
       "volatile acidity        -1.055       -1.072\n",
       "citric acid             -0.183       -0.181\n",
       "residual sugar           0.011        0.003\n",
       "chlorides               -1.757       -1.807\n",
       "free sulfur dioxide      0.003        0.003\n",
       "total sulfur dioxide    -0.004       -0.004\n",
       "density                -20.091       -1.363\n",
       "pH                      -0.343       -0.438\n",
       "sulphates                0.805        0.784\n",
       "alcohol                  0.283        0.300"
      ]
     },
     "execution_count": 28,
     "metadata": {},
     "output_type": "execute_result"
    }
   ],
   "source": [
    "pd.DataFrame(\n",
    "    np.array([beta_hat, beta_hat_L2]).T, \n",
    "    index=[\"intercept\"] + X_train.columns.values.tolist(),\n",
    "    columns=[\"beta_hat\", \"beta_hat_L2\"]\n",
    ").round(3)"
   ]
  },
  {
   "cell_type": "markdown",
   "metadata": {},
   "source": [
    "1. How does RSS on the training data change? How does RSS on the test data change?\n",
    "\n",
    "### Ans\n",
    "<div class=\"alert alert-block alert-info\">\n",
    "Both RSS in train and test set are slightly lower. That is probably because there is no collinearity or overfitting issue in the original regression. Hence, RSS does not decrease that much.</div>"
   ]
  },
  {
   "cell_type": "code",
   "execution_count": 29,
   "metadata": {},
   "outputs": [
    {
     "name": "stdout",
     "output_type": "stream",
     "text": [
      "Ridge Regression Performance\n",
      "RSS in train set:  532.3205564637317\n",
      "RSS in test set:  137.76116427515305\n"
     ]
    }
   ],
   "source": [
    "print(\"Ridge Regression Performance\")\n",
    "print(\"RSS in train set: \", RSS(beta_hat_L2, X_train, y_train))\n",
    "print(\"RSS in test set: \", RSS(beta_hat_L2, X_test, y_test))"
   ]
  },
  {
   "cell_type": "code",
   "execution_count": 30,
   "metadata": {},
   "outputs": [
    {
     "name": "stdout",
     "output_type": "stream",
     "text": [
      "Ridge Regression RSS in test set\n",
      "when lambda=0.001 137.7538011320214\n",
      "when lambda=0.010 137.761174809492\n",
      "when lambda=0.100 137.80505586721966\n",
      "when lambda=1.000 138.31549568655723\n",
      "when lambda=10.000 142.2356816915538\n"
     ]
    }
   ],
   "source": [
    "print(\"Ridge Regression RSS in test set\")\n",
    "beta = np.random.normal(0, 1, (X_train.shape[1] + 1, 1))\n",
    "\n",
    "lam = 0.001\n",
    "opt = minimize(fun=RSS, x0=beta, args=(X_train, y_train, \"l2\", lam))\n",
    "print(\"when lambda=%.3f\" % lam, RSS(opt.x, X_test, y_test))\n",
    "\n",
    "lam = 0.01\n",
    "opt = minimize(fun=RSS, x0=beta, args=(X_train, y_train, \"l2\", lam))\n",
    "print(\"when lambda=%.3f\" % lam, RSS(opt.x, X_test, y_test))\n",
    "\n",
    "lam = 0.1\n",
    "opt = minimize(fun=RSS, x0=beta, args=(X_train, y_train, \"l2\", lam))\n",
    "print(\"when lambda=%.3f\" % lam, RSS(opt.x, X_test, y_test))\n",
    "\n",
    "lam = 1\n",
    "opt = minimize(fun=RSS, x0=beta, args=(X_train, y_train, \"l2\", lam))\n",
    "print(\"when lambda=%.3f\" % lam, RSS(opt.x, X_test, y_test))\n",
    "\n",
    "lam = 10\n",
    "opt = minimize(fun=RSS, x0=beta, args=(X_train, y_train, \"l2\", lam))\n",
    "print(\"when lambda=%.3f\" % lam, RSS(opt.x, X_test, y_test))"
   ]
  },
  {
   "cell_type": "markdown",
   "metadata": {},
   "source": [
    "### Ans\n",
    "<div class=\"alert alert-block alert-info\">\n",
    "the results shows when lambda=0.001 Ridge Regression has the best performance on testing set.</div>"
   ]
  },
  {
   "cell_type": "code",
   "execution_count": null,
   "metadata": {},
   "outputs": [],
   "source": []
  },
  {
   "cell_type": "code",
   "execution_count": null,
   "metadata": {},
   "outputs": [],
   "source": []
  },
  {
   "cell_type": "markdown",
   "metadata": {},
   "source": [
    "##### Lasso Regression (L1)"
   ]
  },
  {
   "cell_type": "code",
   "execution_count": 31,
   "metadata": {},
   "outputs": [
    {
     "name": "stdout",
     "output_type": "stream",
     "text": [
      "Lasso Regression RSS in test set\n",
      "when lambda=0.001 137.78528452836593\n",
      "when lambda=0.010 137.76461291400477\n",
      "when lambda=0.100 137.78750393426554\n",
      "when lambda=1.000 138.07138465738728\n",
      "when lambda=10.000 142.56632719500345\n"
     ]
    }
   ],
   "source": [
    "print(\"Lasso Regression RSS in test set\")\n",
    "beta = np.random.normal(0, 1, (X_train.shape[1] + 1, 1))\n",
    "\n",
    "lam = 0.001\n",
    "opt = minimize(fun=RSS, x0=beta, args=(X_train, y_train, \"l1\", lam))\n",
    "print(\"when lambda=%.3f\" % lam, RSS(opt.x, X_test, y_test))\n",
    "\n",
    "lam = 0.01\n",
    "opt = minimize(fun=RSS, x0=beta, args=(X_train, y_train, \"l1\", lam))\n",
    "print(\"when lambda=%.3f\" % lam, RSS(opt.x, X_test, y_test))\n",
    "\n",
    "lam = 0.1\n",
    "opt = minimize(fun=RSS, x0=beta, args=(X_train, y_train, \"l1\", lam))\n",
    "print(\"when lambda=%.3f\" % lam, RSS(opt.x, X_test, y_test))\n",
    "\n",
    "lam = 1\n",
    "opt = minimize(fun=RSS, x0=beta, args=(X_train, y_train, \"l1\", lam))\n",
    "print(\"when lambda=%.3f\" % lam, RSS(opt.x, X_test, y_test))\n",
    "\n",
    "lam = 10\n",
    "opt = minimize(fun=RSS, x0=beta, args=(X_train, y_train, \"l1\", lam))\n",
    "print(\"when lambda=%.3f\" % lam, RSS(opt.x, X_test, y_test))"
   ]
  },
  {
   "cell_type": "code",
   "execution_count": 46,
   "metadata": {},
   "outputs": [
    {
     "name": "stdout",
     "output_type": "stream",
     "text": [
      "when lambda=0.010 137.76461291400477\n"
     ]
    }
   ],
   "source": [
    "lam = 0.01\n",
    "opt = minimize(fun=RSS, x0=beta, args=(X_train, y_train, \"l1\", lam))\n",
    "print(\"when lambda=%.3f\" % lam, RSS(opt.x, X_test, y_test))"
   ]
  },
  {
   "cell_type": "code",
   "execution_count": 47,
   "metadata": {},
   "outputs": [
    {
     "data": {
      "text/plain": [
       "density                -13.232\n",
       "chlorides               -1.776\n",
       "volatile acidity        -1.061\n",
       "pH                      -0.378\n",
       "citric acid             -0.182\n",
       "total sulfur dioxide    -0.004\n",
       "free sulfur dioxide      0.003\n",
       "residual sugar           0.008\n",
       "fixed acidity            0.017\n",
       "alcohol                  0.290\n",
       "sulphates                0.798\n",
       "dtype: float64"
      ]
     },
     "execution_count": 47,
     "metadata": {},
     "output_type": "execute_result"
    }
   ],
   "source": [
    "pd.Series(opt.x[1:], index=X_test.columns.values).round(3).sort_values()"
   ]
  },
  {
   "cell_type": "code",
   "execution_count": 49,
   "metadata": {},
   "outputs": [
    {
     "name": "stdout",
     "output_type": "stream",
     "text": [
      "when lambda=10.000 142.56632719500345\n"
     ]
    },
    {
     "data": {
      "text/plain": [
       "volatile acidity       -0.975\n",
       "total sulfur dioxide   -0.004\n",
       "citric acid            -0.000\n",
       "residual sugar         -0.000\n",
       "chlorides              -0.000\n",
       "density                 0.000\n",
       "pH                      0.000\n",
       "free sulfur dioxide     0.004\n",
       "fixed acidity           0.023\n",
       "alcohol                 0.310\n",
       "sulphates               0.468\n",
       "dtype: float64"
      ]
     },
     "execution_count": 49,
     "metadata": {},
     "output_type": "execute_result"
    }
   ],
   "source": [
    "lam = 10\n",
    "opt = minimize(fun=RSS, x0=beta, args=(X_train, y_train, \"l1\", lam))\n",
    "print(\"when lambda=%.3f\" % lam, RSS(opt.x, X_test, y_test))\n",
    "pd.Series(opt.x[1:], index=X_test.columns.values).round(3).sort_values()"
   ]
  },
  {
   "cell_type": "markdown",
   "metadata": {},
   "source": [
    "### Ans\n",
    "<div class=\"alert alert-block alert-info\">\n",
    "the magnitude of the features in X won't affect the results with regularization. Since regularization only shrinks the less informative features and expands the more informative features, so the magnitude does not affect the result with regularization.</div>"
   ]
  },
  {
   "cell_type": "code",
   "execution_count": null,
   "metadata": {},
   "outputs": [],
   "source": []
  },
  {
   "cell_type": "code",
   "execution_count": null,
   "metadata": {},
   "outputs": [],
   "source": []
  }
 ],
 "metadata": {
  "kernelspec": {
   "display_name": "Python 3",
   "language": "python",
   "name": "python3"
  },
  "language_info": {
   "codemirror_mode": {
    "name": "ipython",
    "version": 3
   },
   "file_extension": ".py",
   "mimetype": "text/x-python",
   "name": "python",
   "nbconvert_exporter": "python",
   "pygments_lexer": "ipython3",
   "version": "3.7.3"
  }
 },
 "nbformat": 4,
 "nbformat_minor": 2
}
