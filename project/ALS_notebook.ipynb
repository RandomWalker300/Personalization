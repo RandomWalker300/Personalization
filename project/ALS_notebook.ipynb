{
 "cells": [
  {
   "cell_type": "code",
   "execution_count": 1,
   "metadata": {},
   "outputs": [],
   "source": [
    "import pyspark\n",
    "from pyspark import SparkFiles\n",
    "from pyspark import SparkContext\n",
    "from pyspark.sql import SQLContext\n",
    "from pyspark.sql.functions import rand, col\n",
    "\n",
    "import os\n",
    "import math\n",
    "import time\n",
    "import operator\n",
    "from pyspark.ml.recommendation import ALS\n",
    "from pyspark.ml.evaluation import RegressionEvaluator\n",
    "from pyspark.mllib.evaluation import RankingMetrics\n",
    "from pyspark.ml.tuning import ParamGridBuilder, TrainValidationSplit\n",
    "\n",
    "seed = 100\n",
    "sc = SparkContext()\n",
    "filePath = \"/home/jovyan/work/Personalization/ml-20m/ratings.csv\""
   ]
  },
  {
   "cell_type": "code",
   "execution_count": null,
   "metadata": {},
   "outputs": [],
   "source": []
  },
  {
   "cell_type": "markdown",
   "metadata": {},
   "source": [
    "### Data Preprocessing"
   ]
  },
  {
   "cell_type": "code",
   "execution_count": 2,
   "metadata": {},
   "outputs": [],
   "source": [
    "# read dataset into spark RDD\n",
    "sc.addFile(filePath)\n",
    "sqlContext = SQLContext(sc)\n",
    "df = sqlContext.read.csv(SparkFiles.get(\"ratings.csv\"), header=True, inferSchema=True)\n",
    "\n",
    "sqlContext.registerDataFrameAsTable(df, \"df\")\n",
    "df = sqlContext.sql('''\n",
    "    SELECT \n",
    "        userId AS user, \n",
    "        movieId AS item,\n",
    "        rating\n",
    "    FROM df\n",
    "''')"
   ]
  },
  {
   "cell_type": "code",
   "execution_count": 3,
   "metadata": {},
   "outputs": [
    {
     "name": "stdout",
     "output_type": "stream",
     "text": [
      "(row, col):  (20000263, 4)\n"
     ]
    }
   ],
   "source": [
    "# adding uniform random numbers for train/validation/test set\n",
    "df = df.withColumn('TrainTest', rand(seed=seed))\n",
    "print(\"(row, col): \", (df.count(), len(df.columns)))"
   ]
  },
  {
   "cell_type": "code",
   "execution_count": 4,
   "metadata": {},
   "outputs": [],
   "source": [
    "result = {}"
   ]
  },
  {
   "cell_type": "code",
   "execution_count": null,
   "metadata": {},
   "outputs": [],
   "source": []
  },
  {
   "cell_type": "markdown",
   "metadata": {},
   "source": [
    "### Metrics"
   ]
  },
  {
   "cell_type": "code",
   "execution_count": 6,
   "metadata": {},
   "outputs": [],
   "source": [
    "# primary metric - RMSE\n",
    "# secondary metric - MAE\n",
    "rmse = RegressionEvaluator(metricName=\"rmse\", labelCol=\"rating\")\n",
    "mae = RegressionEvaluator(metricName=\"mae\", labelCol=\"rating\")"
   ]
  },
  {
   "cell_type": "code",
   "execution_count": null,
   "metadata": {},
   "outputs": [],
   "source": []
  },
  {
   "cell_type": "markdown",
   "metadata": {},
   "source": [
    "### Models"
   ]
  },
  {
   "cell_type": "code",
   "execution_count": 9,
   "metadata": {},
   "outputs": [
    {
     "name": "stdout",
     "output_type": "stream",
     "text": [
      "(row, col):  (20029, 3)\n",
      "(row, col):  (19980234, 3)\n",
      "split size=0.001 rmse=2.045412820550103\n",
      "used time: 53.50555992126465\n",
      "====================\n",
      "(row, col):  (200171, 3)\n",
      "(row, col):  (19800092, 3)\n",
      "split size=0.01 rmse=1.294935565293987\n",
      "used time: 59.30461382865906\n",
      "====================\n",
      "(row, col):  (2000203, 3)\n",
      "(row, col):  (18000060, 3)\n",
      "split size=0.1 rmse=0.91269784426341\n",
      "used time: 68.80400776863098\n",
      "====================\n",
      "(row, col):  (5998960, 3)\n",
      "(row, col):  (14001303, 3)\n",
      "split size=0.3 rmse=0.841881084523025\n",
      "used time: 79.24481439590454\n",
      "====================\n",
      "(row, col):  (9998144, 3)\n",
      "(row, col):  (10002119, 3)\n",
      "split size=0.5 rmse=0.8284786196585116\n",
      "used time: 87.1703610420227\n",
      "====================\n"
     ]
    }
   ],
   "source": [
    "for splitSize in [0.001, 0.01, 0.1, 0.3, 0.5]:\n",
    "    start = time.time()\n",
    "    dftrain = df.where(col('TrainTest') < splitSize).drop(*[\"TrainTest\"])\n",
    "    trainSize = dftrain.count()\n",
    "    print(\"(row, col): \", (trainSize, len(dftrain.columns)))\n",
    "    \n",
    "    \n",
    "    dftest = df.where(col('TrainTest') > splitSize).drop(*[\"TrainTest\"])\n",
    "    testSize = dftest.count()\n",
    "    print(\"(row, col): \", (testSize, len(dftest.columns)))\n",
    "    \n",
    "    \n",
    "    als = ALS(nonnegative=True, checkpointInterval=3, coldStartStrategy=\"drop\")\n",
    "    paramGrid = ParamGridBuilder() \\\n",
    "        .addGrid(als.rank, [5]) \\\n",
    "        .addGrid(als.regParam, [0.1]) \\\n",
    "        .build()\n",
    "\n",
    "    \n",
    "    tvs = TrainValidationSplit(\n",
    "        estimator=als,\n",
    "        estimatorParamMaps=paramGrid,\n",
    "        evaluator=rmse,\n",
    "        seed=seed,\n",
    "        trainRatio=0.66, # this ratio makes train:0.5 valid:0.25 and test:0.25\n",
    "        parallelism=3\n",
    "    )\n",
    "    \n",
    "    \n",
    "    model = tvs.fit(dftrain)\n",
    "    model_path = os.getcwd() + '/training_models/ALS_splitSize-' + str(splitSize)\n",
    "    model.save(model_path)\n",
    "    testPred = model.transform(dftest)\n",
    "    trainPred = model.transform(dftrain)\n",
    "    \n",
    "    end = time.time()\n",
    "    \n",
    "    result[splitSize] = {\n",
    "        \"time\": end-start, \n",
    "        \"rmseTrain\": rmse.evaluate(trainPred),\n",
    "        \"rmseTest\": rmse.evaluate(testPred), \n",
    "        \"maeTrain\": mae.evaluate(trainPred),\n",
    "        \"maeTest\": mae.evaluate(testPred),\n",
    "        \"trainSize\": trainSize,\n",
    "        \"testSize\": testSize\n",
    "    }\n",
    "    \n",
    "    print(\"split size=%s rmse=%s\" % (splitSize, result[splitSize][\"rmseTest\"]))\n",
    "    print(\"used time: %s\" % str(result[splitSize][\"time\"]))\n",
    "    print(\"=\"*20)"
   ]
  },
  {
   "cell_type": "code",
   "execution_count": 10,
   "metadata": {},
   "outputs": [
    {
     "data": {
      "text/plain": [
       "{0.001: {'time': 53.50555992126465,\n",
       "  'rmseTrain': 0.24784831232605817,\n",
       "  'rmseTest': 2.045412820550103,\n",
       "  'maeTrain': 0.1103483664959117,\n",
       "  'maeTest': 1.715422219599787,\n",
       "  'trainSize': 20029,\n",
       "  'testSize': 19980234},\n",
       " 0.01: {'time': 59.30461382865906,\n",
       "  'rmseTrain': 0.34716467599402473,\n",
       "  'rmseTest': 1.294935565293987,\n",
       "  'maeTrain': 0.2551737231608138,\n",
       "  'maeTest': 1.0188488449024262,\n",
       "  'trainSize': 200171,\n",
       "  'testSize': 19800092},\n",
       " 0.1: {'time': 68.80400776863098,\n",
       "  'rmseTrain': 0.7100818214813067,\n",
       "  'rmseTest': 0.91269784426341,\n",
       "  'maeTrain': 0.551099093564924,\n",
       "  'maeTest': 0.7071336801969518,\n",
       "  'trainSize': 2000203,\n",
       "  'testSize': 18000060},\n",
       " 0.3: {'time': 79.24481439590454,\n",
       "  'rmseTrain': 0.7758295044778819,\n",
       "  'rmseTest': 0.841881084523025,\n",
       "  'maeTrain': 0.6071187542031499,\n",
       "  'maeTest': 0.6567119307059291,\n",
       "  'trainSize': 5998960,\n",
       "  'testSize': 14001303},\n",
       " 0.5: {'time': 87.1703610420227,\n",
       "  'rmseTrain': 0.7903714860579033,\n",
       "  'rmseTest': 0.8284786196585116,\n",
       "  'maeTrain': 0.6177253198071985,\n",
       "  'maeTest': 0.6460533398408715,\n",
       "  'trainSize': 9998144,\n",
       "  'testSize': 10002119}}"
      ]
     },
     "execution_count": 10,
     "metadata": {},
     "output_type": "execute_result"
    }
   ],
   "source": [
    "result"
   ]
  },
  {
   "cell_type": "code",
   "execution_count": null,
   "metadata": {},
   "outputs": [],
   "source": []
  },
  {
   "cell_type": "code",
   "execution_count": null,
   "metadata": {},
   "outputs": [],
   "source": []
  },
  {
   "cell_type": "markdown",
   "metadata": {},
   "source": [
    "### Visualization"
   ]
  },
  {
   "cell_type": "code",
   "execution_count": 11,
   "metadata": {},
   "outputs": [],
   "source": [
    "import pickle\n",
    "with open(os.getcwd() + '/result.pkl', 'wb') as f:\n",
    "    pickle.dump(result, f)"
   ]
  },
  {
   "cell_type": "code",
   "execution_count": 12,
   "metadata": {},
   "outputs": [],
   "source": [
    "import pandas as pd\n",
    "import matplotlib.pyplot as plt\n",
    "%matplotlib inline"
   ]
  },
  {
   "cell_type": "code",
   "execution_count": 13,
   "metadata": {},
   "outputs": [
    {
     "data": {
      "text/plain": [
       "Text(0, 0.5, 'Running Time (seconds)')"
      ]
     },
     "execution_count": 13,
     "metadata": {},
     "output_type": "execute_result"
    },
    {
     "data": {
      "image/png": "[encoded data removed]",
      "text/plain": [
       "<Figure size 1080x576 with 1 Axes>"
      ]
     },
     "metadata": {
      "needs_background": "light"
     },
     "output_type": "display_data"
    }
   ],
   "source": [
    "pd.DataFrame(result).T['time'].plot(\n",
    "    figsize=(15, 8),\n",
    "    title=\"Running Time vs Training Set Size\"\n",
    ")\n",
    "plt.xlabel('Training Set Size (percentage)')\n",
    "plt.ylabel('Running Time (seconds)')"
   ]
  },
  {
   "cell_type": "code",
   "execution_count": 14,
   "metadata": {},
   "outputs": [
    {
     "data": {
      "text/plain": [
       "Text(0, 0.5, 'RMSE')"
      ]
     },
     "execution_count": 14,
     "metadata": {},
     "output_type": "execute_result"
    },
    {
     "data": {
      "image/png": "[encoded data removed]",
      "text/plain": [
       "<Figure size 1080x576 with 1 Axes>"
      ]
     },
     "metadata": {
      "needs_background": "light"
     },
     "output_type": "display_data"
    }
   ],
   "source": [
    "pd.DataFrame(result).T['rmseTest'].plot(\n",
    "    figsize=(15, 8),\n",
    "    title=\"RMSE (testing set) vs Training Set Size\"\n",
    ")\n",
    "plt.xlabel(\"Training Set Size (percentage)\")\n",
    "plt.ylabel(\"RMSE\")"
   ]
  },
  {
   "cell_type": "code",
   "execution_count": null,
   "metadata": {},
   "outputs": [],
   "source": []
  },
  {
   "cell_type": "code",
   "execution_count": null,
   "metadata": {},
   "outputs": [],
   "source": []
  },
  {
   "cell_type": "code",
   "execution_count": null,
   "metadata": {},
   "outputs": [],
   "source": []
  },
  {
   "cell_type": "markdown",
   "metadata": {},
   "source": [
    "### Baseline"
   ]
  },
  {
   "cell_type": "code",
   "execution_count": 16,
   "metadata": {},
   "outputs": [],
   "source": [
    "# using average rate as Baseline model\n",
    "meanRating = dftrain.union(dftest).rdd.map(lambda x: x[2]).mean()"
   ]
  },
  {
   "cell_type": "code",
   "execution_count": 21,
   "metadata": {},
   "outputs": [],
   "source": [
    "baselineRmse = math.sqrt(\n",
    "    dftest.rdd.map(lambda x: (meanRating - x[2]) ** 2).reduce(operator.add) / dftest.count()\n",
    ")"
   ]
  },
  {
   "cell_type": "code",
   "execution_count": 23,
   "metadata": {},
   "outputs": [
    {
     "name": "stdout",
     "output_type": "stream",
     "text": [
      "baseline performance on test set:  1.0519832166584029\n",
      "ALS performance on test set:  0.8284786196585116\n"
     ]
    }
   ],
   "source": [
    "print(\"baseline performance on test set: \", baselineRmse)\n",
    "print(\"ALS performance on test set: \", result[0.5]['rmseTest'])"
   ]
  },
  {
   "cell_type": "code",
   "execution_count": null,
   "metadata": {},
   "outputs": [],
   "source": []
  }
 ],
 "metadata": {
  "kernelspec": {
   "display_name": "Python 3",
   "language": "python",
   "name": "python3"
  },
  "language_info": {
   "codemirror_mode": {
    "name": "ipython",
    "version": 3
   },
   "file_extension": ".py",
   "mimetype": "text/x-python",
   "name": "python",
   "nbconvert_exporter": "python",
   "pygments_lexer": "ipython3",
   "version": "3.7.3"
  }
 },
 "nbformat": 4,
 "nbformat_minor": 2
}
