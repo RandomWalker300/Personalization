{
 "cells": [
  {
   "cell_type": "code",
   "execution_count": 1,
   "metadata": {},
   "outputs": [],
   "source": [
    "from sklearn.neighbors import NearestNeighbors\n",
    "from sklearn.model_selection import train_test_split\n",
    "from sklearn.metrics import mean_squared_error\n",
    "\n",
    "import numpy as np\n",
    "import pandas as pd\n",
    "from scipy.sparse import csr_matrix\n",
    "import matplotlib.pyplot as plt\n",
    "import warnings \n",
    "\n",
    "%matplotlib inline\n",
    "warnings.filterwarnings('ignore')"
   ]
  },
  {
   "cell_type": "code",
   "execution_count": null,
   "metadata": {},
   "outputs": [],
   "source": []
  },
  {
   "cell_type": "markdown",
   "metadata": {},
   "source": [
    "### Data Preprocessing"
   ]
  },
  {
   "cell_type": "code",
   "execution_count": 2,
   "metadata": {},
   "outputs": [],
   "source": [
    "data = pd.read_csv('ml-20m/ratings.csv')"
   ]
  },
  {
   "cell_type": "code",
   "execution_count": 3,
   "metadata": {},
   "outputs": [
    {
     "name": "stdout",
     "output_type": "stream",
     "text": [
      "NaNs cells:  0\n"
     ]
    },
    {
     "data": {
      "text/html": [
       "<div>\n",
       "<style scoped>\n",
       "    .dataframe tbody tr th:only-of-type {\n",
       "        vertical-align: middle;\n",
       "    }\n",
       "\n",
       "    .dataframe tbody tr th {\n",
       "        vertical-align: top;\n",
       "    }\n",
       "\n",
       "    .dataframe thead th {\n",
       "        text-align: right;\n",
       "    }\n",
       "</style>\n",
       "<table border=\"1\" class=\"dataframe\">\n",
       "  <thead>\n",
       "    <tr style=\"text-align: right;\">\n",
       "      <th></th>\n",
       "      <th>userId</th>\n",
       "      <th>movieId</th>\n",
       "      <th>rating</th>\n",
       "      <th>timestamp</th>\n",
       "    </tr>\n",
       "  </thead>\n",
       "  <tbody>\n",
       "    <tr>\n",
       "      <td>0</td>\n",
       "      <td>1</td>\n",
       "      <td>2</td>\n",
       "      <td>3.5</td>\n",
       "      <td>1112486027</td>\n",
       "    </tr>\n",
       "    <tr>\n",
       "      <td>1</td>\n",
       "      <td>1</td>\n",
       "      <td>29</td>\n",
       "      <td>3.5</td>\n",
       "      <td>1112484676</td>\n",
       "    </tr>\n",
       "    <tr>\n",
       "      <td>2</td>\n",
       "      <td>1</td>\n",
       "      <td>32</td>\n",
       "      <td>3.5</td>\n",
       "      <td>1112484819</td>\n",
       "    </tr>\n",
       "    <tr>\n",
       "      <td>3</td>\n",
       "      <td>1</td>\n",
       "      <td>47</td>\n",
       "      <td>3.5</td>\n",
       "      <td>1112484727</td>\n",
       "    </tr>\n",
       "    <tr>\n",
       "      <td>4</td>\n",
       "      <td>1</td>\n",
       "      <td>50</td>\n",
       "      <td>3.5</td>\n",
       "      <td>1112484580</td>\n",
       "    </tr>\n",
       "  </tbody>\n",
       "</table>\n",
       "</div>"
      ],
      "text/plain": [
       "   userId  movieId  rating   timestamp\n",
       "0       1        2     3.5  1112486027\n",
       "1       1       29     3.5  1112484676\n",
       "2       1       32     3.5  1112484819\n",
       "3       1       47     3.5  1112484727\n",
       "4       1       50     3.5  1112484580"
      ]
     },
     "execution_count": 3,
     "metadata": {},
     "output_type": "execute_result"
    }
   ],
   "source": [
    "print(\"NaNs cells: \", data.isnull().values.sum())\n",
    "data.head()"
   ]
  },
  {
   "cell_type": "code",
   "execution_count": 4,
   "metadata": {},
   "outputs": [],
   "source": [
    "data.drop(\"timestamp\", inplace=True, axis=1)"
   ]
  },
  {
   "cell_type": "code",
   "execution_count": 5,
   "metadata": {},
   "outputs": [
    {
     "name": "stdout",
     "output_type": "stream",
     "text": [
      "the number of popular movies:  252\n",
      "the number of active users:  56\n"
     ]
    }
   ],
   "source": [
    "popularMovie = data[['rating', 'movieId']].groupby(\"movieId\").count()\n",
    "popularMovie = popularMovie.loc[popularMovie['rating'] > 15000].index\n",
    "\n",
    "popularUser = data[['rating', 'userId']].groupby(\"userId\").count()\n",
    "popularUser = popularUser.loc[popularUser['rating'] > 3000].index\n",
    "\n",
    "print(\"the number of popular movies: \", len(popularMovie))\n",
    "print(\"the number of active users: \", len(popularUser))"
   ]
  },
  {
   "cell_type": "code",
   "execution_count": 7,
   "metadata": {},
   "outputs": [],
   "source": [
    "data = data.loc[ \n",
    "    (data['movieId'].isin(popularMovie)) & (data['userId'].isin(popularUser)) \n",
    "]"
   ]
  },
  {
   "cell_type": "code",
   "execution_count": 8,
   "metadata": {},
   "outputs": [],
   "source": [
    "train, test = train_test_split(data, test_size=0.50)\n",
    "train, valid = train_test_split(train, test_size=0.2)"
   ]
  },
  {
   "cell_type": "code",
   "execution_count": 10,
   "metadata": {},
   "outputs": [
    {
     "name": "stdout",
     "output_type": "stream",
     "text": [
      "(5050, 3)\n",
      "(1263, 3)\n",
      "(6313, 3)\n"
     ]
    },
    {
     "data": {
      "text/html": [
       "<div>\n",
       "<style scoped>\n",
       "    .dataframe tbody tr th:only-of-type {\n",
       "        vertical-align: middle;\n",
       "    }\n",
       "\n",
       "    .dataframe tbody tr th {\n",
       "        vertical-align: top;\n",
       "    }\n",
       "\n",
       "    .dataframe thead th {\n",
       "        text-align: right;\n",
       "    }\n",
       "</style>\n",
       "<table border=\"1\" class=\"dataframe\">\n",
       "  <thead>\n",
       "    <tr style=\"text-align: right;\">\n",
       "      <th></th>\n",
       "      <th>userId</th>\n",
       "      <th>movieId</th>\n",
       "      <th>rating</th>\n",
       "    </tr>\n",
       "  </thead>\n",
       "  <tbody>\n",
       "    <tr>\n",
       "      <td>5128472</td>\n",
       "      <td>35128</td>\n",
       "      <td>788</td>\n",
       "      <td>4.0</td>\n",
       "    </tr>\n",
       "    <tr>\n",
       "      <td>18981431</td>\n",
       "      <td>131347</td>\n",
       "      <td>6874</td>\n",
       "      <td>5.0</td>\n",
       "    </tr>\n",
       "    <tr>\n",
       "      <td>2671006</td>\n",
       "      <td>18138</td>\n",
       "      <td>1704</td>\n",
       "      <td>3.5</td>\n",
       "    </tr>\n",
       "    <tr>\n",
       "      <td>2962539</td>\n",
       "      <td>20132</td>\n",
       "      <td>4995</td>\n",
       "      <td>5.0</td>\n",
       "    </tr>\n",
       "    <tr>\n",
       "      <td>18713721</td>\n",
       "      <td>129583</td>\n",
       "      <td>1</td>\n",
       "      <td>4.5</td>\n",
       "    </tr>\n",
       "  </tbody>\n",
       "</table>\n",
       "</div>"
      ],
      "text/plain": [
       "          userId  movieId  rating\n",
       "5128472    35128      788     4.0\n",
       "18981431  131347     6874     5.0\n",
       "2671006    18138     1704     3.5\n",
       "2962539    20132     4995     5.0\n",
       "18713721  129583        1     4.5"
      ]
     },
     "execution_count": 10,
     "metadata": {},
     "output_type": "execute_result"
    }
   ],
   "source": [
    "print(train.shape)\n",
    "print(valid.shape)\n",
    "print(test.shape)\n",
    "train.head(5)"
   ]
  },
  {
   "cell_type": "code",
   "execution_count": 11,
   "metadata": {},
   "outputs": [],
   "source": [
    "'''\n",
    "this is the same as \n",
    "train.pivot(\n",
    "    index=\"movieId\", \n",
    "    columns=\"userId\",\n",
    "    values=\"rating\"\n",
    ")\n",
    "'''\n",
    "movieCat = pd.api.types.CategoricalDtype(categories=sorted(train['movieId'].unique()))\n",
    "userCat = pd.api.types.CategoricalDtype(categories=sorted(train['userId'].unique()))\n",
    "\n",
    "rowIndex = train['movieId'].astype(movieCat).cat.codes\n",
    "colIndex = train['userId'].astype(userCat).cat.codes\n",
    "sparse_matrix = csr_matrix(\n",
    "    (train[\"rating\"], (rowIndex, colIndex)), \n",
    "    shape=(movieCat.categories.size, userCat.categories.size)\n",
    ")\n",
    "\n",
    "UserItemDF = pd.SparseDataFrame(\n",
    "    sparse_matrix,\n",
    "    index=movieCat.categories,\n",
    "    columns=userCat.categories,\n",
    "    default_fill_value=0\n",
    ")"
   ]
  },
  {
   "cell_type": "code",
   "execution_count": 12,
   "metadata": {},
   "outputs": [
    {
     "data": {
      "text/html": [
       "<div>\n",
       "<style scoped>\n",
       "    .dataframe tbody tr th:only-of-type {\n",
       "        vertical-align: middle;\n",
       "    }\n",
       "\n",
       "    .dataframe tbody tr th {\n",
       "        vertical-align: top;\n",
       "    }\n",
       "\n",
       "    .dataframe thead th {\n",
       "        text-align: right;\n",
       "    }\n",
       "</style>\n",
       "<table border=\"1\" class=\"dataframe\">\n",
       "  <thead>\n",
       "    <tr style=\"text-align: right;\">\n",
       "      <th></th>\n",
       "      <th>7201</th>\n",
       "      <th>8405</th>\n",
       "      <th>8963</th>\n",
       "      <th>9544</th>\n",
       "      <th>12131</th>\n",
       "      <th>14705</th>\n",
       "      <th>15617</th>\n",
       "      <th>18138</th>\n",
       "      <th>18611</th>\n",
       "      <th>20132</th>\n",
       "      <th>...</th>\n",
       "      <th>123606</th>\n",
       "      <th>125794</th>\n",
       "      <th>125978</th>\n",
       "      <th>129583</th>\n",
       "      <th>130459</th>\n",
       "      <th>130767</th>\n",
       "      <th>131347</th>\n",
       "      <th>131894</th>\n",
       "      <th>131904</th>\n",
       "      <th>136268</th>\n",
       "    </tr>\n",
       "  </thead>\n",
       "  <tbody>\n",
       "    <tr>\n",
       "      <td>1</td>\n",
       "      <td>4.5</td>\n",
       "      <td>5.0</td>\n",
       "      <td>0.0</td>\n",
       "      <td>0.0</td>\n",
       "      <td>0.0</td>\n",
       "      <td>0.0</td>\n",
       "      <td>0.0</td>\n",
       "      <td>0.0</td>\n",
       "      <td>0.0</td>\n",
       "      <td>5.0</td>\n",
       "      <td>...</td>\n",
       "      <td>0.0</td>\n",
       "      <td>5.0</td>\n",
       "      <td>0.0</td>\n",
       "      <td>4.5</td>\n",
       "      <td>0.0</td>\n",
       "      <td>4.5</td>\n",
       "      <td>5.0</td>\n",
       "      <td>5.0</td>\n",
       "      <td>0.0</td>\n",
       "      <td>0.0</td>\n",
       "    </tr>\n",
       "    <tr>\n",
       "      <td>2</td>\n",
       "      <td>0.0</td>\n",
       "      <td>0.0</td>\n",
       "      <td>0.0</td>\n",
       "      <td>0.0</td>\n",
       "      <td>0.0</td>\n",
       "      <td>2.0</td>\n",
       "      <td>0.0</td>\n",
       "      <td>0.0</td>\n",
       "      <td>0.0</td>\n",
       "      <td>3.0</td>\n",
       "      <td>...</td>\n",
       "      <td>4.0</td>\n",
       "      <td>0.0</td>\n",
       "      <td>0.0</td>\n",
       "      <td>3.5</td>\n",
       "      <td>0.0</td>\n",
       "      <td>0.0</td>\n",
       "      <td>2.5</td>\n",
       "      <td>0.0</td>\n",
       "      <td>0.0</td>\n",
       "      <td>0.0</td>\n",
       "    </tr>\n",
       "    <tr>\n",
       "      <td>6</td>\n",
       "      <td>2.0</td>\n",
       "      <td>0.0</td>\n",
       "      <td>0.0</td>\n",
       "      <td>4.0</td>\n",
       "      <td>0.0</td>\n",
       "      <td>0.0</td>\n",
       "      <td>0.0</td>\n",
       "      <td>4.0</td>\n",
       "      <td>4.0</td>\n",
       "      <td>4.0</td>\n",
       "      <td>...</td>\n",
       "      <td>0.0</td>\n",
       "      <td>5.0</td>\n",
       "      <td>0.0</td>\n",
       "      <td>0.0</td>\n",
       "      <td>0.0</td>\n",
       "      <td>0.0</td>\n",
       "      <td>4.5</td>\n",
       "      <td>0.0</td>\n",
       "      <td>0.0</td>\n",
       "      <td>5.0</td>\n",
       "    </tr>\n",
       "    <tr>\n",
       "      <td>10</td>\n",
       "      <td>0.0</td>\n",
       "      <td>0.0</td>\n",
       "      <td>0.0</td>\n",
       "      <td>2.0</td>\n",
       "      <td>0.0</td>\n",
       "      <td>0.0</td>\n",
       "      <td>3.0</td>\n",
       "      <td>3.0</td>\n",
       "      <td>0.0</td>\n",
       "      <td>0.0</td>\n",
       "      <td>...</td>\n",
       "      <td>0.0</td>\n",
       "      <td>0.0</td>\n",
       "      <td>0.0</td>\n",
       "      <td>0.0</td>\n",
       "      <td>0.0</td>\n",
       "      <td>0.0</td>\n",
       "      <td>0.0</td>\n",
       "      <td>0.0</td>\n",
       "      <td>0.0</td>\n",
       "      <td>3.0</td>\n",
       "    </tr>\n",
       "    <tr>\n",
       "      <td>11</td>\n",
       "      <td>0.0</td>\n",
       "      <td>4.0</td>\n",
       "      <td>3.0</td>\n",
       "      <td>0.0</td>\n",
       "      <td>3.0</td>\n",
       "      <td>0.0</td>\n",
       "      <td>3.5</td>\n",
       "      <td>4.5</td>\n",
       "      <td>0.0</td>\n",
       "      <td>5.0</td>\n",
       "      <td>...</td>\n",
       "      <td>2.5</td>\n",
       "      <td>5.0</td>\n",
       "      <td>0.0</td>\n",
       "      <td>4.5</td>\n",
       "      <td>3.0</td>\n",
       "      <td>0.0</td>\n",
       "      <td>0.0</td>\n",
       "      <td>0.0</td>\n",
       "      <td>0.0</td>\n",
       "      <td>0.0</td>\n",
       "    </tr>\n",
       "    <tr>\n",
       "      <td>...</td>\n",
       "      <td>...</td>\n",
       "      <td>...</td>\n",
       "      <td>...</td>\n",
       "      <td>...</td>\n",
       "      <td>...</td>\n",
       "      <td>...</td>\n",
       "      <td>...</td>\n",
       "      <td>...</td>\n",
       "      <td>...</td>\n",
       "      <td>...</td>\n",
       "      <td>...</td>\n",
       "      <td>...</td>\n",
       "      <td>...</td>\n",
       "      <td>...</td>\n",
       "      <td>...</td>\n",
       "      <td>...</td>\n",
       "      <td>...</td>\n",
       "      <td>...</td>\n",
       "      <td>...</td>\n",
       "      <td>...</td>\n",
       "      <td>...</td>\n",
       "    </tr>\n",
       "    <tr>\n",
       "      <td>8636</td>\n",
       "      <td>0.0</td>\n",
       "      <td>0.0</td>\n",
       "      <td>0.0</td>\n",
       "      <td>3.5</td>\n",
       "      <td>0.0</td>\n",
       "      <td>0.0</td>\n",
       "      <td>0.0</td>\n",
       "      <td>0.0</td>\n",
       "      <td>0.0</td>\n",
       "      <td>3.5</td>\n",
       "      <td>...</td>\n",
       "      <td>0.0</td>\n",
       "      <td>0.0</td>\n",
       "      <td>0.0</td>\n",
       "      <td>4.5</td>\n",
       "      <td>2.5</td>\n",
       "      <td>3.5</td>\n",
       "      <td>4.0</td>\n",
       "      <td>5.0</td>\n",
       "      <td>0.0</td>\n",
       "      <td>0.0</td>\n",
       "    </tr>\n",
       "    <tr>\n",
       "      <td>8961</td>\n",
       "      <td>0.0</td>\n",
       "      <td>4.0</td>\n",
       "      <td>0.0</td>\n",
       "      <td>0.0</td>\n",
       "      <td>0.0</td>\n",
       "      <td>0.0</td>\n",
       "      <td>0.0</td>\n",
       "      <td>4.0</td>\n",
       "      <td>0.0</td>\n",
       "      <td>4.0</td>\n",
       "      <td>...</td>\n",
       "      <td>0.0</td>\n",
       "      <td>5.0</td>\n",
       "      <td>0.0</td>\n",
       "      <td>0.0</td>\n",
       "      <td>3.5</td>\n",
       "      <td>4.0</td>\n",
       "      <td>4.0</td>\n",
       "      <td>5.0</td>\n",
       "      <td>0.0</td>\n",
       "      <td>0.0</td>\n",
       "    </tr>\n",
       "    <tr>\n",
       "      <td>32587</td>\n",
       "      <td>3.5</td>\n",
       "      <td>4.0</td>\n",
       "      <td>2.0</td>\n",
       "      <td>0.0</td>\n",
       "      <td>0.0</td>\n",
       "      <td>0.0</td>\n",
       "      <td>0.0</td>\n",
       "      <td>0.0</td>\n",
       "      <td>0.0</td>\n",
       "      <td>0.0</td>\n",
       "      <td>...</td>\n",
       "      <td>3.0</td>\n",
       "      <td>0.0</td>\n",
       "      <td>0.0</td>\n",
       "      <td>0.0</td>\n",
       "      <td>0.0</td>\n",
       "      <td>0.0</td>\n",
       "      <td>0.0</td>\n",
       "      <td>0.0</td>\n",
       "      <td>0.0</td>\n",
       "      <td>0.0</td>\n",
       "    </tr>\n",
       "    <tr>\n",
       "      <td>33794</td>\n",
       "      <td>0.0</td>\n",
       "      <td>0.0</td>\n",
       "      <td>3.0</td>\n",
       "      <td>3.5</td>\n",
       "      <td>0.0</td>\n",
       "      <td>0.0</td>\n",
       "      <td>3.5</td>\n",
       "      <td>3.5</td>\n",
       "      <td>0.0</td>\n",
       "      <td>0.0</td>\n",
       "      <td>...</td>\n",
       "      <td>4.0</td>\n",
       "      <td>0.0</td>\n",
       "      <td>4.5</td>\n",
       "      <td>0.0</td>\n",
       "      <td>4.0</td>\n",
       "      <td>0.0</td>\n",
       "      <td>4.0</td>\n",
       "      <td>5.0</td>\n",
       "      <td>0.0</td>\n",
       "      <td>0.0</td>\n",
       "    </tr>\n",
       "    <tr>\n",
       "      <td>58559</td>\n",
       "      <td>0.0</td>\n",
       "      <td>0.0</td>\n",
       "      <td>0.0</td>\n",
       "      <td>0.0</td>\n",
       "      <td>0.0</td>\n",
       "      <td>0.0</td>\n",
       "      <td>3.5</td>\n",
       "      <td>0.0</td>\n",
       "      <td>0.0</td>\n",
       "      <td>3.5</td>\n",
       "      <td>...</td>\n",
       "      <td>0.0</td>\n",
       "      <td>0.0</td>\n",
       "      <td>3.5</td>\n",
       "      <td>0.0</td>\n",
       "      <td>2.0</td>\n",
       "      <td>0.0</td>\n",
       "      <td>4.5</td>\n",
       "      <td>0.0</td>\n",
       "      <td>0.0</td>\n",
       "      <td>4.0</td>\n",
       "    </tr>\n",
       "  </tbody>\n",
       "</table>\n",
       "<p>252 rows × 56 columns</p>\n",
       "</div>"
      ],
      "text/plain": [
       "       7201    8405    8963    9544    12131   14705   15617   18138   18611   \\\n",
       "1         4.5     5.0     0.0     0.0     0.0     0.0     0.0     0.0     0.0   \n",
       "2         0.0     0.0     0.0     0.0     0.0     2.0     0.0     0.0     0.0   \n",
       "6         2.0     0.0     0.0     4.0     0.0     0.0     0.0     4.0     4.0   \n",
       "10        0.0     0.0     0.0     2.0     0.0     0.0     3.0     3.0     0.0   \n",
       "11        0.0     4.0     3.0     0.0     3.0     0.0     3.5     4.5     0.0   \n",
       "...       ...     ...     ...     ...     ...     ...     ...     ...     ...   \n",
       "8636      0.0     0.0     0.0     3.5     0.0     0.0     0.0     0.0     0.0   \n",
       "8961      0.0     4.0     0.0     0.0     0.0     0.0     0.0     4.0     0.0   \n",
       "32587     3.5     4.0     2.0     0.0     0.0     0.0     0.0     0.0     0.0   \n",
       "33794     0.0     0.0     3.0     3.5     0.0     0.0     3.5     3.5     0.0   \n",
       "58559     0.0     0.0     0.0     0.0     0.0     0.0     3.5     0.0     0.0   \n",
       "\n",
       "       20132   ...  123606  125794  125978  129583  130459  130767  131347  \\\n",
       "1         5.0  ...     0.0     5.0     0.0     4.5     0.0     4.5     5.0   \n",
       "2         3.0  ...     4.0     0.0     0.0     3.5     0.0     0.0     2.5   \n",
       "6         4.0  ...     0.0     5.0     0.0     0.0     0.0     0.0     4.5   \n",
       "10        0.0  ...     0.0     0.0     0.0     0.0     0.0     0.0     0.0   \n",
       "11        5.0  ...     2.5     5.0     0.0     4.5     3.0     0.0     0.0   \n",
       "...       ...  ...     ...     ...     ...     ...     ...     ...     ...   \n",
       "8636      3.5  ...     0.0     0.0     0.0     4.5     2.5     3.5     4.0   \n",
       "8961      4.0  ...     0.0     5.0     0.0     0.0     3.5     4.0     4.0   \n",
       "32587     0.0  ...     3.0     0.0     0.0     0.0     0.0     0.0     0.0   \n",
       "33794     0.0  ...     4.0     0.0     4.5     0.0     4.0     0.0     4.0   \n",
       "58559     3.5  ...     0.0     0.0     3.5     0.0     2.0     0.0     4.5   \n",
       "\n",
       "       131894  131904  136268  \n",
       "1         5.0     0.0     0.0  \n",
       "2         0.0     0.0     0.0  \n",
       "6         0.0     0.0     5.0  \n",
       "10        0.0     0.0     3.0  \n",
       "11        0.0     0.0     0.0  \n",
       "...       ...     ...     ...  \n",
       "8636      5.0     0.0     0.0  \n",
       "8961      5.0     0.0     0.0  \n",
       "32587     0.0     0.0     0.0  \n",
       "33794     5.0     0.0     0.0  \n",
       "58559     0.0     0.0     4.0  \n",
       "\n",
       "[252 rows x 56 columns]"
      ]
     },
     "execution_count": 12,
     "metadata": {},
     "output_type": "execute_result"
    }
   ],
   "source": [
    "UserItemDF"
   ]
  },
  {
   "cell_type": "code",
   "execution_count": null,
   "metadata": {},
   "outputs": [],
   "source": []
  },
  {
   "cell_type": "code",
   "execution_count": null,
   "metadata": {},
   "outputs": [],
   "source": []
  },
  {
   "cell_type": "markdown",
   "metadata": {},
   "source": [
    "### Model"
   ]
  },
  {
   "cell_type": "code",
   "execution_count": 13,
   "metadata": {},
   "outputs": [],
   "source": [
    "model = NearestNeighbors(\n",
    "    metric='cosine', \n",
    "    n_neighbors=20, \n",
    "    n_jobs=-1,\n",
    "    algorithm='brute'\n",
    ")"
   ]
  },
  {
   "cell_type": "code",
   "execution_count": 14,
   "metadata": {},
   "outputs": [
    {
     "data": {
      "text/plain": [
       "NearestNeighbors(algorithm='auto', leaf_size=30, metric='cosine',\n",
       "                 metric_params=None, n_jobs=-1, n_neighbors=20, p=2,\n",
       "                 radius=1.0)"
      ]
     },
     "execution_count": 14,
     "metadata": {},
     "output_type": "execute_result"
    }
   ],
   "source": [
    "model.fit(UserItemDF)"
   ]
  },
  {
   "cell_type": "code",
   "execution_count": 15,
   "metadata": {},
   "outputs": [],
   "source": [
    "dis, ind = model.kneighbors(return_distance=True)"
   ]
  },
  {
   "cell_type": "code",
   "execution_count": 16,
   "metadata": {},
   "outputs": [
    {
     "data": {
      "text/plain": [
       "(array([0.39541697, 0.42931302, 0.45193691, 0.46954898, 0.47094594,\n",
       "        0.47513066, 0.47927382, 0.47946976, 0.47976719, 0.48545616,\n",
       "        0.4918362 , 0.49549485, 0.50363493, 0.50625285, 0.51838939,\n",
       "        0.53310134, 0.53565417, 0.53934555, 0.5454519 , 0.54628882]),\n",
       " array([153, 248,  80, 174, 246, 126, 110,  81, 121, 114,  24, 247,  84,\n",
       "        103, 146,   5,   4, 152, 101,  52]))"
      ]
     },
     "execution_count": 16,
     "metadata": {},
     "output_type": "execute_result"
    }
   ],
   "source": [
    "'''\n",
    "dis: distance in high dimension, smaller distance means high similarity\n",
    "ind: Indices of the nearest points in the population matrix.\n",
    "'''\n",
    "# movieId = 1\n",
    "dis[0], ind[0]"
   ]
  },
  {
   "cell_type": "code",
   "execution_count": 17,
   "metadata": {},
   "outputs": [
    {
     "data": {
      "text/plain": [
       "[(1, 0),\n",
       " (2, 1),\n",
       " (6, 2),\n",
       " (10, 3),\n",
       " (11, 4),\n",
       " (8636, 247),\n",
       " (8961, 248),\n",
       " (32587, 249),\n",
       " (33794, 250),\n",
       " (58559, 251)]"
      ]
     },
     "execution_count": 17,
     "metadata": {},
     "output_type": "execute_result"
    }
   ],
   "source": [
    "# key: movieId\n",
    "# value: the row index in User-Item matrix\n",
    "movieIdIndexMap = {movId: idx for idx, movId in enumerate(UserItemDF.index)}\n",
    "showMovieIdIndexMap = list(movieIdIndexMap.items())\n",
    "showMovieIdIndexMap[:5] + showMovieIdIndexMap[-5:]"
   ]
  },
  {
   "cell_type": "code",
   "execution_count": null,
   "metadata": {},
   "outputs": [],
   "source": []
  },
  {
   "cell_type": "code",
   "execution_count": null,
   "metadata": {},
   "outputs": [],
   "source": []
  },
  {
   "cell_type": "code",
   "execution_count": 21,
   "metadata": {},
   "outputs": [],
   "source": [
    "def predict(movieId, userId, dis, ind, UserItemMatrix, returnAvg=False):\n",
    "    movieIdIndexMap = {movId: idx for idx, movId in enumerate(UserItemMatrix.index)}\n",
    "    movieIdIndexMapReversed = {idx: movId for idx, movId in enumerate(UserItemMatrix.index)}\n",
    "    \n",
    "    # since we used cosine similarity so the closest neighbor distance should be 1\n",
    "    nonZeroUserIndex = np.nonzero(UserItemMatrix.loc[movieId])[0]\n",
    "    sim = dis[ movieIdIndexMap[movieId] ]\n",
    "    mu_movie = UserItemMatrix.loc[movieId]\\\n",
    "                             .iloc[nonZeroUserIndex]\\\n",
    "                             .mean()\n",
    "    \n",
    "    nonZeroMovieIndex = np.nonzero(UserItemMatrix.iloc[ind[ movieIdIndexMap[movieId] ]].loc[:, userId])[0]\n",
    "    denom = np.sum( abs(sim[nonZeroMovieIndex]) )\n",
    "    nom = (UserItemMatrix.iloc[ind[ movieIdIndexMap[movieId] ]]\n",
    "                     .loc[:, userId]\\\n",
    "                     .iloc[nonZeroMovieIndex]\n",
    "           - UserItemMatrix.iloc[ind[ movieIdIndexMap[movieId] ]]\\\n",
    "                           .iloc[nonZeroMovieIndex]\n",
    "                           .to_dense()\\\n",
    "                           .replace({0: np.nan})\\\n",
    "                           .mean(axis=1, skipna=True)\n",
    "    ).values\n",
    "\n",
    "    if len(nonZeroMovieIndex) == 0:\n",
    "        prediction = mu_movie\n",
    "    else:\n",
    "        prediction = mu_movie + np.sum(nom * sim[nonZeroMovieIndex]) / denom\n",
    "\n",
    "    if returnAvg:\n",
    "        return prediction, mu_movie\n",
    "    else:\n",
    "        return prediction"
   ]
  },
  {
   "cell_type": "code",
   "execution_count": 19,
   "metadata": {},
   "outputs": [
    {
     "name": "stdout",
     "output_type": "stream",
     "text": [
      "WARNING: Progress bar is an experimental feature. This can lead to a considerable performance loss.\n",
      "New pandarallel memory created - Size: 2000 MB\n",
      "Pandarallel will run on 7 workers\n"
     ]
    }
   ],
   "source": [
    "from pandarallel import pandarallel\n",
    "pandarallel.initialize(nb_workers=7, progress_bar=True)\n",
    "# for parallel computing the lambda function"
   ]
  },
  {
   "cell_type": "code",
   "execution_count": 22,
   "metadata": {},
   "outputs": [],
   "source": [
    "def func(s):\n",
    "    return predict(\n",
    "        movieId=s['movieId'],\n",
    "        userId=s['userId'], \n",
    "        dis=dis, ind=ind, \n",
    "        UserItemMatrix=UserItemDF\n",
    "    )"
   ]
  },
  {
   "cell_type": "code",
   "execution_count": 23,
   "metadata": {
    "scrolled": true
   },
   "outputs": [
    {
     "data": {
      "application/vnd.jupyter.widget-view+json": {
       "model_id": "88cb059e85fe46a78cb4c32c68977b2c",
       "version_major": 2,
       "version_minor": 0
      },
      "text/plain": [
       "VBox(children=(HBox(children=(IntProgress(value=0, description='0.00%', max=722), Label(value='0 / 722'))), HB…"
      ]
     },
     "metadata": {},
     "output_type": "display_data"
    },
    {
     "name": "stdout",
     "output_type": "stream",
     "text": [
      "CPU times: user 4.46 s, sys: 1 s, total: 5.46 s\n",
      "Wall time: 1min 14s\n"
     ]
    }
   ],
   "source": [
    "%%time\n",
    "train['predict'] = train.parallel_apply(func, axis=1)"
   ]
  },
  {
   "cell_type": "code",
   "execution_count": 24,
   "metadata": {},
   "outputs": [
    {
     "data": {
      "application/vnd.jupyter.widget-view+json": {
       "model_id": "18e740a1ddc544b8baf2bbbd85c48b50",
       "version_major": 2,
       "version_minor": 0
      },
      "text/plain": [
       "VBox(children=(HBox(children=(IntProgress(value=0, description='0.00%', max=902), Label(value='0 / 902'))), HB…"
      ]
     },
     "metadata": {},
     "output_type": "display_data"
    },
    {
     "name": "stdout",
     "output_type": "stream",
     "text": [
      "CPU times: user 6.11 s, sys: 1.57 s, total: 7.68 s\n",
      "Wall time: 1min 38s\n"
     ]
    }
   ],
   "source": [
    "%%time\n",
    "test['predict'] = test.parallel_apply(func, axis=1)\n",
    "# test.to_csv(os.getcwd() + 'predictedTest.csv')"
   ]
  },
  {
   "cell_type": "code",
   "execution_count": 28,
   "metadata": {},
   "outputs": [
    {
     "data": {
      "text/html": [
       "<div>\n",
       "<style scoped>\n",
       "    .dataframe tbody tr th:only-of-type {\n",
       "        vertical-align: middle;\n",
       "    }\n",
       "\n",
       "    .dataframe tbody tr th {\n",
       "        vertical-align: top;\n",
       "    }\n",
       "\n",
       "    .dataframe thead th {\n",
       "        text-align: right;\n",
       "    }\n",
       "</style>\n",
       "<table border=\"1\" class=\"dataframe\">\n",
       "  <thead>\n",
       "    <tr style=\"text-align: right;\">\n",
       "      <th></th>\n",
       "      <th>userId</th>\n",
       "      <th>movieId</th>\n",
       "      <th>rating</th>\n",
       "      <th>predict</th>\n",
       "    </tr>\n",
       "  </thead>\n",
       "  <tbody>\n",
       "    <tr>\n",
       "      <td>5128472</td>\n",
       "      <td>35128</td>\n",
       "      <td>788</td>\n",
       "      <td>4.0</td>\n",
       "      <td>3.773320</td>\n",
       "    </tr>\n",
       "    <tr>\n",
       "      <td>18981431</td>\n",
       "      <td>131347</td>\n",
       "      <td>6874</td>\n",
       "      <td>5.0</td>\n",
       "      <td>4.152031</td>\n",
       "    </tr>\n",
       "    <tr>\n",
       "      <td>2671006</td>\n",
       "      <td>18138</td>\n",
       "      <td>1704</td>\n",
       "      <td>3.5</td>\n",
       "      <td>3.787893</td>\n",
       "    </tr>\n",
       "    <tr>\n",
       "      <td>2962539</td>\n",
       "      <td>20132</td>\n",
       "      <td>4995</td>\n",
       "      <td>5.0</td>\n",
       "      <td>4.505833</td>\n",
       "    </tr>\n",
       "    <tr>\n",
       "      <td>18713721</td>\n",
       "      <td>129583</td>\n",
       "      <td>1</td>\n",
       "      <td>4.5</td>\n",
       "      <td>4.827462</td>\n",
       "    </tr>\n",
       "  </tbody>\n",
       "</table>\n",
       "</div>"
      ],
      "text/plain": [
       "          userId  movieId  rating   predict\n",
       "5128472    35128      788     4.0  3.773320\n",
       "18981431  131347     6874     5.0  4.152031\n",
       "2671006    18138     1704     3.5  3.787893\n",
       "2962539    20132     4995     5.0  4.505833\n",
       "18713721  129583        1     4.5  4.827462"
      ]
     },
     "execution_count": 28,
     "metadata": {},
     "output_type": "execute_result"
    }
   ],
   "source": [
    "train.head()"
   ]
  },
  {
   "cell_type": "code",
   "execution_count": 29,
   "metadata": {},
   "outputs": [
    {
     "data": {
      "text/html": [
       "<div>\n",
       "<style scoped>\n",
       "    .dataframe tbody tr th:only-of-type {\n",
       "        vertical-align: middle;\n",
       "    }\n",
       "\n",
       "    .dataframe tbody tr th {\n",
       "        vertical-align: top;\n",
       "    }\n",
       "\n",
       "    .dataframe thead th {\n",
       "        text-align: right;\n",
       "    }\n",
       "</style>\n",
       "<table border=\"1\" class=\"dataframe\">\n",
       "  <thead>\n",
       "    <tr style=\"text-align: right;\">\n",
       "      <th></th>\n",
       "      <th>userId</th>\n",
       "      <th>movieId</th>\n",
       "      <th>rating</th>\n",
       "      <th>predict</th>\n",
       "    </tr>\n",
       "  </thead>\n",
       "  <tbody>\n",
       "    <tr>\n",
       "      <td>3615183</td>\n",
       "      <td>24688</td>\n",
       "      <td>2640</td>\n",
       "      <td>4.0</td>\n",
       "      <td>3.745510</td>\n",
       "    </tr>\n",
       "    <tr>\n",
       "      <td>11934583</td>\n",
       "      <td>82418</td>\n",
       "      <td>2640</td>\n",
       "      <td>5.0</td>\n",
       "      <td>4.140078</td>\n",
       "    </tr>\n",
       "    <tr>\n",
       "      <td>17431902</td>\n",
       "      <td>120575</td>\n",
       "      <td>786</td>\n",
       "      <td>2.0</td>\n",
       "      <td>1.777278</td>\n",
       "    </tr>\n",
       "    <tr>\n",
       "      <td>2960707</td>\n",
       "      <td>20132</td>\n",
       "      <td>733</td>\n",
       "      <td>4.0</td>\n",
       "      <td>3.899836</td>\n",
       "    </tr>\n",
       "    <tr>\n",
       "      <td>3348835</td>\n",
       "      <td>22901</td>\n",
       "      <td>318</td>\n",
       "      <td>5.0</td>\n",
       "      <td>5.002449</td>\n",
       "    </tr>\n",
       "  </tbody>\n",
       "</table>\n",
       "</div>"
      ],
      "text/plain": [
       "          userId  movieId  rating   predict\n",
       "3615183    24688     2640     4.0  3.745510\n",
       "11934583   82418     2640     5.0  4.140078\n",
       "17431902  120575      786     2.0  1.777278\n",
       "2960707    20132      733     4.0  3.899836\n",
       "3348835    22901      318     5.0  5.002449"
      ]
     },
     "execution_count": 29,
     "metadata": {},
     "output_type": "execute_result"
    }
   ],
   "source": [
    "test.head()"
   ]
  },
  {
   "cell_type": "code",
   "execution_count": 30,
   "metadata": {},
   "outputs": [
    {
     "name": "stdout",
     "output_type": "stream",
     "text": [
      "----------model performance----------\n",
      "on training set:  0.549638489799794\n",
      "on testing set:  0.7434849955224105\n"
     ]
    }
   ],
   "source": [
    "from sklearn.metrics import mean_squared_error\n",
    "print(\"-\"*10 + \"model performance\" + \"-\"*10)\n",
    "print(\"on training set: \", mean_squared_error(train['rating'], train['predict']))\n",
    "print(\"on testing set: \", mean_squared_error(test['rating'], test['predict']))"
   ]
  },
  {
   "cell_type": "code",
   "execution_count": null,
   "metadata": {},
   "outputs": [],
   "source": []
  },
  {
   "cell_type": "code",
   "execution_count": null,
   "metadata": {},
   "outputs": [],
   "source": []
  },
  {
   "cell_type": "code",
   "execution_count": null,
   "metadata": {},
   "outputs": [],
   "source": []
  },
  {
   "cell_type": "markdown",
   "metadata": {},
   "source": [
    "### Choosing Hyperparameter"
   ]
  },
  {
   "cell_type": "code",
   "execution_count": 31,
   "metadata": {},
   "outputs": [],
   "source": [
    "modelOne = NearestNeighbors(\n",
    "    metric='cosine', \n",
    "    n_neighbors=30, \n",
    "    n_jobs=-1,\n",
    "    algorithm='brute'\n",
    ")\n",
    "modelOne.fit(UserItemDF)\n",
    "disOne, indOne = modelOne.kneighbors(return_distance=True)\n",
    "\n",
    "\n",
    "modelTwo = NearestNeighbors(\n",
    "    metric='cosine', \n",
    "    n_neighbors=20, \n",
    "    n_jobs=-1,\n",
    "    algorithm='brute'\n",
    ")\n",
    "modelTwo.fit(UserItemDF)\n",
    "disTwo, indTwo = modelTwo.kneighbors(return_distance=True)\n",
    "\n",
    "\n",
    "modelThree = NearestNeighbors(\n",
    "    metric='cosine', \n",
    "    n_neighbors=10, \n",
    "    n_jobs=-1,\n",
    "    algorithm='brute'\n",
    ")\n",
    "modelThree.fit(UserItemDF)\n",
    "disThree, indThree = modelThree.kneighbors(return_distance=True)"
   ]
  },
  {
   "cell_type": "code",
   "execution_count": 32,
   "metadata": {},
   "outputs": [],
   "source": [
    "def func(s, dis, ind, UserItemMatrix):\n",
    "    return predict(\n",
    "        movieId=s['movieId'],\n",
    "        userId=s['userId'], \n",
    "        dis=dis, ind=ind, \n",
    "        UserItemMatrix=UserItemMatrix\n",
    "    )"
   ]
  },
  {
   "cell_type": "code",
   "execution_count": 34,
   "metadata": {},
   "outputs": [
    {
     "data": {
      "application/vnd.jupyter.widget-view+json": {
       "model_id": "dfd1e31d16e84b3ea72f2dfeffa7eae6",
       "version_major": 2,
       "version_minor": 0
      },
      "text/plain": [
       "VBox(children=(HBox(children=(IntProgress(value=0, description='0.00%', max=181), Label(value='0 / 181'))), HB…"
      ]
     },
     "metadata": {},
     "output_type": "display_data"
    }
   ],
   "source": [
    "valid['predictOne'] = valid.parallel_apply(\n",
    "    func, axis=1, dis=disOne, ind=indOne, UserItemMatrix=UserItemDF\n",
    ")"
   ]
  },
  {
   "cell_type": "code",
   "execution_count": 35,
   "metadata": {},
   "outputs": [
    {
     "data": {
      "application/vnd.jupyter.widget-view+json": {
       "model_id": "96c6549065f24b6ba12a3af4f044513b",
       "version_major": 2,
       "version_minor": 0
      },
      "text/plain": [
       "VBox(children=(HBox(children=(IntProgress(value=0, description='0.00%', max=181), Label(value='0 / 181'))), HB…"
      ]
     },
     "metadata": {},
     "output_type": "display_data"
    }
   ],
   "source": [
    "valid['predictTwo'] = valid.parallel_apply(\n",
    "    func, axis=1, dis=disTwo, ind=indTwo, UserItemMatrix=UserItemDF\n",
    ")"
   ]
  },
  {
   "cell_type": "code",
   "execution_count": 36,
   "metadata": {},
   "outputs": [
    {
     "data": {
      "application/vnd.jupyter.widget-view+json": {
       "model_id": "ec19838c6d7342148da9b502b76b8742",
       "version_major": 2,
       "version_minor": 0
      },
      "text/plain": [
       "VBox(children=(HBox(children=(IntProgress(value=0, description='0.00%', max=181), Label(value='0 / 181'))), HB…"
      ]
     },
     "metadata": {},
     "output_type": "display_data"
    }
   ],
   "source": [
    "valid['predictThree'] = valid.parallel_apply(\n",
    "    func, axis=1, dis=disThree, ind=indThree, UserItemMatrix=UserItemDF\n",
    ")"
   ]
  },
  {
   "cell_type": "code",
   "execution_count": 37,
   "metadata": {},
   "outputs": [
    {
     "name": "stdout",
     "output_type": "stream",
     "text": [
      "neighbor size - 30:  0.6348045163027772\n",
      "neighbor size - 20:  0.6812016986834581\n",
      "neighbor size - 10:  0.8210218624069362\n"
     ]
    }
   ],
   "source": [
    "print('neighbor size - 30: ', mean_squared_error(valid['rating'], valid['predictOne']))\n",
    "print('neighbor size - 20: ', mean_squared_error(valid['rating'], valid['predictTwo']))\n",
    "print('neighbor size - 10: ', mean_squared_error(valid['rating'], valid['predictThree']))"
   ]
  },
  {
   "cell_type": "markdown",
   "metadata": {},
   "source": [
    "##### according to the validation set RMSE result, we choose neighbor size = 30"
   ]
  },
  {
   "cell_type": "code",
   "execution_count": 38,
   "metadata": {},
   "outputs": [
    {
     "data": {
      "application/vnd.jupyter.widget-view+json": {
       "model_id": "b12f7e46b9d94ebb9f8b59a36b50de3a",
       "version_major": 2,
       "version_minor": 0
      },
      "text/plain": [
       "VBox(children=(HBox(children=(IntProgress(value=0, description='0.00%', max=902), Label(value='0 / 902'))), HB…"
      ]
     },
     "metadata": {},
     "output_type": "display_data"
    },
    {
     "name": "stdout",
     "output_type": "stream",
     "text": [
      "model performance on testing set:  0.6937660757298684\n"
     ]
    }
   ],
   "source": [
    "test['predict'] = test.parallel_apply(\n",
    "    func, axis=1, dis=disOne, ind=indOne, UserItemMatrix=UserItemDF\n",
    ")\n",
    "print('model performance on testing set: ', mean_squared_error(test['rating'], test['predict']))"
   ]
  },
  {
   "cell_type": "code",
   "execution_count": null,
   "metadata": {},
   "outputs": [],
   "source": []
  }
 ],
 "metadata": {
  "kernelspec": {
   "display_name": "Python 3",
   "language": "python",
   "name": "python3"
  },
  "language_info": {
   "codemirror_mode": {
    "name": "ipython",
    "version": 3
   },
   "file_extension": ".py",
   "mimetype": "text/x-python",
   "name": "python",
   "nbconvert_exporter": "python",
   "pygments_lexer": "ipython3",
   "version": "3.7.3"
  }
 },
 "nbformat": 4,
 "nbformat_minor": 2
}
