{
 "cells": [
  {
   "cell_type": "code",
   "execution_count": 1,
   "metadata": {},
   "outputs": [],
   "source": [
    "from sklearn.neighbors import NearestNeighbors\n",
    "from sklearn.model_selection import train_test_split\n",
    "from sklearn.metrics import mean_squared_error, mean_absolute_error\n",
    "\n",
    "import numpy as np\n",
    "import pandas as pd\n",
    "from scipy.sparse import csr_matrix\n",
    "import matplotlib.pyplot as plt\n",
    "import warnings \n",
    "\n",
    "%matplotlib inline\n",
    "warnings.filterwarnings('ignore')"
   ]
  },
  {
   "cell_type": "code",
   "execution_count": 2,
   "metadata": {},
   "outputs": [
    {
     "name": "stdout",
     "output_type": "stream",
     "text": [
      "New pandarallel memory created - Size: 2000 MB\n",
      "Pandarallel will run on 7 workers\n"
     ]
    }
   ],
   "source": [
    "from pandarallel import pandarallel\n",
    "pandarallel.initialize(nb_workers=7, progress_bar=False)\n",
    "# for parallel computing the lambda function"
   ]
  },
  {
   "cell_type": "code",
   "execution_count": null,
   "metadata": {},
   "outputs": [],
   "source": []
  },
  {
   "cell_type": "markdown",
   "metadata": {},
   "source": [
    "### Data Preprocessing"
   ]
  },
  {
   "cell_type": "code",
   "execution_count": 3,
   "metadata": {},
   "outputs": [],
   "source": [
    "data = pd.read_csv('ml-20m/ratings.csv')"
   ]
  },
  {
   "cell_type": "code",
   "execution_count": 4,
   "metadata": {},
   "outputs": [
    {
     "name": "stdout",
     "output_type": "stream",
     "text": [
      "NaNs cells:  0\n"
     ]
    },
    {
     "data": {
      "text/html": [
       "<div>\n",
       "<style scoped>\n",
       "    .dataframe tbody tr th:only-of-type {\n",
       "        vertical-align: middle;\n",
       "    }\n",
       "\n",
       "    .dataframe tbody tr th {\n",
       "        vertical-align: top;\n",
       "    }\n",
       "\n",
       "    .dataframe thead th {\n",
       "        text-align: right;\n",
       "    }\n",
       "</style>\n",
       "<table border=\"1\" class=\"dataframe\">\n",
       "  <thead>\n",
       "    <tr style=\"text-align: right;\">\n",
       "      <th></th>\n",
       "      <th>userId</th>\n",
       "      <th>movieId</th>\n",
       "      <th>rating</th>\n",
       "      <th>timestamp</th>\n",
       "    </tr>\n",
       "  </thead>\n",
       "  <tbody>\n",
       "    <tr>\n",
       "      <td>0</td>\n",
       "      <td>1</td>\n",
       "      <td>2</td>\n",
       "      <td>3.5</td>\n",
       "      <td>1112486027</td>\n",
       "    </tr>\n",
       "    <tr>\n",
       "      <td>1</td>\n",
       "      <td>1</td>\n",
       "      <td>29</td>\n",
       "      <td>3.5</td>\n",
       "      <td>1112484676</td>\n",
       "    </tr>\n",
       "    <tr>\n",
       "      <td>2</td>\n",
       "      <td>1</td>\n",
       "      <td>32</td>\n",
       "      <td>3.5</td>\n",
       "      <td>1112484819</td>\n",
       "    </tr>\n",
       "    <tr>\n",
       "      <td>3</td>\n",
       "      <td>1</td>\n",
       "      <td>47</td>\n",
       "      <td>3.5</td>\n",
       "      <td>1112484727</td>\n",
       "    </tr>\n",
       "    <tr>\n",
       "      <td>4</td>\n",
       "      <td>1</td>\n",
       "      <td>50</td>\n",
       "      <td>3.5</td>\n",
       "      <td>1112484580</td>\n",
       "    </tr>\n",
       "  </tbody>\n",
       "</table>\n",
       "</div>"
      ],
      "text/plain": [
       "   userId  movieId  rating   timestamp\n",
       "0       1        2     3.5  1112486027\n",
       "1       1       29     3.5  1112484676\n",
       "2       1       32     3.5  1112484819\n",
       "3       1       47     3.5  1112484727\n",
       "4       1       50     3.5  1112484580"
      ]
     },
     "execution_count": 4,
     "metadata": {},
     "output_type": "execute_result"
    }
   ],
   "source": [
    "print(\"NaNs cells: \", data.isnull().values.sum())\n",
    "data.head()"
   ]
  },
  {
   "cell_type": "code",
   "execution_count": 5,
   "metadata": {},
   "outputs": [],
   "source": [
    "data.drop(\"timestamp\", inplace=True, axis=1)"
   ]
  },
  {
   "cell_type": "code",
   "execution_count": 6,
   "metadata": {},
   "outputs": [
    {
     "name": "stdout",
     "output_type": "stream",
     "text": [
      "the number of popular movies:  252\n",
      "the number of active users:  56\n"
     ]
    }
   ],
   "source": [
    "popularMovie = data[['rating', 'movieId']].groupby(\"movieId\").count()\n",
    "popularMovie = popularMovie.loc[popularMovie['rating'] > 15000].index\n",
    "\n",
    "popularUser = data[['rating', 'userId']].groupby(\"userId\").count()\n",
    "popularUser = popularUser.loc[popularUser['rating'] > 3000].index\n",
    "\n",
    "print(\"the number of popular movies: \", len(popularMovie))\n",
    "print(\"the number of active users: \", len(popularUser))"
   ]
  },
  {
   "cell_type": "code",
   "execution_count": 7,
   "metadata": {},
   "outputs": [],
   "source": [
    "data = data.loc[ \n",
    "    (data['movieId'].isin(popularMovie)) & (data['userId'].isin(popularUser)) \n",
    "]"
   ]
  },
  {
   "cell_type": "code",
   "execution_count": 8,
   "metadata": {},
   "outputs": [],
   "source": [
    "train, test = train_test_split(data, test_size=0.50)\n",
    "train, valid = train_test_split(train, test_size=0.2)"
   ]
  },
  {
   "cell_type": "code",
   "execution_count": 9,
   "metadata": {},
   "outputs": [
    {
     "name": "stdout",
     "output_type": "stream",
     "text": [
      "(5050, 3)\n",
      "(1263, 3)\n",
      "(6313, 3)\n"
     ]
    },
    {
     "data": {
      "text/html": [
       "<div>\n",
       "<style scoped>\n",
       "    .dataframe tbody tr th:only-of-type {\n",
       "        vertical-align: middle;\n",
       "    }\n",
       "\n",
       "    .dataframe tbody tr th {\n",
       "        vertical-align: top;\n",
       "    }\n",
       "\n",
       "    .dataframe thead th {\n",
       "        text-align: right;\n",
       "    }\n",
       "</style>\n",
       "<table border=\"1\" class=\"dataframe\">\n",
       "  <thead>\n",
       "    <tr style=\"text-align: right;\">\n",
       "      <th></th>\n",
       "      <th>userId</th>\n",
       "      <th>movieId</th>\n",
       "      <th>rating</th>\n",
       "    </tr>\n",
       "  </thead>\n",
       "  <tbody>\n",
       "    <tr>\n",
       "      <td>11458682</td>\n",
       "      <td>79159</td>\n",
       "      <td>597</td>\n",
       "      <td>2.5</td>\n",
       "    </tr>\n",
       "    <tr>\n",
       "      <td>17431786</td>\n",
       "      <td>120575</td>\n",
       "      <td>454</td>\n",
       "      <td>5.0</td>\n",
       "    </tr>\n",
       "    <tr>\n",
       "      <td>1794118</td>\n",
       "      <td>12131</td>\n",
       "      <td>2174</td>\n",
       "      <td>3.0</td>\n",
       "    </tr>\n",
       "    <tr>\n",
       "      <td>8612869</td>\n",
       "      <td>59477</td>\n",
       "      <td>1485</td>\n",
       "      <td>2.5</td>\n",
       "    </tr>\n",
       "    <tr>\n",
       "      <td>12034702</td>\n",
       "      <td>83090</td>\n",
       "      <td>3052</td>\n",
       "      <td>3.0</td>\n",
       "    </tr>\n",
       "  </tbody>\n",
       "</table>\n",
       "</div>"
      ],
      "text/plain": [
       "          userId  movieId  rating\n",
       "11458682   79159      597     2.5\n",
       "17431786  120575      454     5.0\n",
       "1794118    12131     2174     3.0\n",
       "8612869    59477     1485     2.5\n",
       "12034702   83090     3052     3.0"
      ]
     },
     "execution_count": 9,
     "metadata": {},
     "output_type": "execute_result"
    }
   ],
   "source": [
    "print(train.shape)\n",
    "print(valid.shape)\n",
    "print(test.shape)\n",
    "train.head(5)"
   ]
  },
  {
   "cell_type": "code",
   "execution_count": 10,
   "metadata": {},
   "outputs": [],
   "source": [
    "'''\n",
    "this is the same as \n",
    "train.pivot(\n",
    "    index=\"movieId\", \n",
    "    columns=\"userId\",\n",
    "    values=\"rating\"\n",
    ")\n",
    "'''\n",
    "movieCat = pd.api.types.CategoricalDtype(categories=sorted(train['movieId'].unique()))\n",
    "userCat = pd.api.types.CategoricalDtype(categories=sorted(train['userId'].unique()))\n",
    "\n",
    "rowIndex = train['movieId'].astype(movieCat).cat.codes\n",
    "colIndex = train['userId'].astype(userCat).cat.codes\n",
    "sparse_matrix = csr_matrix(\n",
    "    (train[\"rating\"], (rowIndex, colIndex)), \n",
    "    shape=(movieCat.categories.size, userCat.categories.size)\n",
    ")\n",
    "\n",
    "UserItemDF = pd.SparseDataFrame(\n",
    "    sparse_matrix,\n",
    "    index=movieCat.categories,\n",
    "    columns=userCat.categories,\n",
    "    default_fill_value=0\n",
    ")"
   ]
  },
  {
   "cell_type": "code",
   "execution_count": 11,
   "metadata": {},
   "outputs": [
    {
     "data": {
      "text/html": [
       "<div>\n",
       "<style scoped>\n",
       "    .dataframe tbody tr th:only-of-type {\n",
       "        vertical-align: middle;\n",
       "    }\n",
       "\n",
       "    .dataframe tbody tr th {\n",
       "        vertical-align: top;\n",
       "    }\n",
       "\n",
       "    .dataframe thead th {\n",
       "        text-align: right;\n",
       "    }\n",
       "</style>\n",
       "<table border=\"1\" class=\"dataframe\">\n",
       "  <thead>\n",
       "    <tr style=\"text-align: right;\">\n",
       "      <th></th>\n",
       "      <th>7201</th>\n",
       "      <th>8405</th>\n",
       "      <th>8963</th>\n",
       "      <th>9544</th>\n",
       "      <th>12131</th>\n",
       "      <th>14705</th>\n",
       "      <th>15617</th>\n",
       "      <th>18138</th>\n",
       "      <th>18611</th>\n",
       "      <th>20132</th>\n",
       "      <th>...</th>\n",
       "      <th>123606</th>\n",
       "      <th>125794</th>\n",
       "      <th>125978</th>\n",
       "      <th>129583</th>\n",
       "      <th>130459</th>\n",
       "      <th>130767</th>\n",
       "      <th>131347</th>\n",
       "      <th>131894</th>\n",
       "      <th>131904</th>\n",
       "      <th>136268</th>\n",
       "    </tr>\n",
       "  </thead>\n",
       "  <tbody>\n",
       "    <tr>\n",
       "      <td>1</td>\n",
       "      <td>0.0</td>\n",
       "      <td>5.0</td>\n",
       "      <td>0.0</td>\n",
       "      <td>0.0</td>\n",
       "      <td>0.0</td>\n",
       "      <td>3.5</td>\n",
       "      <td>0.0</td>\n",
       "      <td>4.0</td>\n",
       "      <td>4.0</td>\n",
       "      <td>0.0</td>\n",
       "      <td>...</td>\n",
       "      <td>0.0</td>\n",
       "      <td>0.0</td>\n",
       "      <td>0.0</td>\n",
       "      <td>0.0</td>\n",
       "      <td>0.0</td>\n",
       "      <td>0.0</td>\n",
       "      <td>0.0</td>\n",
       "      <td>5.0</td>\n",
       "      <td>0.0</td>\n",
       "      <td>4.0</td>\n",
       "    </tr>\n",
       "    <tr>\n",
       "      <td>2</td>\n",
       "      <td>1.0</td>\n",
       "      <td>0.0</td>\n",
       "      <td>0.0</td>\n",
       "      <td>0.0</td>\n",
       "      <td>3.0</td>\n",
       "      <td>2.0</td>\n",
       "      <td>0.0</td>\n",
       "      <td>1.5</td>\n",
       "      <td>3.0</td>\n",
       "      <td>3.0</td>\n",
       "      <td>...</td>\n",
       "      <td>4.0</td>\n",
       "      <td>0.0</td>\n",
       "      <td>0.0</td>\n",
       "      <td>0.0</td>\n",
       "      <td>0.0</td>\n",
       "      <td>0.0</td>\n",
       "      <td>2.5</td>\n",
       "      <td>0.0</td>\n",
       "      <td>0.0</td>\n",
       "      <td>0.0</td>\n",
       "    </tr>\n",
       "    <tr>\n",
       "      <td>6</td>\n",
       "      <td>0.0</td>\n",
       "      <td>0.0</td>\n",
       "      <td>0.0</td>\n",
       "      <td>4.0</td>\n",
       "      <td>0.0</td>\n",
       "      <td>0.0</td>\n",
       "      <td>3.5</td>\n",
       "      <td>0.0</td>\n",
       "      <td>0.0</td>\n",
       "      <td>4.0</td>\n",
       "      <td>...</td>\n",
       "      <td>3.5</td>\n",
       "      <td>5.0</td>\n",
       "      <td>2.0</td>\n",
       "      <td>0.0</td>\n",
       "      <td>0.0</td>\n",
       "      <td>4.0</td>\n",
       "      <td>0.0</td>\n",
       "      <td>0.0</td>\n",
       "      <td>3.5</td>\n",
       "      <td>5.0</td>\n",
       "    </tr>\n",
       "    <tr>\n",
       "      <td>10</td>\n",
       "      <td>3.0</td>\n",
       "      <td>0.0</td>\n",
       "      <td>0.0</td>\n",
       "      <td>2.0</td>\n",
       "      <td>2.5</td>\n",
       "      <td>0.0</td>\n",
       "      <td>0.0</td>\n",
       "      <td>0.0</td>\n",
       "      <td>0.0</td>\n",
       "      <td>0.0</td>\n",
       "      <td>...</td>\n",
       "      <td>0.0</td>\n",
       "      <td>0.0</td>\n",
       "      <td>0.0</td>\n",
       "      <td>0.0</td>\n",
       "      <td>3.0</td>\n",
       "      <td>0.0</td>\n",
       "      <td>4.0</td>\n",
       "      <td>0.0</td>\n",
       "      <td>0.0</td>\n",
       "      <td>0.0</td>\n",
       "    </tr>\n",
       "    <tr>\n",
       "      <td>11</td>\n",
       "      <td>0.0</td>\n",
       "      <td>0.0</td>\n",
       "      <td>0.0</td>\n",
       "      <td>3.0</td>\n",
       "      <td>0.0</td>\n",
       "      <td>2.5</td>\n",
       "      <td>3.5</td>\n",
       "      <td>0.0</td>\n",
       "      <td>0.0</td>\n",
       "      <td>0.0</td>\n",
       "      <td>...</td>\n",
       "      <td>0.0</td>\n",
       "      <td>5.0</td>\n",
       "      <td>4.0</td>\n",
       "      <td>4.5</td>\n",
       "      <td>0.0</td>\n",
       "      <td>0.0</td>\n",
       "      <td>0.0</td>\n",
       "      <td>0.0</td>\n",
       "      <td>0.0</td>\n",
       "      <td>4.0</td>\n",
       "    </tr>\n",
       "    <tr>\n",
       "      <td>...</td>\n",
       "      <td>...</td>\n",
       "      <td>...</td>\n",
       "      <td>...</td>\n",
       "      <td>...</td>\n",
       "      <td>...</td>\n",
       "      <td>...</td>\n",
       "      <td>...</td>\n",
       "      <td>...</td>\n",
       "      <td>...</td>\n",
       "      <td>...</td>\n",
       "      <td>...</td>\n",
       "      <td>...</td>\n",
       "      <td>...</td>\n",
       "      <td>...</td>\n",
       "      <td>...</td>\n",
       "      <td>...</td>\n",
       "      <td>...</td>\n",
       "      <td>...</td>\n",
       "      <td>...</td>\n",
       "      <td>...</td>\n",
       "      <td>...</td>\n",
       "    </tr>\n",
       "    <tr>\n",
       "      <td>8636</td>\n",
       "      <td>0.0</td>\n",
       "      <td>0.0</td>\n",
       "      <td>2.5</td>\n",
       "      <td>3.5</td>\n",
       "      <td>0.0</td>\n",
       "      <td>0.0</td>\n",
       "      <td>0.0</td>\n",
       "      <td>4.0</td>\n",
       "      <td>0.0</td>\n",
       "      <td>0.0</td>\n",
       "      <td>...</td>\n",
       "      <td>0.0</td>\n",
       "      <td>0.0</td>\n",
       "      <td>0.0</td>\n",
       "      <td>0.0</td>\n",
       "      <td>2.5</td>\n",
       "      <td>0.0</td>\n",
       "      <td>0.0</td>\n",
       "      <td>5.0</td>\n",
       "      <td>3.0</td>\n",
       "      <td>0.0</td>\n",
       "    </tr>\n",
       "    <tr>\n",
       "      <td>8961</td>\n",
       "      <td>3.0</td>\n",
       "      <td>4.0</td>\n",
       "      <td>0.0</td>\n",
       "      <td>3.0</td>\n",
       "      <td>0.0</td>\n",
       "      <td>0.0</td>\n",
       "      <td>3.0</td>\n",
       "      <td>0.0</td>\n",
       "      <td>0.0</td>\n",
       "      <td>4.0</td>\n",
       "      <td>...</td>\n",
       "      <td>3.5</td>\n",
       "      <td>5.0</td>\n",
       "      <td>0.0</td>\n",
       "      <td>0.0</td>\n",
       "      <td>3.5</td>\n",
       "      <td>0.0</td>\n",
       "      <td>0.0</td>\n",
       "      <td>0.0</td>\n",
       "      <td>0.0</td>\n",
       "      <td>4.5</td>\n",
       "    </tr>\n",
       "    <tr>\n",
       "      <td>32587</td>\n",
       "      <td>0.0</td>\n",
       "      <td>0.0</td>\n",
       "      <td>0.0</td>\n",
       "      <td>0.0</td>\n",
       "      <td>4.0</td>\n",
       "      <td>0.0</td>\n",
       "      <td>3.5</td>\n",
       "      <td>0.0</td>\n",
       "      <td>0.0</td>\n",
       "      <td>1.0</td>\n",
       "      <td>...</td>\n",
       "      <td>0.0</td>\n",
       "      <td>4.5</td>\n",
       "      <td>0.0</td>\n",
       "      <td>4.0</td>\n",
       "      <td>3.0</td>\n",
       "      <td>0.0</td>\n",
       "      <td>4.5</td>\n",
       "      <td>0.0</td>\n",
       "      <td>4.0</td>\n",
       "      <td>0.0</td>\n",
       "    </tr>\n",
       "    <tr>\n",
       "      <td>33794</td>\n",
       "      <td>3.5</td>\n",
       "      <td>0.0</td>\n",
       "      <td>0.0</td>\n",
       "      <td>0.0</td>\n",
       "      <td>0.0</td>\n",
       "      <td>0.0</td>\n",
       "      <td>0.0</td>\n",
       "      <td>3.5</td>\n",
       "      <td>0.0</td>\n",
       "      <td>0.0</td>\n",
       "      <td>...</td>\n",
       "      <td>0.0</td>\n",
       "      <td>0.0</td>\n",
       "      <td>0.0</td>\n",
       "      <td>4.0</td>\n",
       "      <td>0.0</td>\n",
       "      <td>3.5</td>\n",
       "      <td>0.0</td>\n",
       "      <td>0.0</td>\n",
       "      <td>0.0</td>\n",
       "      <td>0.0</td>\n",
       "    </tr>\n",
       "    <tr>\n",
       "      <td>58559</td>\n",
       "      <td>0.0</td>\n",
       "      <td>0.0</td>\n",
       "      <td>0.0</td>\n",
       "      <td>0.0</td>\n",
       "      <td>3.5</td>\n",
       "      <td>0.0</td>\n",
       "      <td>0.0</td>\n",
       "      <td>4.0</td>\n",
       "      <td>4.5</td>\n",
       "      <td>0.0</td>\n",
       "      <td>...</td>\n",
       "      <td>0.0</td>\n",
       "      <td>0.0</td>\n",
       "      <td>0.0</td>\n",
       "      <td>0.0</td>\n",
       "      <td>2.0</td>\n",
       "      <td>3.0</td>\n",
       "      <td>0.0</td>\n",
       "      <td>5.0</td>\n",
       "      <td>0.0</td>\n",
       "      <td>0.0</td>\n",
       "    </tr>\n",
       "  </tbody>\n",
       "</table>\n",
       "<p>252 rows × 56 columns</p>\n",
       "</div>"
      ],
      "text/plain": [
       "       7201    8405    8963    9544    12131   14705   15617   18138   18611   \\\n",
       "1         0.0     5.0     0.0     0.0     0.0     3.5     0.0     4.0     4.0   \n",
       "2         1.0     0.0     0.0     0.0     3.0     2.0     0.0     1.5     3.0   \n",
       "6         0.0     0.0     0.0     4.0     0.0     0.0     3.5     0.0     0.0   \n",
       "10        3.0     0.0     0.0     2.0     2.5     0.0     0.0     0.0     0.0   \n",
       "11        0.0     0.0     0.0     3.0     0.0     2.5     3.5     0.0     0.0   \n",
       "...       ...     ...     ...     ...     ...     ...     ...     ...     ...   \n",
       "8636      0.0     0.0     2.5     3.5     0.0     0.0     0.0     4.0     0.0   \n",
       "8961      3.0     4.0     0.0     3.0     0.0     0.0     3.0     0.0     0.0   \n",
       "32587     0.0     0.0     0.0     0.0     4.0     0.0     3.5     0.0     0.0   \n",
       "33794     3.5     0.0     0.0     0.0     0.0     0.0     0.0     3.5     0.0   \n",
       "58559     0.0     0.0     0.0     0.0     3.5     0.0     0.0     4.0     4.5   \n",
       "\n",
       "       20132   ...  123606  125794  125978  129583  130459  130767  131347  \\\n",
       "1         0.0  ...     0.0     0.0     0.0     0.0     0.0     0.0     0.0   \n",
       "2         3.0  ...     4.0     0.0     0.0     0.0     0.0     0.0     2.5   \n",
       "6         4.0  ...     3.5     5.0     2.0     0.0     0.0     4.0     0.0   \n",
       "10        0.0  ...     0.0     0.0     0.0     0.0     3.0     0.0     4.0   \n",
       "11        0.0  ...     0.0     5.0     4.0     4.5     0.0     0.0     0.0   \n",
       "...       ...  ...     ...     ...     ...     ...     ...     ...     ...   \n",
       "8636      0.0  ...     0.0     0.0     0.0     0.0     2.5     0.0     0.0   \n",
       "8961      4.0  ...     3.5     5.0     0.0     0.0     3.5     0.0     0.0   \n",
       "32587     1.0  ...     0.0     4.5     0.0     4.0     3.0     0.0     4.5   \n",
       "33794     0.0  ...     0.0     0.0     0.0     4.0     0.0     3.5     0.0   \n",
       "58559     0.0  ...     0.0     0.0     0.0     0.0     2.0     3.0     0.0   \n",
       "\n",
       "       131894  131904  136268  \n",
       "1         5.0     0.0     4.0  \n",
       "2         0.0     0.0     0.0  \n",
       "6         0.0     3.5     5.0  \n",
       "10        0.0     0.0     0.0  \n",
       "11        0.0     0.0     4.0  \n",
       "...       ...     ...     ...  \n",
       "8636      5.0     3.0     0.0  \n",
       "8961      0.0     0.0     4.5  \n",
       "32587     0.0     4.0     0.0  \n",
       "33794     0.0     0.0     0.0  \n",
       "58559     5.0     0.0     0.0  \n",
       "\n",
       "[252 rows x 56 columns]"
      ]
     },
     "execution_count": 11,
     "metadata": {},
     "output_type": "execute_result"
    }
   ],
   "source": [
    "UserItemDF"
   ]
  },
  {
   "cell_type": "code",
   "execution_count": null,
   "metadata": {},
   "outputs": [],
   "source": []
  },
  {
   "cell_type": "code",
   "execution_count": null,
   "metadata": {},
   "outputs": [],
   "source": []
  },
  {
   "cell_type": "markdown",
   "metadata": {},
   "source": [
    "### Model"
   ]
  },
  {
   "cell_type": "code",
   "execution_count": 12,
   "metadata": {},
   "outputs": [],
   "source": [
    "model = NearestNeighbors(\n",
    "    metric='cosine', \n",
    "    n_neighbors=20, \n",
    "    n_jobs=-1,\n",
    "    algorithm='brute'\n",
    ")"
   ]
  },
  {
   "cell_type": "code",
   "execution_count": 13,
   "metadata": {},
   "outputs": [
    {
     "data": {
      "text/plain": [
       "NearestNeighbors(algorithm='brute', leaf_size=30, metric='cosine',\n",
       "                 metric_params=None, n_jobs=-1, n_neighbors=20, p=2,\n",
       "                 radius=1.0)"
      ]
     },
     "execution_count": 13,
     "metadata": {},
     "output_type": "execute_result"
    }
   ],
   "source": [
    "model.fit(UserItemDF)"
   ]
  },
  {
   "cell_type": "code",
   "execution_count": 14,
   "metadata": {},
   "outputs": [],
   "source": [
    "dis, ind = model.kneighbors(return_distance=True)"
   ]
  },
  {
   "cell_type": "code",
   "execution_count": 15,
   "metadata": {},
   "outputs": [
    {
     "data": {
      "text/plain": [
       "(array([0.41519498, 0.41732863, 0.41859179, 0.45610124, 0.47907518,\n",
       "        0.48969818, 0.50084061, 0.50203181, 0.50723271, 0.51626716,\n",
       "        0.51813736, 0.51894242, 0.51971437, 0.52779543, 0.53093111,\n",
       "        0.53618445, 0.5379981 , 0.54276258, 0.54806482, 0.5491947 ]),\n",
       " array([108, 106, 247,  14, 176,  40, 243, 192,   2, 222,  42,   8, 122,\n",
       "        155, 183,  26, 115, 118, 202, 145]))"
      ]
     },
     "execution_count": 15,
     "metadata": {},
     "output_type": "execute_result"
    }
   ],
   "source": [
    "'''\n",
    "dis: distance in high dimension, smaller distance means high similarity\n",
    "ind: Indices of the nearest points in the population matrix.\n",
    "'''\n",
    "# movieId = 1\n",
    "dis[0], ind[0]"
   ]
  },
  {
   "cell_type": "code",
   "execution_count": 16,
   "metadata": {},
   "outputs": [
    {
     "data": {
      "text/plain": [
       "[(1, 0),\n",
       " (2, 1),\n",
       " (6, 2),\n",
       " (10, 3),\n",
       " (11, 4),\n",
       " (8636, 247),\n",
       " (8961, 248),\n",
       " (32587, 249),\n",
       " (33794, 250),\n",
       " (58559, 251)]"
      ]
     },
     "execution_count": 16,
     "metadata": {},
     "output_type": "execute_result"
    }
   ],
   "source": [
    "# key: movieId\n",
    "# value: the row index in User-Item matrix\n",
    "movieIdIndexMap = {movId: idx for idx, movId in enumerate(UserItemDF.index)}\n",
    "showMovieIdIndexMap = list(movieIdIndexMap.items())\n",
    "showMovieIdIndexMap[:5] + showMovieIdIndexMap[-5:]"
   ]
  },
  {
   "cell_type": "code",
   "execution_count": null,
   "metadata": {},
   "outputs": [],
   "source": []
  },
  {
   "cell_type": "code",
   "execution_count": null,
   "metadata": {},
   "outputs": [],
   "source": []
  },
  {
   "cell_type": "code",
   "execution_count": 17,
   "metadata": {},
   "outputs": [],
   "source": [
    "def predict(movieId, userId, dis, ind, UserItemMatrix, returnAvg=False):\n",
    "    movieIdIndexMap = {movId: idx for idx, movId in enumerate(UserItemMatrix.index)}\n",
    "    movieIdIndexMapReversed = {idx: movId for idx, movId in enumerate(UserItemMatrix.index)}\n",
    "    \n",
    "    # since we used cosine similarity so the closest neighbor distance should be 1\n",
    "    nonZeroUserIndex = np.nonzero(UserItemMatrix.loc[movieId])[0]\n",
    "    sim = dis[ movieIdIndexMap[movieId] ]\n",
    "    mu_movie = UserItemMatrix.loc[movieId]\\\n",
    "                             .iloc[nonZeroUserIndex]\\\n",
    "                             .mean()\n",
    "    \n",
    "    nonZeroMovieIndex = np.nonzero(UserItemMatrix.iloc[ind[ movieIdIndexMap[movieId] ]].loc[:, userId])[0]\n",
    "    denom = np.sum( abs(sim[nonZeroMovieIndex]) )\n",
    "    nom = (UserItemMatrix.iloc[ind[ movieIdIndexMap[movieId] ]]\n",
    "                     .loc[:, userId]\\\n",
    "                     .iloc[nonZeroMovieIndex]\n",
    "           - UserItemMatrix.iloc[ind[ movieIdIndexMap[movieId] ]]\\\n",
    "                           .iloc[nonZeroMovieIndex]\n",
    "                           .to_dense()\\\n",
    "                           .replace({0: np.nan})\\\n",
    "                           .mean(axis=1, skipna=True)\n",
    "    ).values\n",
    "\n",
    "    if len(nonZeroMovieIndex) == 0:\n",
    "        prediction = mu_movie\n",
    "    else:\n",
    "        prediction = mu_movie + np.sum(nom * sim[nonZeroMovieIndex]) / denom\n",
    "\n",
    "    if returnAvg:\n",
    "        return prediction, mu_movie\n",
    "    else:\n",
    "        return prediction"
   ]
  },
  {
   "cell_type": "code",
   "execution_count": 18,
   "metadata": {},
   "outputs": [],
   "source": [
    "def func(s):\n",
    "    return predict(\n",
    "        movieId=s['movieId'],\n",
    "        userId=s['userId'], \n",
    "        dis=dis, ind=ind, \n",
    "        UserItemMatrix=UserItemDF\n",
    "    )"
   ]
  },
  {
   "cell_type": "code",
   "execution_count": 19,
   "metadata": {
    "scrolled": true
   },
   "outputs": [
    {
     "name": "stdout",
     "output_type": "stream",
     "text": [
      "CPU times: user 150 ms, sys: 170 ms, total: 320 ms\n",
      "Wall time: 1min 8s\n"
     ]
    }
   ],
   "source": [
    "%%time\n",
    "train['predict'] = train.parallel_apply(func, axis=1)"
   ]
  },
  {
   "cell_type": "code",
   "execution_count": 20,
   "metadata": {},
   "outputs": [
    {
     "name": "stdout",
     "output_type": "stream",
     "text": [
      "CPU times: user 120 ms, sys: 70 ms, total: 190 ms\n",
      "Wall time: 1min 23s\n"
     ]
    }
   ],
   "source": [
    "%%time\n",
    "test['predict'] = test.parallel_apply(func, axis=1)"
   ]
  },
  {
   "cell_type": "code",
   "execution_count": 21,
   "metadata": {},
   "outputs": [
    {
     "data": {
      "text/html": [
       "<div>\n",
       "<style scoped>\n",
       "    .dataframe tbody tr th:only-of-type {\n",
       "        vertical-align: middle;\n",
       "    }\n",
       "\n",
       "    .dataframe tbody tr th {\n",
       "        vertical-align: top;\n",
       "    }\n",
       "\n",
       "    .dataframe thead th {\n",
       "        text-align: right;\n",
       "    }\n",
       "</style>\n",
       "<table border=\"1\" class=\"dataframe\">\n",
       "  <thead>\n",
       "    <tr style=\"text-align: right;\">\n",
       "      <th></th>\n",
       "      <th>userId</th>\n",
       "      <th>movieId</th>\n",
       "      <th>rating</th>\n",
       "      <th>predict</th>\n",
       "    </tr>\n",
       "  </thead>\n",
       "  <tbody>\n",
       "    <tr>\n",
       "      <td>11458682</td>\n",
       "      <td>79159</td>\n",
       "      <td>597</td>\n",
       "      <td>2.5</td>\n",
       "      <td>3.529813</td>\n",
       "    </tr>\n",
       "    <tr>\n",
       "      <td>17431786</td>\n",
       "      <td>120575</td>\n",
       "      <td>454</td>\n",
       "      <td>5.0</td>\n",
       "      <td>4.186809</td>\n",
       "    </tr>\n",
       "    <tr>\n",
       "      <td>1794118</td>\n",
       "      <td>12131</td>\n",
       "      <td>2174</td>\n",
       "      <td>3.0</td>\n",
       "      <td>2.997558</td>\n",
       "    </tr>\n",
       "    <tr>\n",
       "      <td>8612869</td>\n",
       "      <td>59477</td>\n",
       "      <td>1485</td>\n",
       "      <td>2.5</td>\n",
       "      <td>2.513548</td>\n",
       "    </tr>\n",
       "    <tr>\n",
       "      <td>12034702</td>\n",
       "      <td>83090</td>\n",
       "      <td>3052</td>\n",
       "      <td>3.0</td>\n",
       "      <td>2.564876</td>\n",
       "    </tr>\n",
       "  </tbody>\n",
       "</table>\n",
       "</div>"
      ],
      "text/plain": [
       "          userId  movieId  rating   predict\n",
       "11458682   79159      597     2.5  3.529813\n",
       "17431786  120575      454     5.0  4.186809\n",
       "1794118    12131     2174     3.0  2.997558\n",
       "8612869    59477     1485     2.5  2.513548\n",
       "12034702   83090     3052     3.0  2.564876"
      ]
     },
     "execution_count": 21,
     "metadata": {},
     "output_type": "execute_result"
    }
   ],
   "source": [
    "train.head()"
   ]
  },
  {
   "cell_type": "code",
   "execution_count": 22,
   "metadata": {},
   "outputs": [
    {
     "data": {
      "text/html": [
       "<div>\n",
       "<style scoped>\n",
       "    .dataframe tbody tr th:only-of-type {\n",
       "        vertical-align: middle;\n",
       "    }\n",
       "\n",
       "    .dataframe tbody tr th {\n",
       "        vertical-align: top;\n",
       "    }\n",
       "\n",
       "    .dataframe thead th {\n",
       "        text-align: right;\n",
       "    }\n",
       "</style>\n",
       "<table border=\"1\" class=\"dataframe\">\n",
       "  <thead>\n",
       "    <tr style=\"text-align: right;\">\n",
       "      <th></th>\n",
       "      <th>userId</th>\n",
       "      <th>movieId</th>\n",
       "      <th>rating</th>\n",
       "      <th>predict</th>\n",
       "    </tr>\n",
       "  </thead>\n",
       "  <tbody>\n",
       "    <tr>\n",
       "      <td>18183492</td>\n",
       "      <td>125794</td>\n",
       "      <td>1923</td>\n",
       "      <td>5.0</td>\n",
       "      <td>3.636463</td>\n",
       "    </tr>\n",
       "    <tr>\n",
       "      <td>12857684</td>\n",
       "      <td>88820</td>\n",
       "      <td>2916</td>\n",
       "      <td>4.0</td>\n",
       "      <td>4.140721</td>\n",
       "    </tr>\n",
       "    <tr>\n",
       "      <td>17563725</td>\n",
       "      <td>121535</td>\n",
       "      <td>380</td>\n",
       "      <td>3.0</td>\n",
       "      <td>3.225516</td>\n",
       "    </tr>\n",
       "    <tr>\n",
       "      <td>4034796</td>\n",
       "      <td>27469</td>\n",
       "      <td>380</td>\n",
       "      <td>3.0</td>\n",
       "      <td>2.882124</td>\n",
       "    </tr>\n",
       "    <tr>\n",
       "      <td>2745573</td>\n",
       "      <td>18611</td>\n",
       "      <td>1136</td>\n",
       "      <td>4.0</td>\n",
       "      <td>4.009326</td>\n",
       "    </tr>\n",
       "  </tbody>\n",
       "</table>\n",
       "</div>"
      ],
      "text/plain": [
       "          userId  movieId  rating   predict\n",
       "18183492  125794     1923     5.0  3.636463\n",
       "12857684   88820     2916     4.0  4.140721\n",
       "17563725  121535      380     3.0  3.225516\n",
       "4034796    27469      380     3.0  2.882124\n",
       "2745573    18611     1136     4.0  4.009326"
      ]
     },
     "execution_count": 22,
     "metadata": {},
     "output_type": "execute_result"
    }
   ],
   "source": [
    "test.head()"
   ]
  },
  {
   "cell_type": "code",
   "execution_count": 24,
   "metadata": {},
   "outputs": [
    {
     "name": "stdout",
     "output_type": "stream",
     "text": [
      "----------model performance----------\n",
      "RMSE\n",
      "on training set:  0.5821331574117482\n",
      "on testing set:  0.7449335350726669\n",
      "\n",
      "\n",
      "MAE\n",
      "on training set:  0.5852889199166886\n",
      "on testing set:  0.6631091793797023\n"
     ]
    }
   ],
   "source": [
    "print(\"-\"*10 + \"model performance\" + \"-\"*10)\n",
    "print(\"RMSE\")\n",
    "print(\"on training set: \", mean_squared_error(train['rating'], train['predict']))\n",
    "print(\"on testing set: \", mean_squared_error(test['rating'], test['predict']))\n",
    "print(\"\\n\\nMAE\")\n",
    "print(\"on training set: \", mean_absolute_error(train['rating'], train['predict']))\n",
    "print(\"on testing set: \", mean_absolute_error(test['rating'], test['predict']))"
   ]
  },
  {
   "cell_type": "code",
   "execution_count": null,
   "metadata": {},
   "outputs": [],
   "source": []
  },
  {
   "cell_type": "code",
   "execution_count": null,
   "metadata": {},
   "outputs": [],
   "source": []
  },
  {
   "cell_type": "code",
   "execution_count": null,
   "metadata": {},
   "outputs": [],
   "source": []
  },
  {
   "cell_type": "markdown",
   "metadata": {},
   "source": [
    "### Choosing Hyperparameter"
   ]
  },
  {
   "cell_type": "code",
   "execution_count": 25,
   "metadata": {},
   "outputs": [],
   "source": [
    "modelOne = NearestNeighbors(\n",
    "    metric='cosine', \n",
    "    n_neighbors=30, \n",
    "    n_jobs=-1,\n",
    "    algorithm='brute'\n",
    ")\n",
    "modelOne.fit(UserItemDF)\n",
    "disOne, indOne = modelOne.kneighbors(return_distance=True)\n",
    "\n",
    "\n",
    "modelTwo = NearestNeighbors(\n",
    "    metric='cosine', \n",
    "    n_neighbors=20, \n",
    "    n_jobs=-1,\n",
    "    algorithm='brute'\n",
    ")\n",
    "modelTwo.fit(UserItemDF)\n",
    "disTwo, indTwo = modelTwo.kneighbors(return_distance=True)\n",
    "\n",
    "\n",
    "modelThree = NearestNeighbors(\n",
    "    metric='cosine', \n",
    "    n_neighbors=10, \n",
    "    n_jobs=-1,\n",
    "    algorithm='brute'\n",
    ")\n",
    "modelThree.fit(UserItemDF)\n",
    "disThree, indThree = modelThree.kneighbors(return_distance=True)"
   ]
  },
  {
   "cell_type": "code",
   "execution_count": 26,
   "metadata": {},
   "outputs": [],
   "source": [
    "def func(s, dis, ind, UserItemMatrix):\n",
    "    return predict(\n",
    "        movieId=s['movieId'],\n",
    "        userId=s['userId'], \n",
    "        dis=dis, ind=ind, \n",
    "        UserItemMatrix=UserItemMatrix\n",
    "    )"
   ]
  },
  {
   "cell_type": "code",
   "execution_count": 27,
   "metadata": {},
   "outputs": [],
   "source": [
    "train['predictOne'] = train.parallel_apply(\n",
    "    func, axis=1, dis=disOne, ind=indOne, UserItemMatrix=UserItemDF\n",
    ")\n",
    "train['predictTwo'] = train.parallel_apply(\n",
    "    func, axis=1, dis=disTwo, ind=indTwo, UserItemMatrix=UserItemDF\n",
    ")\n",
    "train['predictThree'] = train.parallel_apply(\n",
    "    func, axis=1, dis=disThree, ind=indThree, UserItemMatrix=UserItemDF\n",
    ")"
   ]
  },
  {
   "cell_type": "code",
   "execution_count": 28,
   "metadata": {},
   "outputs": [],
   "source": [
    "valid['predictOne'] = valid.parallel_apply(\n",
    "    func, axis=1, dis=disOne, ind=indOne, UserItemMatrix=UserItemDF\n",
    ")"
   ]
  },
  {
   "cell_type": "code",
   "execution_count": 29,
   "metadata": {},
   "outputs": [],
   "source": [
    "valid['predictTwo'] = valid.parallel_apply(\n",
    "    func, axis=1, dis=disTwo, ind=indTwo, UserItemMatrix=UserItemDF\n",
    ")"
   ]
  },
  {
   "cell_type": "code",
   "execution_count": 30,
   "metadata": {},
   "outputs": [],
   "source": [
    "valid['predictThree'] = valid.parallel_apply(\n",
    "    func, axis=1, dis=disThree, ind=indThree, UserItemMatrix=UserItemDF\n",
    ")"
   ]
  },
  {
   "cell_type": "code",
   "execution_count": 31,
   "metadata": {},
   "outputs": [
    {
     "name": "stdout",
     "output_type": "stream",
     "text": [
      "model performance on training set\n",
      "neighbor size - 30:  0.5712795722551185\n",
      "neighbor size - 20:  0.5821331574117482\n",
      "neighbor size - 10:  0.6216109022473322\n"
     ]
    }
   ],
   "source": [
    "print('model performance on training set')\n",
    "print('neighbor size - 30: ', mean_squared_error(train['rating'], train['predictOne']))\n",
    "print('neighbor size - 20: ', mean_squared_error(train['rating'], train['predictTwo']))\n",
    "print('neighbor size - 10: ', mean_squared_error(train['rating'], train['predictThree']))"
   ]
  },
  {
   "cell_type": "code",
   "execution_count": 32,
   "metadata": {},
   "outputs": [
    {
     "name": "stdout",
     "output_type": "stream",
     "text": [
      "model performance on validation set\n",
      "neighbor size - 30:  0.64033783953412\n",
      "neighbor size - 20:  0.6847783249081223\n",
      "neighbor size - 10:  0.8196170756782438\n"
     ]
    }
   ],
   "source": [
    "print('model performance on validation set')\n",
    "print('neighbor size - 30: ', mean_squared_error(valid['rating'], valid['predictOne']))\n",
    "print('neighbor size - 20: ', mean_squared_error(valid['rating'], valid['predictTwo']))\n",
    "print('neighbor size - 10: ', mean_squared_error(valid['rating'], valid['predictThree']))"
   ]
  },
  {
   "cell_type": "code",
   "execution_count": null,
   "metadata": {},
   "outputs": [],
   "source": []
  },
  {
   "cell_type": "markdown",
   "metadata": {},
   "source": [
    "##### according to the validation set RMSE result, we choose neighbor size = 30"
   ]
  },
  {
   "cell_type": "code",
   "execution_count": 34,
   "metadata": {},
   "outputs": [
    {
     "name": "stdout",
     "output_type": "stream",
     "text": [
      "model performance on training set\n",
      "RMSE:  0.5712795722551185\n",
      "MAE:  0.5795319505512077\n",
      "\n",
      "\n",
      "model performance on validation set\n",
      "RMSE:  0.64033783953412\n",
      "MAE:  0.6155764213949892\n"
     ]
    }
   ],
   "source": [
    "print(\"model performance on training set\")\n",
    "print('RMSE: ', mean_squared_error(train['rating'], train['predictOne']))\n",
    "print('MAE: ', mean_absolute_error(train['rating'], train['predictOne']))\n",
    "\n",
    "print(\"\\n\\nmodel performance on validation set\")\n",
    "print('RMSE: ', mean_squared_error(valid['rating'], valid['predictOne']))\n",
    "print('MAE: ', mean_absolute_error(valid['rating'], valid['predictOne']))"
   ]
  },
  {
   "cell_type": "code",
   "execution_count": 35,
   "metadata": {},
   "outputs": [
    {
     "name": "stdout",
     "output_type": "stream",
     "text": [
      "model performance on testing set\n",
      "RMSE:  0.7058404931062546\n",
      "MAE:  0.6478214709289709\n"
     ]
    }
   ],
   "source": [
    "test['predict'] = test.parallel_apply(\n",
    "    func, axis=1, dis=disOne, ind=indOne, UserItemMatrix=UserItemDF\n",
    ")\n",
    "print(\"model performance on testing set\")\n",
    "print('RMSE: ', mean_squared_error(test['rating'], test['predict']))\n",
    "print('MAE: ', mean_absolute_error(test['rating'], test['predict']))"
   ]
  },
  {
   "cell_type": "code",
   "execution_count": null,
   "metadata": {},
   "outputs": [],
   "source": []
  }
 ],
 "metadata": {
  "kernelspec": {
   "display_name": "Python 3",
   "language": "python",
   "name": "python3"
  },
  "language_info": {
   "codemirror_mode": {
    "name": "ipython",
    "version": 3
   },
   "file_extension": ".py",
   "mimetype": "text/x-python",
   "name": "python",
   "nbconvert_exporter": "python",
   "pygments_lexer": "ipython3",
   "version": "3.7.3"
  }
 },
 "nbformat": 4,
 "nbformat_minor": 2
}
